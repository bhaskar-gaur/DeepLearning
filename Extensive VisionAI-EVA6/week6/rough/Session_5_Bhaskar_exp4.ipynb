{
 "cells": [
  {
   "cell_type": "code",
   "execution_count": null,
   "metadata": {
    "id": "Aoi1te9OZtEN"
   },
   "outputs": [],
   "source": []
  },
  {
   "cell_type": "markdown",
   "metadata": {
    "id": "view-in-github"
   },
   "source": [
    "<a href=\"https://colab.research.google.com/github/MittalNeha/Extensive_Vision_AI6/blob/main/week5/Session_5_Bhaskar_exp4.ipynb\" target=\"_parent\"><img src=\"https://colab.research.google.com/assets/colab-badge.svg\" alt=\"Open In Colab\"/></a>"
   ]
  },
  {
   "cell_type": "markdown",
   "metadata": {
    "id": "QB8b8I_6zsmk"
   },
   "source": [
    "# Session 5 - Step 4\n",
    "\n",
    "## Target\n",
    "\n",
    "    99.4% (this must be consistently shown in your last few epochs, and not a one-time achievement).\n",
    "    Less than or equal to 15 Epochs.\n",
    "    Less than 10000 Parameters (additional points for doing this in less than 8000 pts).\n",
    "\n",
    "\n",
    "## Result\n",
    "    Parameter Count: 7002\n",
    "    Accuracies in this run, at 14th Epoch:\n",
    "    Training Average loss: 0.019206, Accuracy = (99.376667%)\n",
    "    Test set: Average loss: 0.016352, Accuracy: 9951/10000 (99.510000%)\n",
    "    Target achieved in 14th Epoch with 99.51%, after which it stays above 99.39% in next 5 Epochs.\n",
    "\n",
    "## Analysis\n",
    "### Model Architecture\n",
    "Tried to use the spare capacity (~1K) to increase filters in first layer, by increasing from 8 to 10/12. But this proved counterintuitive, as it somehow stopped test accuracy from going beyond 99.31%\n",
    "\n",
    "### Learning Rate Scheduling\n",
    "Used LR schedular with higher learning rates to aggresively achieve target.\n",
    "Adjusted the schedule to reduce LR when the model started deteorating at 12th Epoch.\n",
    "\n",
    "0.1 for epoch 1-9\n",
    "\n",
    "0.05 for epoch 10-12\n",
    "\n",
    "0.01 for epoch 13-14\n",
    "\n",
    "0.01 for epoch 15-19"
   ]
  },
  {
   "cell_type": "code",
   "execution_count": 1,
   "metadata": {
    "executionInfo": {
     "elapsed": 555,
     "status": "ok",
     "timestamp": 1622977305494,
     "user": {
      "displayName": "Vidhya Shankar V",
      "photoUrl": "https://lh3.googleusercontent.com/a-/AOh14GgibVFpmsqOpOYqW5r1kRBYXglwZsL14PgzsJPT=s64",
      "userId": "06672572748869395626"
     },
     "user_tz": -330
    },
    "id": "0m2JWFliFfKT"
   },
   "outputs": [],
   "source": [
    "from __future__ import print_function\n",
    "import torch\n",
    "import torch.nn as nn\n",
    "import torch.nn.functional as F\n",
    "import torch.optim as optim\n",
    "from torchvision import datasets, transforms\n"
   ]
  },
  {
   "cell_type": "code",
   "execution_count": 2,
   "metadata": {
    "executionInfo": {
     "elapsed": 24,
     "status": "ok",
     "timestamp": 1622977306115,
     "user": {
      "displayName": "Vidhya Shankar V",
      "photoUrl": "https://lh3.googleusercontent.com/a-/AOh14GgibVFpmsqOpOYqW5r1kRBYXglwZsL14PgzsJPT=s64",
      "userId": "06672572748869395626"
     },
     "user_tz": -330
    },
    "id": "xdydjYTZFyi3"
   },
   "outputs": [],
   "source": [
    "from torchsummary import summary\n",
    "use_cuda = torch.cuda.is_available()\n",
    "device = torch.device(\"cuda\" if use_cuda else \"cpu\")"
   ]
  },
  {
   "cell_type": "markdown",
   "metadata": {
    "id": "lLcSvHNI1KAh"
   },
   "source": [
    "## Model Architecture\n",
    "8 -> 16 -> MP -> (1x1) -> 8 -> 16 -> 20 -> (1x1) -> 8 -> 16 -> GAP -> Dense -> 10"
   ]
  },
  {
   "cell_type": "markdown",
   "metadata": {
    "id": "JFwhzk3EHQmo"
   },
   "source": [
    "##Download the dataset\n"
   ]
  },
  {
   "cell_type": "markdown",
   "metadata": {
    "id": "p1OjcMPGD2k3"
   },
   "source": [
    "### Data Augmentation added:\n",
    "1. Rotation: -5 to +5 degrees.\n",
    "2. Shear:    -5 to +5 degrees in x axis. (y axis shear/slant not practical for human handwriting)\n",
    "\n",
    "Rotation was added, as suggested in Class. But the quantity was reduced to 5 from 7 degrees as Shear started to further exaggerate its effect. The fill was done with -0.42 as it matches white background (found by checking minimum in individual image).\n",
    "\n",
    "\n",
    "### Data Augmentation experimented with:\n",
    "1. Translate/Shift: 10% in x and y axis.\n",
    "2. Scale: 10% in x in y axis.\n",
    "\n",
    "There are some images in dataset which are already very close to the boundry. Example which i saw was a Zero, which had its edge cut off by the vertical shift. So, these augmentations were avoided."
   ]
  },
  {
   "cell_type": "code",
   "execution_count": 3,
   "metadata": {
    "colab": {
     "base_uri": "https://localhost:8080/"
    },
    "executionInfo": {
     "elapsed": 24,
     "status": "ok",
     "timestamp": 1622977306117,
     "user": {
      "displayName": "Vidhya Shankar V",
      "photoUrl": "https://lh3.googleusercontent.com/a-/AOh14GgibVFpmsqOpOYqW5r1kRBYXglwZsL14PgzsJPT=s64",
      "userId": "06672572748869395626"
     },
     "user_tz": -330
    },
    "id": "CjPmmRG3mj5q",
    "outputId": "7f447f39-a698-42e9-e0ed-b7102207d1d8"
   },
   "outputs": [
    {
     "name": "stderr",
     "output_type": "stream",
     "text": [
      "/home/lebeast/miniconda3/envs/pytorch/lib/python3.8/site-packages/torchvision/transforms/transforms.py:1314: UserWarning: Argument resample is deprecated and will be removed since v0.10.0. Please, use interpolation instead\n",
      "  warnings.warn(\n",
      "/home/lebeast/miniconda3/envs/pytorch/lib/python3.8/site-packages/torchvision/transforms/transforms.py:1328: UserWarning: Argument fillcolor is deprecated and will be removed since v0.10.0. Please, use fill instead\n",
      "  warnings.warn(\n"
     ]
    }
   ],
   "source": [
    "# Train Phase transformations\n",
    "train_transforms = transforms.Compose([\n",
    "                                      #transforms.ToPILImage(),\n",
    "                                      #transforms.Resize((28, 28)),\n",
    "                                      #transforms.ColorJitter(brightness=0.10, contrast=0.1, saturation=0.10, hue=0.1),\n",
    "                                       #transforms.RandomRotation((-7.0, 7.0), fill=(0.13,)),\n",
    "                                       transforms.ToTensor(),\n",
    "                                       transforms.Normalize((0.1307,), (0.3081,)), # The mean and std have to be sequences (e.g., tuples), therefore you should add a comma after the values. \n",
    "                                       # Note the difference between (0.1307) and (0.1307,)\n",
    "                                       #transforms.RandomRotation((-5.0, 5.0), fill=(-0.42,)),\n",
    "                                       transforms.RandomAffine((-5,5), translate=None, scale=None, shear=5, resample=False, fillcolor=(-0.42,))\n",
    "                                       ])\n",
    "\n",
    "# Test Phase transformations\n",
    "test_transforms = transforms.Compose([\n",
    "                                      #  transforms.Resize((28, 28)),\n",
    "                                      #  transforms.ColorJitter(brightness=0.10, contrast=0.1, saturation=0.10, hue=0.1),\n",
    "                                       transforms.ToTensor(),\n",
    "                                       transforms.Normalize((0.1307,), (0.3081,))\n",
    "                                       ])"
   ]
  },
  {
   "cell_type": "code",
   "execution_count": 4,
   "metadata": {
    "executionInfo": {
     "elapsed": 15,
     "status": "ok",
     "timestamp": 1622977306118,
     "user": {
      "displayName": "Vidhya Shankar V",
      "photoUrl": "https://lh3.googleusercontent.com/a-/AOh14GgibVFpmsqOpOYqW5r1kRBYXglwZsL14PgzsJPT=s64",
      "userId": "06672572748869395626"
     },
     "user_tz": -330
    },
    "id": "kANEvtR1mxH3"
   },
   "outputs": [
    {
     "name": "stdout",
     "output_type": "stream",
     "text": [
      "Downloading http://yann.lecun.com/exdb/mnist/train-images-idx3-ubyte.gz\n",
      "Failed to download (trying next):\n",
      "HTTP Error 503: Service Unavailable\n",
      "\n",
      "Downloading https://ossci-datasets.s3.amazonaws.com/mnist/train-images-idx3-ubyte.gz\n",
      "Downloading https://ossci-datasets.s3.amazonaws.com/mnist/train-images-idx3-ubyte.gz to ./data/MNIST/raw/train-images-idx3-ubyte.gz\n"
     ]
    },
    {
     "data": {
      "application/vnd.jupyter.widget-view+json": {
       "model_id": "56863484c5334bc88a0939a1b28af408",
       "version_major": 2,
       "version_minor": 0
      },
      "text/plain": [
       "  0%|          | 0/9912422 [00:00<?, ?it/s]"
      ]
     },
     "metadata": {},
     "output_type": "display_data"
    },
    {
     "name": "stdout",
     "output_type": "stream",
     "text": [
      "Extracting ./data/MNIST/raw/train-images-idx3-ubyte.gz to ./data/MNIST/raw\n",
      "\n",
      "Downloading http://yann.lecun.com/exdb/mnist/train-labels-idx1-ubyte.gz\n",
      "Failed to download (trying next):\n",
      "HTTP Error 503: Service Unavailable\n",
      "\n",
      "Downloading https://ossci-datasets.s3.amazonaws.com/mnist/train-labels-idx1-ubyte.gz\n",
      "Downloading https://ossci-datasets.s3.amazonaws.com/mnist/train-labels-idx1-ubyte.gz to ./data/MNIST/raw/train-labels-idx1-ubyte.gz\n"
     ]
    },
    {
     "data": {
      "application/vnd.jupyter.widget-view+json": {
       "model_id": "7accef33b0534548bbff4c4b258178b8",
       "version_major": 2,
       "version_minor": 0
      },
      "text/plain": [
       "  0%|          | 0/28881 [00:00<?, ?it/s]"
      ]
     },
     "metadata": {},
     "output_type": "display_data"
    },
    {
     "name": "stdout",
     "output_type": "stream",
     "text": [
      "Extracting ./data/MNIST/raw/train-labels-idx1-ubyte.gz to ./data/MNIST/raw\n",
      "\n",
      "Downloading http://yann.lecun.com/exdb/mnist/t10k-images-idx3-ubyte.gz\n",
      "Failed to download (trying next):\n",
      "HTTP Error 503: Service Unavailable\n",
      "\n",
      "Downloading https://ossci-datasets.s3.amazonaws.com/mnist/t10k-images-idx3-ubyte.gz\n",
      "Downloading https://ossci-datasets.s3.amazonaws.com/mnist/t10k-images-idx3-ubyte.gz to ./data/MNIST/raw/t10k-images-idx3-ubyte.gz\n"
     ]
    },
    {
     "data": {
      "application/vnd.jupyter.widget-view+json": {
       "model_id": "bc928a24ce8f4abba30c27da0e7cfdfd",
       "version_major": 2,
       "version_minor": 0
      },
      "text/plain": [
       "  0%|          | 0/1648877 [00:00<?, ?it/s]"
      ]
     },
     "metadata": {},
     "output_type": "display_data"
    },
    {
     "name": "stdout",
     "output_type": "stream",
     "text": [
      "Extracting ./data/MNIST/raw/t10k-images-idx3-ubyte.gz to ./data/MNIST/raw\n",
      "\n",
      "Downloading http://yann.lecun.com/exdb/mnist/t10k-labels-idx1-ubyte.gz\n",
      "Failed to download (trying next):\n",
      "HTTP Error 503: Service Unavailable\n",
      "\n",
      "Downloading https://ossci-datasets.s3.amazonaws.com/mnist/t10k-labels-idx1-ubyte.gz\n",
      "Downloading https://ossci-datasets.s3.amazonaws.com/mnist/t10k-labels-idx1-ubyte.gz to ./data/MNIST/raw/t10k-labels-idx1-ubyte.gz\n"
     ]
    },
    {
     "data": {
      "application/vnd.jupyter.widget-view+json": {
       "model_id": "68f74e562725429b9a802fd6104fd964",
       "version_major": 2,
       "version_minor": 0
      },
      "text/plain": [
       "  0%|          | 0/4542 [00:00<?, ?it/s]"
      ]
     },
     "metadata": {},
     "output_type": "display_data"
    },
    {
     "name": "stdout",
     "output_type": "stream",
     "text": [
      "Extracting ./data/MNIST/raw/t10k-labels-idx1-ubyte.gz to ./data/MNIST/raw\n",
      "\n",
      "Processing...\n",
      "Done!\n"
     ]
    },
    {
     "name": "stderr",
     "output_type": "stream",
     "text": [
      "/home/lebeast/miniconda3/envs/pytorch/lib/python3.8/site-packages/torchvision/datasets/mnist.py:502: UserWarning: The given NumPy array is not writeable, and PyTorch does not support non-writeable tensors. This means you can write to the underlying (supposedly non-writeable) NumPy array using the tensor. You may want to copy the array to protect its data or make it writeable before converting it to a tensor. This type of warning will be suppressed for the rest of this program. (Triggered internally at  /opt/conda/conda-bld/pytorch_1616554793803/work/torch/csrc/utils/tensor_numpy.cpp:143.)\n",
      "  return torch.from_numpy(parsed.astype(m[2], copy=False)).view(*s)\n"
     ]
    }
   ],
   "source": [
    "train = datasets.MNIST('./data', train=True, download=True, transform=train_transforms)\n",
    "test = datasets.MNIST('./data', train=False, download=True, transform=test_transforms)"
   ]
  },
  {
   "cell_type": "code",
   "execution_count": 5,
   "metadata": {
    "colab": {
     "base_uri": "https://localhost:8080/"
    },
    "executionInfo": {
     "elapsed": 14,
     "status": "ok",
     "timestamp": 1622977306119,
     "user": {
      "displayName": "Vidhya Shankar V",
      "photoUrl": "https://lh3.googleusercontent.com/a-/AOh14GgibVFpmsqOpOYqW5r1kRBYXglwZsL14PgzsJPT=s64",
      "userId": "06672572748869395626"
     },
     "user_tz": -330
    },
    "id": "QoPTYiyim9dq",
    "outputId": "31af216e-91e2-407f-e8aa-befb3cea8e31"
   },
   "outputs": [
    {
     "name": "stdout",
     "output_type": "stream",
     "text": [
      "CUDA Available? True\n"
     ]
    }
   ],
   "source": [
    "SEED = 1\n",
    "\n",
    "# CUDA?\n",
    "cuda = torch.cuda.is_available()\n",
    "print(\"CUDA Available?\", cuda)\n",
    "\n",
    "# For reproducibility\n",
    "torch.manual_seed(SEED)\n",
    "\n",
    "if cuda:\n",
    "    torch.cuda.manual_seed(SEED)\n",
    "\n",
    "# dataloader arguments - something you'll fetch these from cmdprmt\n",
    "dataloader_args = dict(shuffle=True, batch_size=64, num_workers=4, pin_memory=True) if cuda else dict(shuffle=True, batch_size=64)\n",
    "\n",
    "# train dataloader\n",
    "train_loader = torch.utils.data.DataLoader(train, **dataloader_args)\n",
    "\n",
    "# test dataloader\n",
    "test_loader = torch.utils.data.DataLoader(test, **dataloader_args)"
   ]
  },
  {
   "cell_type": "code",
   "execution_count": 6,
   "metadata": {
    "colab": {
     "base_uri": "https://localhost:8080/",
     "height": 536
    },
    "executionInfo": {
     "elapsed": 4376,
     "status": "ok",
     "timestamp": 1622977311984,
     "user": {
      "displayName": "Vidhya Shankar V",
      "photoUrl": "https://lh3.googleusercontent.com/a-/AOh14GgibVFpmsqOpOYqW5r1kRBYXglwZsL14PgzsJPT=s64",
      "userId": "06672572748869395626"
     },
     "user_tz": -330
    },
    "id": "wJDurWrUngdJ",
    "outputId": "05a61763-5d43-47b6-ed57-eedc36faf6bf"
   },
   "outputs": [
    {
     "name": "stderr",
     "output_type": "stream",
     "text": [
      "/home/lebeast/miniconda3/envs/pytorch/lib/python3.8/site-packages/torchvision/datasets/mnist.py:64: UserWarning: train_data has been renamed data\n",
      "  warnings.warn(\"train_data has been renamed data\")\n"
     ]
    },
    {
     "name": "stdout",
     "output_type": "stream",
     "text": [
      "[Train]\n",
      " - Numpy Shape: (60000, 28, 28)\n",
      " - Tensor Shape: torch.Size([60000, 28, 28])\n",
      " - min: tensor(-0.4242)\n",
      " - max: tensor(2.8215)\n",
      " - mean: tensor(-0.3901)\n",
      " - std: tensor(0.2874)\n",
      " - var: tensor(0.0826)\n",
      "torch.Size([64, 1, 28, 28])\n",
      "torch.Size([64])\n"
     ]
    },
    {
     "data": {
      "text/plain": [
       "<matplotlib.image.AxesImage at 0x7fc2fa32dd60>"
      ]
     },
     "execution_count": 6,
     "metadata": {},
     "output_type": "execute_result"
    },
    {
     "data": {
      "image/png": "[encoded data removed]",
      "text/plain": [
       "<Figure size 432x288 with 1 Axes>"
      ]
     },
     "metadata": {
      "needs_background": "light"
     },
     "output_type": "display_data"
    }
   ],
   "source": [
    "# We'd need to convert it into Numpy! Remember above we have converted it into tensors already\n",
    "train_data = train.train_data\n",
    "train_data = train.transform(train_data.numpy())\n",
    "\n",
    "print('[Train]')\n",
    "print(' - Numpy Shape:', train.train_data.cpu().numpy().shape)\n",
    "print(' - Tensor Shape:', train.train_data.size())\n",
    "print(' - min:', torch.min(train_data))\n",
    "print(' - max:', torch.max(train_data))\n",
    "print(' - mean:', torch.mean(train_data))\n",
    "print(' - std:', torch.std(train_data))\n",
    "print(' - var:', torch.var(train_data))\n",
    "\n",
    "dataiter = iter(train_loader)\n",
    "images, labels = dataiter.next()\n",
    "\n",
    "print(images.shape)\n",
    "print(labels.shape)\n",
    "\n",
    "# Let's visualize some of the images\n",
    "%matplotlib inline\n",
    "import matplotlib.pyplot as plt\n",
    "\n",
    "plt.imshow(images[0].numpy().squeeze(), cmap='gray_r')\n"
   ]
  },
  {
   "cell_type": "code",
   "execution_count": 7,
   "metadata": {
    "colab": {
     "base_uri": "https://localhost:8080/",
     "height": 248
    },
    "executionInfo": {
     "elapsed": 2882,
     "status": "ok",
     "timestamp": 1622977317512,
     "user": {
      "displayName": "Vidhya Shankar V",
      "photoUrl": "https://lh3.googleusercontent.com/a-/AOh14GgibVFpmsqOpOYqW5r1kRBYXglwZsL14PgzsJPT=s64",
      "userId": "06672572748869395626"
     },
     "user_tz": -330
    },
    "id": "0KMoo8_yngPE",
    "outputId": "84c2368e-10d7-43dd-afe8-d211a70d0024"
   },
   "outputs": [
    {
     "data": {
      "image/png": "[encoded data removed]",
      "text/plain": [
       "<Figure size 432x288 with 64 Axes>"
      ]
     },
     "metadata": {
      "needs_background": "light"
     },
     "output_type": "display_data"
    }
   ],
   "source": [
    "figure = plt.figure()\n",
    "num_of_images = 64\n",
    "for index in range(1, num_of_images + 1):\n",
    "    plt.subplot(8, 8, index)\n",
    "    plt.axis('off')\n",
    "    plt.imshow(images[index-1].numpy().squeeze(), cmap='gray_r')"
   ]
  },
  {
   "cell_type": "code",
   "execution_count": 8,
   "metadata": {
    "colab": {
     "base_uri": "https://localhost:8080/"
    },
    "executionInfo": {
     "elapsed": 597,
     "status": "ok",
     "timestamp": 1622977318101,
     "user": {
      "displayName": "Vidhya Shankar V",
      "photoUrl": "https://lh3.googleusercontent.com/a-/AOh14GgibVFpmsqOpOYqW5r1kRBYXglwZsL14PgzsJPT=s64",
      "userId": "06672572748869395626"
     },
     "user_tz": -330
    },
    "id": "pUDVTJ48ngEU",
    "outputId": "c3071280-6dc5-48d9-caad-a5d6bcc66224"
   },
   "outputs": [
    {
     "name": "stdout",
     "output_type": "stream",
     "text": [
      "[Train]\n",
      " - Numpy Shape: (60000, 28, 28)\n",
      " - Tensor Shape: torch.Size([60000, 28, 28])\n",
      " - min: tensor(0.)\n",
      " - max: tensor(1.)\n",
      " - mean: tensor(0.1307)\n",
      " - std: tensor(0.3081)\n",
      " - var: tensor(0.0949)\n"
     ]
    },
    {
     "name": "stderr",
     "output_type": "stream",
     "text": [
      "/home/lebeast/miniconda3/envs/pytorch/lib/python3.8/site-packages/torchvision/datasets/mnist.py:64: UserWarning: train_data has been renamed data\n",
      "  warnings.warn(\"train_data has been renamed data\")\n"
     ]
    }
   ],
   "source": [
    "# simple transform\n",
    "simple_transforms = transforms.Compose([\n",
    "                                      #  transforms.Resize((28, 28)),\n",
    "                                      #  transforms.ColorJitter(brightness=0.10, contrast=0.1, saturation=0.10, hue=0.1),\n",
    "                                       transforms.ToTensor(),\n",
    "                                      #  transforms.Normalize((0.1307,), (0.3081,)) # The mean and std have to be sequences (e.g., tuples), therefore you should add a comma after the values. \n",
    "                                       # Note the difference between (0.1307) and (0.1307,)\n",
    "                                       ])\n",
    "exp = datasets.MNIST('./data', train=True, download=True, transform=simple_transforms)\n",
    "exp_data = exp.train_data\n",
    "exp_data = exp.transform(exp_data.numpy())\n",
    "\n",
    "print('[Train]')\n",
    "print(' - Numpy Shape:', exp.train_data.cpu().numpy().shape)\n",
    "print(' - Tensor Shape:', exp.train_data.size())\n",
    "print(' - min:', torch.min(exp_data))\n",
    "print(' - max:', torch.max(exp_data))\n",
    "print(' - mean:', torch.mean(exp_data))\n",
    "print(' - std:', torch.std(exp_data))\n",
    "print(' - var:', torch.var(exp_data))"
   ]
  },
  {
   "cell_type": "markdown",
   "metadata": {
    "id": "GW1hg9jJGnui"
   },
   "source": [
    "## Utility Functions"
   ]
  },
  {
   "cell_type": "code",
   "execution_count": 9,
   "metadata": {
    "executionInfo": {
     "elapsed": 361,
     "status": "ok",
     "timestamp": 1622977410804,
     "user": {
      "displayName": "Vidhya Shankar V",
      "photoUrl": "https://lh3.googleusercontent.com/a-/AOh14GgibVFpmsqOpOYqW5r1kRBYXglwZsL14PgzsJPT=s64",
      "userId": "06672572748869395626"
     },
     "user_tz": -330
    },
    "id": "33sbb1Eno30W"
   },
   "outputs": [],
   "source": [
    "# from tqdm.notebook import tqdm\n",
    "\n",
    "#Use scheduler\n",
    "def train(model, device, train_loader, optimizer, epoch):\n",
    "    model.train()\n",
    "    # pbar = tqdm(train_loader)\n",
    "    train_loss = 0\n",
    "    correct = 0\n",
    "    num_loops = 0\n",
    "    # for batch_idx, (data, target) in enumerate(pbar):\n",
    "    for batch_idx, (data, target) in enumerate(train_loader):\n",
    "        data, target = data.to(device), target.to(device)\n",
    "        optimizer.zero_grad()\n",
    "        output = model(data)\n",
    "        loss = F.nll_loss(output, target)\n",
    "        loss.backward()\n",
    "        optimizer.step()\n",
    "        # pbar.set_description(desc= f'loss={loss.item()} batch_id={batch_idx}')\n",
    "        train_loss += loss.item()\n",
    "        pred = output.argmax(dim=1, keepdim=True)  # get the index of the max log-probability\n",
    "        correct += pred.eq(target.view_as(pred)).sum().item()\n",
    "        num_loops +=1\n",
    " \n",
    "    train_loss /= num_loops\n",
    "    # scheduler.step()\n",
    "    # scheduler.step(train_loss)\n",
    "    hist_train_loss.append(train_loss)\n",
    "    hist_train_acc.append(100. * correct / len(train_loader.dataset))\n",
    "    print(\"Training Average loss: {:.6f}, Accuracy = ({:.6f}%)\".format(train_loss, 100. * correct / len(train_loader.dataset)))\n",
    "\n",
    "def test(model, device, test_loader):\n",
    "    model.eval()\n",
    "    test_loss = 0\n",
    "    correct = 0\n",
    "    with torch.no_grad():\n",
    "        for data, target in test_loader:\n",
    "            data, target = data.to(device), target.to(device)\n",
    "            output = model(data)\n",
    "            test_loss += F.nll_loss(output, target, reduction='sum').item()  # sum up batch loss\n",
    "            pred = output.argmax(dim=1, keepdim=True)  # get the index of the max log-probability\n",
    "            correct += pred.eq(target.view_as(pred)).sum().item()\n",
    "\n",
    "    test_loss /= len(test_loader.dataset)\n",
    "    hist_test_loss.append(test_loss)\n",
    "    hist_test_acc.append(100. * correct / len(test_loader.dataset))\n",
    "\n",
    "    print('Test set: Average loss: {:.6f}, Accuracy: {}/{} ({:.6f}%)\\n'.format(\n",
    "        test_loss, correct, len(test_loader.dataset),\n",
    "        100. * correct / len(test_loader.dataset)))"
   ]
  },
  {
   "cell_type": "markdown",
   "metadata": {
    "id": "_n6YZDbGHhM6"
   },
   "source": [
    "# Model\n",
    "\n",
    "Uses Dropout of 0.05 at every layer.\n",
    "\n",
    "Uses BatchNormalization.\n",
    "\n",
    "Uses fully connected after GAP at final layer.\n",
    "\n"
   ]
  },
  {
   "cell_type": "code",
   "execution_count": 10,
   "metadata": {
    "colab": {
     "base_uri": "https://localhost:8080/"
    },
    "executionInfo": {
     "elapsed": 343,
     "status": "ok",
     "timestamp": 1622977413085,
     "user": {
      "displayName": "Vidhya Shankar V",
      "photoUrl": "https://lh3.googleusercontent.com/a-/AOh14GgibVFpmsqOpOYqW5r1kRBYXglwZsL14PgzsJPT=s64",
      "userId": "06672572748869395626"
     },
     "user_tz": -330
    },
    "id": "3jrsELpw_B9-",
    "outputId": "66bd5030-57fc-4643-b5a5-773963465758"
   },
   "outputs": [
    {
     "name": "stdout",
     "output_type": "stream",
     "text": [
      "----------------------------------------------------------------\n",
      "        Layer (type)               Output Shape         Param #\n",
      "================================================================\n",
      "            Conv2d-1            [-1, 8, 26, 26]              72\n",
      "              ReLU-2            [-1, 8, 26, 26]               0\n",
      "         LayerNorm-3            [-1, 8, 26, 26]          10,816\n",
      "         MaxPool2d-4            [-1, 8, 13, 13]               0\n",
      "            Conv2d-5           [-1, 16, 11, 11]           1,152\n",
      "              ReLU-6           [-1, 16, 11, 11]               0\n",
      "         LayerNorm-7           [-1, 16, 11, 11]           3,872\n",
      "         MaxPool2d-8             [-1, 16, 5, 5]               0\n",
      "            Conv2d-9             [-1, 16, 3, 3]           2,304\n",
      "             ReLU-10             [-1, 16, 3, 3]               0\n",
      "        LayerNorm-11             [-1, 16, 3, 3]             288\n",
      "        AvgPool2d-12             [-1, 16, 1, 1]               0\n",
      "           Linear-13                   [-1, 10]             170\n",
      "================================================================\n",
      "Total params: 18,674\n",
      "Trainable params: 18,674\n",
      "Non-trainable params: 0\n",
      "----------------------------------------------------------------\n",
      "Input size (MB): 0.00\n",
      "Forward/backward pass size (MB): 0.18\n",
      "Params size (MB): 0.07\n",
      "Estimated Total Size (MB): 0.26\n",
      "----------------------------------------------------------------\n"
     ]
    }
   ],
   "source": [
    "dropout_value = 0.05\n",
    "class Net1(nn.Module):\n",
    "    def __init__(self):\n",
    "        super(Net1, self).__init__()\n",
    "\n",
    "        # Input Block\n",
    "        self.convblock1 = nn.Sequential(\n",
    "            nn.Conv2d(in_channels=1, out_channels=8, kernel_size=(3, 3), padding=0, bias=False), #\n",
    "            nn.ReLU(),\n",
    "            # LNorm()\n",
    "            nn.LayerNorm((8,26,26)),\n",
    "            # nn.BatchNorm2d(8),\n",
    "        ) # output_size = 26\n",
    "\n",
    "        # TRANSITION BLOCK 1\n",
    "        self.pool1 = nn.MaxPool2d(2, 2) # output_size = 13\n",
    "\n",
    "        # CONVOLUTION BLOCK 2\n",
    "        self.convblock2 = nn.Sequential(\n",
    "            nn.Conv2d(in_channels=8, out_channels=16, kernel_size=(3, 3), padding=0, bias=False),\n",
    "            nn.ReLU(),\n",
    "            nn.LayerNorm((16,11,11)),\n",
    "            # nn.BatchNorm2d(16),\n",
    "        ) # output_size = 11\n",
    "\n",
    "        # TRANSITION BLOCK 2\n",
    "        self.pool2 = nn.MaxPool2d(2, 2) # output_size = 6\n",
    "\n",
    "        self.convblock3 = nn.Sequential(\n",
    "            nn.Conv2d(in_channels=16, out_channels=16, kernel_size=(3, 3), padding=0, bias=False),\n",
    "            nn.ReLU(),\n",
    "            # nn.BatchNorm2d(20),\n",
    "            nn.LayerNorm((16,3,3)),\n",
    "        ) # output_size = 4\n",
    "\n",
    "        self.gap = nn.Sequential(\n",
    "            nn.AvgPool2d(kernel_size=3)\n",
    "        ) # output_size = 1\n",
    "\n",
    "        self.fc1 = nn.Linear(16, 10)\n",
    "    \n",
    "\n",
    "\n",
    "    def forward(self, x):\n",
    "        x = self.convblock1(x)\n",
    "        x = self.pool1(x)\n",
    "        x = self.convblock2(x)\n",
    "        x = self.pool2(x)\n",
    "        x = self.convblock3(x)\n",
    "\n",
    "        x = self.gap(x)\n",
    "        x = x.view(-1, x.shape[1]*x.shape[2]*x.shape[3])\n",
    "        x = self.fc1(x)\n",
    "        x = x.view(-1, 10)\n",
    "        return F.log_softmax(x, dim=-1)\n",
    "\n",
    "model = Net1().to(device)\n",
    "summary(model, input_size=(1, 28, 28))"
   ]
  },
  {
   "cell_type": "code",
   "execution_count": 11,
   "metadata": {
    "executionInfo": {
     "elapsed": 857,
     "status": "ok",
     "timestamp": 1622967740152,
     "user": {
      "displayName": "Vidhya Shankar V",
      "photoUrl": "https://lh3.googleusercontent.com/a-/AOh14GgibVFpmsqOpOYqW5r1kRBYXglwZsL14PgzsJPT=s64",
      "userId": "06672572748869395626"
     },
     "user_tz": -330
    },
    "id": "fcgUcqxwRsB7"
   },
   "outputs": [],
   "source": [
    "# from __future__ import print_function\n",
    "# import torch\n",
    "# import torch.nn as nn\n",
    "# import torch.nn.functional as F\n",
    "# import torch.optim as optim\n",
    "# from torchvision import datasets, transforms\n",
    "# from torchsummary import summary\n",
    "# use_cuda = torch.cuda.is_available()\n",
    "# device = torch.device(\"cuda\" if use_cuda else \"cpu\")"
   ]
  },
  {
   "cell_type": "code",
   "execution_count": 12,
   "metadata": {
    "executionInfo": {
     "elapsed": 5,
     "status": "ok",
     "timestamp": 1622967740153,
     "user": {
      "displayName": "Vidhya Shankar V",
      "photoUrl": "https://lh3.googleusercontent.com/a-/AOh14GgibVFpmsqOpOYqW5r1kRBYXglwZsL14PgzsJPT=s64",
      "userId": "06672572748869395626"
     },
     "user_tz": -330
    },
    "id": "_gIIwu3HMahy"
   },
   "outputs": [],
   "source": [
    "# class GetLNorm(nn.Module):\n",
    "#   def __init__(self):\n",
    "#     super(GetLNorm, self).__init__()\n",
    "    \n",
    "#   def forward(self, x):\n",
    "#     m = nn.LayerNorm(x.size()[1:])\n",
    "#     print(m)\n",
    "#     return m(x).to(device)"
   ]
  },
  {
   "cell_type": "code",
   "execution_count": 13,
   "metadata": {
    "executionInfo": {
     "elapsed": 5,
     "status": "ok",
     "timestamp": 1622967740154,
     "user": {
      "displayName": "Vidhya Shankar V",
      "photoUrl": "https://lh3.googleusercontent.com/a-/AOh14GgibVFpmsqOpOYqW5r1kRBYXglwZsL14PgzsJPT=s64",
      "userId": "06672572748869395626"
     },
     "user_tz": -330
    },
    "id": "pH2gDbmPL90l"
   },
   "outputs": [],
   "source": [
    "# class PrintSize(nn.Module):\n",
    "#   def __init__(self):\n",
    "#     super(PrintSize, self).__init__()\n",
    "    \n",
    "#   def forward(self, x):\n",
    "#     print(x.shape)\n",
    "#     return x"
   ]
  },
  {
   "cell_type": "code",
   "execution_count": 14,
   "metadata": {
    "executionInfo": {
     "elapsed": 1,
     "status": "ok",
     "timestamp": 1622967740632,
     "user": {
      "displayName": "Vidhya Shankar V",
      "photoUrl": "https://lh3.googleusercontent.com/a-/AOh14GgibVFpmsqOpOYqW5r1kRBYXglwZsL14PgzsJPT=s64",
      "userId": "06672572748869395626"
     },
     "user_tz": -330
    },
    "id": "7M6Amr8kVigP"
   },
   "outputs": [],
   "source": [
    "# class LNorm(nn.Module):\n",
    "#     def forward(self, x):\n",
    "#         print(x.size())\n",
    "#         m = x.size()[1:]\n",
    "#         m = nn.LayerNorm(m)\n",
    "#         print(m)\n",
    "#         return x"
   ]
  },
  {
   "cell_type": "code",
   "execution_count": 15,
   "metadata": {
    "executionInfo": {
     "elapsed": 3,
     "status": "ok",
     "timestamp": 1622967741148,
     "user": {
      "displayName": "Vidhya Shankar V",
      "photoUrl": "https://lh3.googleusercontent.com/a-/AOh14GgibVFpmsqOpOYqW5r1kRBYXglwZsL14PgzsJPT=s64",
      "userId": "06672572748869395626"
     },
     "user_tz": -330
    },
    "id": "jlqwMEtdZDEF"
   },
   "outputs": [],
   "source": [
    "\n",
    "# def LNorm1(x):\n",
    "#     print(x.size())\n",
    "#     ip_size = x.size()[1:]\n",
    "    \n",
    "#     m= nn.LayerNorm(ip_size)\n",
    "#     print(m)\n",
    "#     return m(x)"
   ]
  },
  {
   "cell_type": "code",
   "execution_count": 16,
   "metadata": {
    "executionInfo": {
     "elapsed": 2,
     "status": "ok",
     "timestamp": 1622967741526,
     "user": {
      "displayName": "Vidhya Shankar V",
      "photoUrl": "https://lh3.googleusercontent.com/a-/AOh14GgibVFpmsqOpOYqW5r1kRBYXglwZsL14PgzsJPT=s64",
      "userId": "06672572748869395626"
     },
     "user_tz": -330
    },
    "id": "BAPDgTteUZxf"
   },
   "outputs": [],
   "source": [
    "# class Print(nn.Module):\n",
    "#     def forward(self, x):\n",
    "#         print(x.size())\n",
    "#         m = x.size()[1:]\n",
    "#         print(m)\n",
    "#         nn.LayerNorm(m)\n",
    "#         return x"
   ]
  },
  {
   "cell_type": "code",
   "execution_count": 17,
   "metadata": {
    "colab": {
     "base_uri": "https://localhost:8080/"
    },
    "executionInfo": {
     "elapsed": 2662,
     "status": "ok",
     "timestamp": 1622967745324,
     "user": {
      "displayName": "Vidhya Shankar V",
      "photoUrl": "https://lh3.googleusercontent.com/a-/AOh14GgibVFpmsqOpOYqW5r1kRBYXglwZsL14PgzsJPT=s64",
      "userId": "06672572748869395626"
     },
     "user_tz": -330
    },
    "id": "sZlbgUThtZ2n",
    "outputId": "b0af153b-70a5-4d35-9738-5c8c47bdf1dd"
   },
   "outputs": [],
   "source": [
    "# dropout_value = 0.05\n",
    "# class Net3_1(nn.Module):\n",
    "#     def __init__(self):\n",
    "#         super(Net3_1, self).__init__()\n",
    "#         # Input Block\n",
    "#         self.convblock1 = nn.Sequential(\n",
    "#             nn.Conv2d(in_channels=1, out_channels=8, kernel_size=(3, 3), padding=0, bias=False), #\n",
    "#             nn.ReLU(),\n",
    "#             # LNorm()\n",
    "#             # nn.LayerNorm((8,26,26))\n",
    "#             # nn.BatchNorm2d(8),\n",
    "#             nn.Dropout(dropout_value)\n",
    "#         ) # output_size = 26\n",
    "\n",
    "\n",
    "#         # CONVOLUTION BLOCK 1\n",
    "#         self.convblock2 = nn.Sequential(\n",
    "#             nn.Conv2d(in_channels=8, out_channels=16, kernel_size=(3, 3), padding=0, bias=False),\n",
    "#             nn.ReLU(),\n",
    "#             # LNorm(),\n",
    "#             # nn.BatchNorm2d(16),\n",
    "#             # GetLNorm(),\n",
    "#             nn.Dropout(dropout_value)\n",
    "#         ) # output_size = 24\n",
    "\n",
    "#         # TRANSITION BLOCK 1\n",
    "#         self.pool1 = nn.MaxPool2d(2, 2) # output_size = 11\n",
    "#         self.convblock4 = nn.Sequential(\n",
    "#             nn.Conv2d(in_channels=16, out_channels=8, kernel_size=(1, 1), padding=0, bias=False),\n",
    "#             nn.ReLU(),\n",
    "            \n",
    "#         ) # output_size = 12\n",
    "\n",
    "#         # CONVOLUTION BLOCK 2\n",
    "#         self.convblock5 = nn.Sequential(\n",
    "#             nn.Conv2d(in_channels=8, out_channels=16, kernel_size=(3, 3), padding=0, bias=False),\n",
    "#             nn.ReLU(),\n",
    "#             nn.BatchNorm2d(16),\n",
    "#             nn.Dropout(dropout_value)\n",
    "#         ) # output_size = 10\n",
    "#         self.convblock6 = nn.Sequential(\n",
    "#             nn.Conv2d(in_channels=16, out_channels=20, kernel_size=(3, 3), padding=0, bias=False),\n",
    "#             nn.ReLU(),\n",
    "#             nn.BatchNorm2d(20),\n",
    "#             nn.Dropout(dropout_value)\n",
    "#         ) # output_size = 8\n",
    "\n",
    "#         # \n",
    "#         self.convblock7 = nn.Sequential(\n",
    "#             nn.Conv2d(in_channels=20, out_channels=8, kernel_size=(1, 1), padding=0, bias=False),\n",
    "#             nn.ReLU(),\n",
    "#             nn.BatchNorm2d(8),\n",
    "#             nn.Dropout(dropout_value)\n",
    "#         ) # output_size = 8\n",
    "\n",
    "#         # OUTPUT BLOCK\n",
    "#         self.convblock8 = nn.Sequential(\n",
    "#             nn.Conv2d(in_channels=8, out_channels=16, kernel_size=(3, 3), padding=0, bias=False),\n",
    "#             nn.ReLU()\n",
    "#         ) # output_size = 6\n",
    "\n",
    "#         self.gap = nn.Sequential(\n",
    "#             nn.AvgPool2d(kernel_size=6)\n",
    "#         ) # output_size = 1\n",
    "\n",
    "#         self.fc1 = nn.Linear(16, 10)\n",
    "    \n",
    "\n",
    "\n",
    "#     def forward(self, x):\n",
    "#         x = self.convblock1(x)\n",
    "#         print(x.shape)\n",
    "#         # x = LNorm1(x)\n",
    "#         x = self.convblock2(x)\n",
    "#         #x = self.convblock3(x)\n",
    "#         x = self.pool1(x)\n",
    "#         x = self.convblock4(x)\n",
    "#         x = self.convblock5(x)\n",
    "#         x = self.convblock6(x)\n",
    "#         x = self.convblock7(x)\n",
    "#         x = self.convblock8(x)\n",
    "#         x = self.gap(x)\n",
    "#         x = x.view(-1, x.shape[1]*x.shape[2]*x.shape[3])\n",
    "#         x = self.fc1(x)\n",
    "#         x = x.view(-1, 10)\n",
    "#         return F.log_softmax(x, dim=-1)\n",
    "\n",
    "# model = Net3_1().to(device)\n",
    "# summary(model, input_size=(1, 28, 28))"
   ]
  },
  {
   "cell_type": "code",
   "execution_count": 18,
   "metadata": {
    "colab": {
     "base_uri": "https://localhost:8080/"
    },
    "executionInfo": {
     "elapsed": 344,
     "status": "ok",
     "timestamp": 1622977426886,
     "user": {
      "displayName": "Vidhya Shankar V",
      "photoUrl": "https://lh3.googleusercontent.com/a-/AOh14GgibVFpmsqOpOYqW5r1kRBYXglwZsL14PgzsJPT=s64",
      "userId": "06672572748869395626"
     },
     "user_tz": -330
    },
    "id": "D75VZ-0aZyDb",
    "outputId": "3b2765a3-8106-47b3-abc3-ab7f61a761bc"
   },
   "outputs": [
    {
     "data": {
      "text/plain": [
       "Net1(\n",
       "  (convblock1): Sequential(\n",
       "    (0): Conv2d(1, 8, kernel_size=(3, 3), stride=(1, 1), bias=False)\n",
       "    (1): ReLU()\n",
       "    (2): LayerNorm((8, 26, 26), eps=1e-05, elementwise_affine=True)\n",
       "  )\n",
       "  (pool1): MaxPool2d(kernel_size=2, stride=2, padding=0, dilation=1, ceil_mode=False)\n",
       "  (convblock2): Sequential(\n",
       "    (0): Conv2d(8, 16, kernel_size=(3, 3), stride=(1, 1), bias=False)\n",
       "    (1): ReLU()\n",
       "    (2): LayerNorm((16, 11, 11), eps=1e-05, elementwise_affine=True)\n",
       "  )\n",
       "  (pool2): MaxPool2d(kernel_size=2, stride=2, padding=0, dilation=1, ceil_mode=False)\n",
       "  (convblock3): Sequential(\n",
       "    (0): Conv2d(16, 16, kernel_size=(3, 3), stride=(1, 1), bias=False)\n",
       "    (1): ReLU()\n",
       "    (2): LayerNorm((16, 3, 3), eps=1e-05, elementwise_affine=True)\n",
       "  )\n",
       "  (gap): Sequential(\n",
       "    (0): AvgPool2d(kernel_size=3, stride=3, padding=0)\n",
       "  )\n",
       "  (fc1): Linear(in_features=16, out_features=10, bias=True)\n",
       ")"
      ]
     },
     "execution_count": 18,
     "metadata": {},
     "output_type": "execute_result"
    }
   ],
   "source": [
    "model"
   ]
  },
  {
   "cell_type": "markdown",
   "metadata": {
    "id": "yEljUkWNHltt"
   },
   "source": [
    "# Training"
   ]
  },
  {
   "cell_type": "code",
   "execution_count": 19,
   "metadata": {
    "executionInfo": {
     "elapsed": 356,
     "status": "ok",
     "timestamp": 1622977436605,
     "user": {
      "displayName": "Vidhya Shankar V",
      "photoUrl": "https://lh3.googleusercontent.com/a-/AOh14GgibVFpmsqOpOYqW5r1kRBYXglwZsL14PgzsJPT=s64",
      "userId": "06672572748869395626"
     },
     "user_tz": -330
    },
    "id": "P6OBjhSdTYvZ"
   },
   "outputs": [],
   "source": [
    "import numpy as np\n",
    "import matplotlib.pyplot as plt\n",
    "\n",
    "plt.rcParams['figure.figsize'] = [15, 6]\n",
    "\n",
    "def training_curves():\n",
    "  plt.subplot(1,2, 1)\n",
    "\n",
    "  plt.plot(np.array(hist_test_acc))\n",
    "  plt.plot(np.array(hist_train_acc), 'r')\n",
    "  plt.legend([\"test_acc\", \"train_acc\"])\n",
    "  plt.title(\"Accuracy per epoch\")\n",
    "\n",
    "  plt.subplot(1,2,2)\n",
    "  plt.plot(hist_test_loss)\n",
    "  plt.plot(hist_train_loss, 'r')\n",
    "  plt.legend([\"test_loss\", \"train_loss\"])\n",
    "  plt.title(\"Loss per epoch\")"
   ]
  },
  {
   "cell_type": "code",
   "execution_count": 20,
   "metadata": {
    "executionInfo": {
     "elapsed": 3,
     "status": "ok",
     "timestamp": 1622977437178,
     "user": {
      "displayName": "Vidhya Shankar V",
      "photoUrl": "https://lh3.googleusercontent.com/a-/AOh14GgibVFpmsqOpOYqW5r1kRBYXglwZsL14PgzsJPT=s64",
      "userId": "06672572748869395626"
     },
     "user_tz": -330
    },
    "id": "-aywDmD6Tpae"
   },
   "outputs": [],
   "source": [
    "hist_test_loss = []\n",
    "hist_test_acc = []\n",
    "hist_train_loss = []\n",
    "hist_train_acc = []"
   ]
  },
  {
   "cell_type": "markdown",
   "metadata": {
    "id": "uJAjeW9vHofv"
   },
   "source": [
    "## First 14 epochs\n",
    "\n",
    "Target achieved in 14th Epoch: 99.51%\n",
    "\n",
    "### Learning rate schedule\n",
    "0.1  for epoch 1-9\n",
    "\n",
    "0.05 for epoch 10-12\n",
    "\n",
    "0.01 for epoch 13-14"
   ]
  },
  {
   "cell_type": "code",
   "execution_count": 21,
   "metadata": {
    "colab": {
     "base_uri": "https://localhost:8080/",
     "height": 610
    },
    "executionInfo": {
     "elapsed": 71814,
     "status": "ok",
     "timestamp": 1622977511779,
     "user": {
      "displayName": "Vidhya Shankar V",
      "photoUrl": "https://lh3.googleusercontent.com/a-/AOh14GgibVFpmsqOpOYqW5r1kRBYXglwZsL14PgzsJPT=s64",
      "userId": "06672572748869395626"
     },
     "user_tz": -330
    },
    "id": "hn-7Qe0SxiYB",
    "outputId": "57900001-01aa-4510-965c-579b618e2109"
   },
   "outputs": [
    {
     "name": "stdout",
     "output_type": "stream",
     "text": [
      "Epoch:  1\n",
      "Training Average loss: 0.212784, Accuracy = (93.530000%)\n",
      "learning rate 0.1\n",
      "Test set: Average loss: 0.062613, Accuracy: 9813/10000 (98.130000%)\n",
      "\n",
      "Epoch:  2\n",
      "Training Average loss: 0.071577, Accuracy = (97.775000%)\n",
      "learning rate 0.1\n",
      "Test set: Average loss: 0.046475, Accuracy: 9849/10000 (98.490000%)\n",
      "\n"
     ]
    },
    {
     "data": {
      "image/png": "[encoded data removed]",
      "text/plain": [
       "<Figure size 1080x432 with 2 Axes>"
      ]
     },
     "metadata": {
      "needs_background": "light"
     },
     "output_type": "display_data"
    }
   ],
   "source": [
    "from torch.optim.lr_scheduler import ReduceLROnPlateau\n",
    "from torch.optim.lr_scheduler import ExponentialLR\n",
    "\n",
    "optimizer = optim.SGD(model.parameters(), lr=0.1, momentum=0.9,)\n",
    "\n",
    "scheduler =ReduceLROnPlateau(optimizer=optimizer, patience=2, verbose=True)\n",
    "\n",
    "for epoch in range(1, 3):\n",
    "    print(\"Epoch: \", epoch)\n",
    "    train(model, device, train_loader, optimizer, epoch)\n",
    "    print(\"learning rate\", optimizer.param_groups[0]['lr'])\n",
    "    test(model, device, test_loader)\n",
    "\n",
    "# optimizer = optim.SGD(model.parameters(), lr=0.05, momentum=0.9)\n",
    "# for epoch in range(10, 13):\n",
    "#     print(\"Epoch: \", epoch)\n",
    "#     train(model, device, train_loader, optimizer, scheduler, epoch)\n",
    "#     print(\"learning rate\", optimizer.param_groups[0]['lr'])\n",
    "#     test(model, device, test_loader)\n",
    "\n",
    "# optimizer = optim.SGD(model.parameters(), lr=0.01, momentum=0.9)\n",
    "# for epoch in range(13, 15):\n",
    "#     print(\"Epoch: \", epoch)\n",
    "#     train(model, device, train_loader, optimizer, scheduler, epoch)\n",
    "#     print(\"learning rate\", optimizer.param_groups[0]['lr'])\n",
    "#     test(model, device, test_loader)\n",
    "\n",
    "training_curves()"
   ]
  },
  {
   "cell_type": "markdown",
   "metadata": {
    "id": "cwEdEN9eHukf"
   },
   "source": [
    "## 5 more epochs to check model stability (Rahul Roy Effect :p )\n",
    "\n",
    "Target achieved in 15th Epoch: 99.45%\n",
    "\n",
    "### Learning rate schedule\n",
    "0.01  for epoch 15-19\n"
   ]
  },
  {
   "cell_type": "code",
   "execution_count": 23,
   "metadata": {
    "colab": {
     "base_uri": "https://localhost:8080/",
     "height": 824
    },
    "id": "s6dBOVt-xtJY",
    "outputId": "43bb25d9-086b-4a4b-e35c-bf4637571385"
   },
   "outputs": [
    {
     "name": "stdout",
     "output_type": "stream",
     "text": [
      "Epoch:  15\n",
      "Training Average loss: 0.042815, Accuracy = (98.681667%)\n",
      "learning rate 0.01\n",
      "Test set: Average loss: 0.037549, Accuracy: 9881/10000 (98.810000%)\n",
      "\n",
      "Epoch:  16\n",
      "Training Average loss: 0.038564, Accuracy = (98.830000%)\n",
      "learning rate 0.01\n",
      "Test set: Average loss: 0.036040, Accuracy: 9895/10000 (98.950000%)\n",
      "\n",
      "Epoch:  17\n",
      "Training Average loss: 0.037440, Accuracy = (98.818333%)\n",
      "learning rate 0.01\n",
      "Test set: Average loss: 0.036133, Accuracy: 9886/10000 (98.860000%)\n",
      "\n",
      "Epoch:  18\n",
      "Training Average loss: 0.036186, Accuracy = (98.908333%)\n",
      "learning rate 0.01\n",
      "Test set: Average loss: 0.034465, Accuracy: 9899/10000 (98.990000%)\n",
      "\n",
      "Epoch:  19\n",
      "Training Average loss: 0.034137, Accuracy = (98.931667%)\n",
      "learning rate 0.01\n",
      "Test set: Average loss: 0.034888, Accuracy: 9895/10000 (98.950000%)\n",
      "\n"
     ]
    },
    {
     "data": {
      "image/png": "[encoded data removed]",
      "text/plain": [
       "<Figure size 1080x432 with 2 Axes>"
      ]
     },
     "metadata": {
      "needs_background": "light"
     },
     "output_type": "display_data"
    }
   ],
   "source": [
    "optimizer = optim.SGD(model.parameters(), lr=0.01, momentum=0.9)\n",
    "for epoch in range(15, 20):\n",
    "    print(\"Epoch: \", epoch)\n",
    "    train(model, device, train_loader, optimizer, epoch)\n",
    "    print(\"learning rate\", optimizer.param_groups[0]['lr'])\n",
    "    test(model, device, test_loader)\n",
    "\n",
    "training_curves()"
   ]
  },
  {
   "cell_type": "markdown",
   "metadata": {
    "id": "F2x1ekDuH4mw"
   },
   "source": [
    "# Check Misclassified Images"
   ]
  },
  {
   "cell_type": "code",
   "execution_count": 24,
   "metadata": {
    "id": "M7w8Dwl8u0SK"
   },
   "outputs": [],
   "source": [
    "def imageshow(img):\n",
    "    # img = img / 2 + 0.5      #unnormalize\n",
    "    img[0] = img[0]*0.1307 + 0.3081\n",
    "    #img[1] = img[1]*0.24348513 + 0.48215841\n",
    "    #img[2] = img[2]*0.26158784 + 0.44653091\n",
    "    npimg = img.numpy()\n",
    "    plt.figure(figsize=(20,20))\n",
    "    plt.imshow(np.transpose(npimg, (1, 2, 0)))\n",
    "\n",
    "def imshow(img):\n",
    "    # img = img / 2 + 0.5     # unnormalize\n",
    "    img[0] = img[0]*0.1307 + 0.3081\n",
    "    #img[1] = img[1]*0.24348513 + 0.48215841\n",
    "    #img[2] = img[2]*0.26158784 + 0.44653091\n",
    "    npimg = img.numpy()\n",
    "    image = np.transpose(npimg, (1, 2, 0))\n",
    "    plt.imshow(image)\n",
    "    plt.grid(b=None)\n",
    "    return image\n"
   ]
  },
  {
   "cell_type": "code",
   "execution_count": 25,
   "metadata": {
    "colab": {
     "base_uri": "https://localhost:8080/",
     "height": 1000
    },
    "id": "skzUR-vh4DRd",
    "outputId": "3a0c999d-2363-4472-9ed2-fb6c34d5e95c"
   },
   "outputs": [
    {
     "data": {
      "image/png": "[encoded data removed]",
      "text/plain": [
       "<Figure size 1440x1440 with 25 Axes>"
      ]
     },
     "metadata": {
      "needs_background": "light"
     },
     "output_type": "display_data"
    }
   ],
   "source": [
    "classes = ('0','1','2','3','4','5','6','7','8','9')\n",
    "\n",
    "model.eval()\n",
    "\n",
    "figure = plt.figure(figsize=(20, 20))\n",
    "num_of_images = 25\n",
    "index = 1\n",
    "\n",
    "misclass_img_list = []\n",
    "untrans_img=[]\n",
    "\n",
    "with torch.no_grad():\n",
    "    for data, target in test_loader:\n",
    "        data, target = data.to(\n",
    "            device), target.to(device)\n",
    "        output = model(data)\n",
    "        pred = output.argmax(dim=1, keepdim=True)\n",
    "        act = target.view_as(pred)\n",
    "        # since most of the bool vec is true (good problem to have) and switch (flip) the true to false and vice versa\n",
    "        bool_vec = ~pred.eq(act)\n",
    "\n",
    "        # now extract the index number from the tensor which has 'true'\n",
    "        idx = list(\n",
    "            np.where(bool_vec.cpu().numpy())[0])\n",
    "\n",
    "        if idx:  # if not a blank list\n",
    "            idx_list = idx\n",
    "            # print(data[idx_list[0]].shape)\n",
    "            if index < num_of_images+1:\n",
    "                plt.subplot(5, 5, index)\n",
    "                plt.axis('off')\n",
    "                titl = 'act/pred : ' + \\\n",
    "                    str(classes[target[idx[0]].cpu().item(\n",
    "                    )]) + '/' + str(classes[pred[idx[0]].cpu().item()])\n",
    "                # prints the 1st index of each batch.\n",
    "            \n",
    "                img = data[idx[0]].cpu()\n",
    "                untrans_img.append(img)\n",
    "                image = imshow(img)\n",
    "                misclass_img_list.append(image)\n",
    "                                  \n",
    "\n",
    "\n",
    "                plt.title(titl)\n",
    "                index += 1\n",
    "\n"
   ]
  },
  {
   "cell_type": "code",
   "execution_count": null,
   "metadata": {
    "id": "f7crLHmFtxmF"
   },
   "outputs": [],
   "source": []
  }
 ],
 "metadata": {
  "accelerator": "GPU",
  "colab": {
   "collapsed_sections": [],
   "name": "Session_5_Bhaskar_exp4.ipynb",
   "provenance": []
  },
  "kernelspec": {
   "display_name": "Python 3",
   "language": "python",
   "name": "python3"
  },
  "language_info": {
   "codemirror_mode": {
    "name": "ipython",
    "version": 3
   },
   "file_extension": ".py",
   "mimetype": "text/x-python",
   "name": "python",
   "nbconvert_exporter": "python",
   "pygments_lexer": "ipython3",
   "version": "3.8.8"
  }
 },
 "nbformat": 4,
 "nbformat_minor": 1
}
