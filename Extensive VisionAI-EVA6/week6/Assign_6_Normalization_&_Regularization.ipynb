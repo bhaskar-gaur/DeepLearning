{
 "cells": [
  {
   "cell_type": "code",
   "execution_count": 1,
   "metadata": {
    "id": "t2jsUEUjox8s"
   },
   "outputs": [],
   "source": [
    "from __future__ import print_function\n",
    "import torch\n",
    "import torch.nn as nn\n",
    "import torch.nn.functional as F\n",
    "import torch.optim as optim\n",
    "from torchvision import datasets, transforms\n",
    "from torchsummary import summary\n",
    "use_cuda = torch.cuda.is_available()\n",
    "device = torch.device(\"cuda\" if use_cuda else \"cpu\")"
   ]
  },
  {
   "cell_type": "code",
   "execution_count": 2,
   "metadata": {
    "colab": {
     "base_uri": "https://localhost:8080/"
    },
    "id": "TdiE4A1JAM31",
    "outputId": "56f9fc45-cb47-4e8d-9979-e31adb52d74a"
   },
   "outputs": [
    {
     "name": "stderr",
     "output_type": "stream",
     "text": [
      "/home/lebeast/miniconda3/envs/pytorch/lib/python3.8/site-packages/torchvision/transforms/transforms.py:1314: UserWarning: Argument resample is deprecated and will be removed since v0.10.0. Please, use interpolation instead\n",
      "  warnings.warn(\n",
      "/home/lebeast/miniconda3/envs/pytorch/lib/python3.8/site-packages/torchvision/transforms/transforms.py:1328: UserWarning: Argument fillcolor is deprecated and will be removed since v0.10.0. Please, use fill instead\n",
      "  warnings.warn(\n"
     ]
    },
    {
     "name": "stdout",
     "output_type": "stream",
     "text": [
      "Downloading http://yann.lecun.com/exdb/mnist/train-images-idx3-ubyte.gz\n",
      "Downloading http://yann.lecun.com/exdb/mnist/train-images-idx3-ubyte.gz to ./data/MNIST/raw/train-images-idx3-ubyte.gz\n",
      "Failed to download (trying next):\n",
      "HTTP Error 503: Service Unavailable\n",
      "\n",
      "Downloading https://ossci-datasets.s3.amazonaws.com/mnist/train-images-idx3-ubyte.gz\n",
      "Downloading https://ossci-datasets.s3.amazonaws.com/mnist/train-images-idx3-ubyte.gz to ./data/MNIST/raw/train-images-idx3-ubyte.gz\n"
     ]
    },
    {
     "data": {
      "application/vnd.jupyter.widget-view+json": {
       "model_id": "14d00dbebfca4c7e82344cbc0aaa0c06",
       "version_major": 2,
       "version_minor": 0
      },
      "text/plain": [
       "  0%|          | 0/9912422 [00:00<?, ?it/s]"
      ]
     },
     "metadata": {},
     "output_type": "display_data"
    },
    {
     "name": "stdout",
     "output_type": "stream",
     "text": [
      "Extracting ./data/MNIST/raw/train-images-idx3-ubyte.gz to ./data/MNIST/raw\n",
      "\n",
      "Downloading http://yann.lecun.com/exdb/mnist/train-labels-idx1-ubyte.gz\n",
      "Downloading http://yann.lecun.com/exdb/mnist/train-labels-idx1-ubyte.gz to ./data/MNIST/raw/train-labels-idx1-ubyte.gz\n"
     ]
    },
    {
     "data": {
      "application/vnd.jupyter.widget-view+json": {
       "model_id": "a2e3c89dcae74f3a9143e905071eb935",
       "version_major": 2,
       "version_minor": 0
      },
      "text/plain": [
       "  0%|          | 0/28881 [00:00<?, ?it/s]"
      ]
     },
     "metadata": {},
     "output_type": "display_data"
    },
    {
     "name": "stdout",
     "output_type": "stream",
     "text": [
      "Extracting ./data/MNIST/raw/train-labels-idx1-ubyte.gz to ./data/MNIST/raw\n",
      "\n",
      "Downloading http://yann.lecun.com/exdb/mnist/t10k-images-idx3-ubyte.gz\n",
      "Downloading http://yann.lecun.com/exdb/mnist/t10k-images-idx3-ubyte.gz to ./data/MNIST/raw/t10k-images-idx3-ubyte.gz\n"
     ]
    },
    {
     "data": {
      "application/vnd.jupyter.widget-view+json": {
       "model_id": "5fe77d148d7f47bfb3208f0b8141c074",
       "version_major": 2,
       "version_minor": 0
      },
      "text/plain": [
       "  0%|          | 0/1648877 [00:00<?, ?it/s]"
      ]
     },
     "metadata": {},
     "output_type": "display_data"
    },
    {
     "name": "stdout",
     "output_type": "stream",
     "text": [
      "Extracting ./data/MNIST/raw/t10k-images-idx3-ubyte.gz to ./data/MNIST/raw\n",
      "\n",
      "Downloading http://yann.lecun.com/exdb/mnist/t10k-labels-idx1-ubyte.gz\n",
      "Downloading http://yann.lecun.com/exdb/mnist/t10k-labels-idx1-ubyte.gz to ./data/MNIST/raw/t10k-labels-idx1-ubyte.gz\n"
     ]
    },
    {
     "data": {
      "application/vnd.jupyter.widget-view+json": {
       "model_id": "63d7cb670e784276bc25b8292c55c613",
       "version_major": 2,
       "version_minor": 0
      },
      "text/plain": [
       "  0%|          | 0/4542 [00:00<?, ?it/s]"
      ]
     },
     "metadata": {},
     "output_type": "display_data"
    },
    {
     "name": "stdout",
     "output_type": "stream",
     "text": [
      "Extracting ./data/MNIST/raw/t10k-labels-idx1-ubyte.gz to ./data/MNIST/raw\n",
      "\n",
      "Processing...\n",
      "Done!\n",
      "CUDA Available? True\n"
     ]
    },
    {
     "name": "stderr",
     "output_type": "stream",
     "text": [
      "/home/lebeast/miniconda3/envs/pytorch/lib/python3.8/site-packages/torchvision/datasets/mnist.py:502: UserWarning: The given NumPy array is not writeable, and PyTorch does not support non-writeable tensors. This means you can write to the underlying (supposedly non-writeable) NumPy array using the tensor. You may want to copy the array to protect its data or make it writeable before converting it to a tensor. This type of warning will be suppressed for the rest of this program. (Triggered internally at  /opt/conda/conda-bld/pytorch_1616554793803/work/torch/csrc/utils/tensor_numpy.cpp:143.)\n",
      "  return torch.from_numpy(parsed.astype(m[2], copy=False)).view(*s)\n"
     ]
    }
   ],
   "source": [
    "# Train Phase transformations\n",
    "train_transforms = transforms.Compose([\n",
    "                                      #transforms.ToPILImage(),\n",
    "                                      #transforms.Resize((28, 28)),\n",
    "                                      #transforms.ColorJitter(brightness=0.10, contrast=0.1, saturation=0.10, hue=0.1),\n",
    "                                       #transforms.RandomRotation((-7.0, 7.0), fill=(0.13,)),\n",
    "                                       transforms.ToTensor(),\n",
    "                                       transforms.Normalize((0.1307,), (0.3081,)), # The mean and std have to be sequences (e.g., tuples), therefore you should add a comma after the values. \n",
    "                                       # Note the difference between (0.1307) and (0.1307,)\n",
    "                                       #transforms.RandomRotation((-5.0, 5.0), fill=(-0.42,)),\n",
    "                                       transforms.RandomAffine((-5,5), translate=None, scale=None, shear=5, resample=False, fillcolor=(-0.42,))\n",
    "                                       ])\n",
    "\n",
    "# Test Phase transformations\n",
    "test_transforms = transforms.Compose([\n",
    "                                      #  transforms.Resize((28, 28)),\n",
    "                                      #  transforms.ColorJitter(brightness=0.10, contrast=0.1, saturation=0.10, hue=0.1),\n",
    "                                       transforms.ToTensor(),\n",
    "                                       transforms.Normalize((0.1307,), (0.3081,))\n",
    "                                       ])\n",
    "\n",
    "train = datasets.MNIST('./data', train=True, download=True, transform=train_transforms)\n",
    "test = datasets.MNIST('./data', train=False, download=True, transform=test_transforms)\n",
    "\n",
    "SEED = 1\n",
    "\n",
    "# CUDA?\n",
    "cuda = torch.cuda.is_available()\n",
    "print(\"CUDA Available?\", cuda)\n",
    "\n",
    "# For reproducibility\n",
    "torch.manual_seed(SEED)\n",
    "\n",
    "if cuda:\n",
    "    torch.cuda.manual_seed(SEED)\n",
    "\n",
    "# dataloader arguments - something you'll fetch these from cmdprmt\n",
    "dataloader_args = dict(shuffle=True, batch_size=64, num_workers=4, pin_memory=True) if cuda else dict(shuffle=True, batch_size=64)\n",
    "\n",
    "# train dataloader\n",
    "train_loader = torch.utils.data.DataLoader(train, **dataloader_args)\n",
    "\n",
    "# test dataloader\n",
    "test_loader = torch.utils.data.DataLoader(test, **dataloader_args)\n",
    "\n",
    "#dict to store model loss and accuracy parameters\n",
    "history = {}"
   ]
  },
  {
   "cell_type": "code",
   "execution_count": 3,
   "metadata": {
    "id": "QBj0TbcEDSCo"
   },
   "outputs": [],
   "source": [
    "from tqdm import tqdm\n",
    "\n",
    "def train(model, device, train_loader, optimizer, epoch, l1_decay, l2_decay, train_loss_list, train_accuracy_list):\n",
    "  model.train()\n",
    "  pbar = tqdm(train_loader)\n",
    "  correct = 0\n",
    "  processed = 0\n",
    "\n",
    "  for batch_idx, (data, target) in enumerate(pbar):\n",
    "    # get samples\n",
    "    data, target = data.to(device), target.to(device)\n",
    "\n",
    "    # Init\n",
    "    optimizer.zero_grad()\n",
    "    # In PyTorch, we need to set the gradients to zero before starting to do backpropragation because PyTorch accumulates the gradients on subsequent backward passes. \n",
    "    # Because of this, when you start your training loop, ideally you should zero out the gradients so that you do the parameter update correctly.\n",
    "\n",
    "    # Predict\n",
    "    y_pred = model(data)\n",
    "\n",
    "    # Calculate loss\n",
    "    loss = F.nll_loss(y_pred, target)\n",
    "    if l1_decay > 0:\n",
    "      l1_loss = 0\n",
    "      for param in model.parameters():\n",
    "        l1_loss += torch.norm(param,1)\n",
    "      loss += l1_decay * l1_loss\n",
    "    if l2_decay > 0:\n",
    "      l2_loss = 0\n",
    "      for param in model.parameters():\n",
    "        l2_loss += torch.norm(param,2)\n",
    "      loss += l2_decay * l2_loss\n",
    "    train_loss_list.append(loss.item())\n",
    "\n",
    "    # Backpropagation\n",
    "    loss.backward()\n",
    "    optimizer.step()\n",
    "\n",
    "    # Update pbar-tqdm\n",
    "    \n",
    "    pred = y_pred.argmax(dim=1, keepdim=True)  # get the index of the max log-probability\n",
    "    correct += pred.eq(target.view_as(pred)).sum().item()\n",
    "    processed += len(data)\n",
    "\n",
    "    pbar_str = f'Loss={loss.item()} Batch_id={batch_idx} Accuracy={100*correct/processed:0.2f}'\n",
    "    if l1_decay > 0:\n",
    "      pbar_str = f'L1_loss={l1_loss.item()} %s' % (pbar_str)\n",
    "    if l2_decay > 0:\n",
    "      pbar_str = f'L2_loss={l2_loss.item()} %s' % (pbar_str)\n",
    "\n",
    "    pbar.set_description(desc= pbar_str)\n",
    "    train_accuracy_list.append(100*correct/processed)\n",
    "  \n",
    "  print(\"length of Average loss {}, length of Average accuracy {}\".format(len(train_loss_list),len(train_accuracy_list)))\n",
    "  return train_loss_list, train_accuracy_list\n",
    "\n",
    "\n",
    "def test(model, device, test_loader, test_loss_list, test_accuracy_list, misclassified_imgs, is_last_epoch):\n",
    "    model.eval()\n",
    "    test_loss = 0\n",
    "    correct = 0\n",
    "\n",
    "    with torch.no_grad():\n",
    "        for data, target in test_loader:\n",
    "            data, target = data.to(device), target.to(device)\n",
    "            output = model(data)\n",
    "            test_loss += F.nll_loss(output, target, reduction='sum').item()  # sum up batch loss\n",
    "            pred = output.argmax(dim=1, keepdim=True)  # get the index of the max log-probability\n",
    "            is_correct = pred.eq(target.view_as(pred))\n",
    "            if is_last_epoch:\n",
    "              misclassified_inds = (is_correct==0).nonzero()[:,0]\n",
    "              for mis_ind in misclassified_inds:\n",
    "                if len(misclassified_imgs) == 100: #handtune this for images we need\n",
    "                  break\n",
    "                misclassified_imgs.append({\n",
    "                    \"target\": target[mis_ind].cpu().numpy(),\n",
    "                    \"pred\": pred[mis_ind][0].cpu().numpy(),\n",
    "                    \"img\": data[mis_ind].cpu().numpy()[0]\n",
    "                })\n",
    "            correct += is_correct.sum().item()\n",
    "\n",
    "    test_loss /= len(test_loader.dataset)\n",
    "    test_accuracy = 100. * correct / len(test_loader.dataset)\n",
    "\n",
    "    test_loss_list.append(test_loss)\n",
    "    test_accuracy_list.append(test_accuracy)\n",
    "    print('Test set: Average loss: {:.6f}, Average accuracy: {}/{} ({:.6f}%)\\n'.format(\n",
    "        test_loss, correct, len(test_loader.dataset),\n",
    "        test_accuracy))\n",
    "    \n",
    "    return test_loss_list, test_accuracy_list, misclassified_imgs"
   ]
  },
  {
   "cell_type": "markdown",
   "metadata": {},
   "source": [
    "### Function to create 4 curves - Training loss/accuracy & Test loss/accuracy"
   ]
  },
  {
   "cell_type": "code",
   "execution_count": 4,
   "metadata": {
    "id": "P6OBjhSdTYvZ"
   },
   "outputs": [],
   "source": [
    "import numpy as np\n",
    "import matplotlib.pyplot as plt\n",
    "\n",
    "plt.rcParams['figure.figsize'] = [30, 12]\n",
    "\n",
    "def training_curves(history):\n",
    "  plt.figure(1)\n",
    "  plt.suptitle(\"Combined Training Curves\", fontsize=28)\n",
    "\n",
    "  plt.subplot(2,2, 1)\n",
    "  for i in history:\n",
    "    plt.plot(np.array(history[i]['train_loss']), label=i)\n",
    "  #plt.plot(np.array(hist_train_acc), 'r')\n",
    "  plt.ylim(ymin=0)\n",
    "  plt.ylabel('loss')\n",
    "  plt.minorticks_on()\n",
    "  plt.grid()\n",
    "  plt.legend()\n",
    "  plt.title(\"Training loss per batch\")\n",
    "\n",
    "  plt.subplot(2,2, 2)\n",
    "  for i in history:\n",
    "    plt.plot(np.array(history[i]['test_loss']), label=i)\n",
    "  plt.ylim(ymin=0)\n",
    "  plt.ylabel('loss')\n",
    "  plt.minorticks_on()\n",
    "  plt.grid()\n",
    "  plt.legend()\n",
    "  plt.title(\"Test loss per batch\")\n",
    "\n",
    "  plt.subplot(2,2, 3)\n",
    "  for i in history:\n",
    "    plt.plot(np.array(history[i]['train_accuracy']), label=i)\n",
    "  plt.ylim(top=100)\n",
    "  plt.xlabel('epochs')\n",
    "  plt.ylabel('accuracy')\n",
    "  plt.minorticks_on()\n",
    "  plt.grid()\n",
    "  plt.legend()\n",
    "  plt.title(\"Training accuracy per batch\")\n",
    "\n",
    "  plt.subplot(2,2, 4)\n",
    "  for i in history:\n",
    "    plt.plot(np.array(history[i]['test_accuracy']), label=i)\n",
    "  plt.ylim(top=100)\n",
    "  plt.xlabel('epochs')\n",
    "  plt.ylabel('accuracy')\n",
    "  plt.minorticks_on()\n",
    "  plt.grid()\n",
    "  plt.legend()\n",
    "  plt.title(\"Test accuracy per epoch\")\n"
   ]
  },
  {
   "cell_type": "markdown",
   "metadata": {
    "id": "jysWijHuUyby"
   },
   "source": [
    "### These functions will go to Utils"
   ]
  },
  {
   "cell_type": "code",
   "execution_count": 5,
   "metadata": {
    "colab": {
     "base_uri": "https://localhost:8080/"
    },
    "id": "fIDt65VLw_zA",
    "outputId": "806c264d-41f7-48ae-9cdf-f6b74175fac3"
   },
   "outputs": [
    {
     "data": {
      "text/plain": [
       "LayerNorm((12, 28, 28), eps=1e-05, elementwise_affine=True)"
      ]
     },
     "execution_count": 5,
     "metadata": {},
     "output_type": "execute_result"
    }
   ],
   "source": [
    "def Gen_BN(out_features, channel_size, norm_type):\n",
    "  if norm_type==\"BN\":\n",
    "    m = nn.BatchNorm2d(out_features)\n",
    "  elif norm_type == \"LN\":\n",
    "    # x = torch.rand(2,out_features,channel_size,channel_size)\n",
    "    # m = nn.LayerNorm(x.size()[1:])\n",
    "    m = nn.LayerNorm((out_features, channel_size, channel_size))\n",
    "  return m\n",
    "\n",
    "def conv_output_shape(h_w, kernel_size=1, stride=1, pad=0, dilation=1):\n",
    "    \"\"\"\n",
    "    Utility function for computing output of convolutions\n",
    "    takes a tuple of (h,w) and returns a tuple of (h,w)\n",
    "    \"\"\"\n",
    "    \n",
    "    if type(h_w) is not tuple:\n",
    "        h_w = (h_w, h_w)\n",
    "    \n",
    "    if type(kernel_size) is not tuple:\n",
    "        kernel_size = (kernel_size, kernel_size)\n",
    "    \n",
    "    if type(stride) is not tuple:\n",
    "        stride = (stride, stride)\n",
    "    \n",
    "    if type(pad) is not tuple:\n",
    "        pad = (pad, pad)\n",
    "    \n",
    "    h = (h_w[0] + (2 * pad[0]) - (dilation * (kernel_size[0] - 1)) - 1)// stride[0] + 1\n",
    "    w = (h_w[1] + (2 * pad[1]) - (dilation * (kernel_size[1] - 1)) - 1)// stride[1] + 1\n",
    "    \n",
    "    return h, w\n",
    "\n",
    "x, y = conv_output_shape(28, 3, 1,0,1)\n",
    "x, y\n",
    "temp = Gen_BN(12, 28, \"LN\")\n",
    "temp"
   ]
  },
  {
   "cell_type": "markdown",
   "metadata": {
    "id": "Iw5buyjYU1qv"
   },
   "source": [
    "This class will take in the optin of which normalization we would want to use.. \n",
    "\n",
    "Group normalization is pending\n",
    "\n",
    "\n",
    "Input to the architecture is the nrmalization type and input image size"
   ]
  },
  {
   "cell_type": "code",
   "execution_count": 6,
   "metadata": {
    "colab": {
     "base_uri": "https://localhost:8080/"
    },
    "id": "bkno8_gkChRF",
    "outputId": "de7446a1-86bd-4619-bf1e-65fcc80038fb"
   },
   "outputs": [
    {
     "name": "stdout",
     "output_type": "stream",
     "text": [
      "----------------------------------------------------------------\n",
      "        Layer (type)               Output Shape         Param #\n",
      "================================================================\n",
      "            Conv2d-1            [-1, 8, 26, 26]              72\n",
      "              ReLU-2            [-1, 8, 26, 26]               0\n",
      "       BatchNorm2d-3            [-1, 8, 26, 26]              16\n",
      "           Dropout-4            [-1, 8, 26, 26]               0\n",
      "            Conv2d-5           [-1, 16, 24, 24]           1,152\n",
      "              ReLU-6           [-1, 16, 24, 24]               0\n",
      "       BatchNorm2d-7           [-1, 16, 24, 24]              32\n",
      "           Dropout-8           [-1, 16, 24, 24]               0\n",
      "         MaxPool2d-9           [-1, 16, 12, 12]               0\n",
      "           Conv2d-10            [-1, 8, 12, 12]             128\n",
      "             ReLU-11            [-1, 8, 12, 12]               0\n",
      "           Conv2d-12           [-1, 16, 10, 10]           1,152\n",
      "             ReLU-13           [-1, 16, 10, 10]               0\n",
      "      BatchNorm2d-14           [-1, 16, 10, 10]              32\n",
      "          Dropout-15           [-1, 16, 10, 10]               0\n",
      "           Conv2d-16             [-1, 20, 8, 8]           2,880\n",
      "             ReLU-17             [-1, 20, 8, 8]               0\n",
      "      BatchNorm2d-18             [-1, 20, 8, 8]              40\n",
      "          Dropout-19             [-1, 20, 8, 8]               0\n",
      "           Conv2d-20              [-1, 8, 8, 8]             160\n",
      "             ReLU-21              [-1, 8, 8, 8]               0\n",
      "           Conv2d-22             [-1, 16, 6, 6]           1,152\n",
      "             ReLU-23             [-1, 16, 6, 6]               0\n",
      "        AvgPool2d-24             [-1, 16, 1, 1]               0\n",
      "           Linear-25                   [-1, 10]             170\n",
      "================================================================\n",
      "Total params: 6,986\n",
      "Trainable params: 6,986\n",
      "Non-trainable params: 0\n",
      "----------------------------------------------------------------\n",
      "Input size (MB): 0.00\n",
      "Forward/backward pass size (MB): 0.59\n",
      "Params size (MB): 0.03\n",
      "Estimated Total Size (MB): 0.62\n",
      "----------------------------------------------------------------\n"
     ]
    }
   ],
   "source": [
    "dropout_value = 0.05\n",
    "\n",
    "\n",
    "class Net2(nn.Module):\n",
    "    def get_bn(self, out_features, channel_size, norm_type, num_groups):\n",
    "        if norm_type==\"BN\":\n",
    "          m = nn.BatchNorm2d(out_features)\n",
    "        elif norm_type == \"LN\":\n",
    "          m = nn.LayerNorm((out_features, channel_size, channel_size))\n",
    "        elif norm_type == \"GN\":\n",
    "          if (out_features % num_groups) != 0:\n",
    "            print('Error: the number of groups should be divisible by output features')\n",
    "          else:\n",
    "            m = nn.GroupNorm(num_groups, out_features)\n",
    "        return m\n",
    "\n",
    "\n",
    "    def conv_block(self, in_features, out_features, kernel_size, input_channel_size, Norm_type, num_groups, pading=0, last_block=True):\n",
    "      # convolution\n",
    "      layers = []\n",
    "      layers = [nn.Conv2d(in_features, out_features, kernel_size, padding=pading, bias=False), nn.ReLU()]\n",
    "      out_img_size, _ = conv_output_shape(input_channel_size, kernel_size, stride=1,pad=pading,dilation=1) # get the image size after convolution\n",
    "\n",
    "      #Generate Normalization\n",
    "      norm_list = ['BN', 'LN', 'GN'] # this is the list of normalization that is allowed. \n",
    "      if (Norm_type in norm_list) and (kernel_size != 1) and (last_block):   # Check if normalization is in the list, or if its not 1x1 or if its not last block. \n",
    "        BN = self.get_bn(out_features, out_img_size, Norm_type, num_groups)\n",
    "        layers.append(BN)\n",
    "\n",
    "      # Add Dropout - Check if its not last block or 1x1 convolution.   \n",
    "      if kernel_size !=1 and last_block :\n",
    "        layers.append(nn.Dropout(dropout_value))\n",
    "      block = nn.Sequential(*layers)\n",
    "      return block, out_img_size\n",
    "\n",
    "    def max_pool_block(self, kernal_size, stride, img_size):\n",
    "        pool = nn.MaxPool2d(kernal_size, stride) # output_size = 13\n",
    "        out_img_size,_ = conv_output_shape(img_size,kernal_size, stride)\n",
    "        return pool, out_img_size\n",
    "\n",
    "    def __init__(self, Norm_type=\"\", input_img_size=(1,28,28), num_groups=2):\n",
    "        super(Net2, self).__init__()\n",
    "        self.convblock1, img_size = self.conv_block(1,8,3,input_img_size[1],Norm_type,num_groups) # input kernal, output_kernals, convolution, input image size, padding, normalization type #26\n",
    "        self.convblock2, img_size = self.conv_block(8,16,3,img_size,Norm_type,num_groups) #24\n",
    "        self.pool1, img_size = self.max_pool_block(2,2, img_size)  #12\n",
    "        self.convblock4, img_size = self.conv_block(16,8,1,img_size,Norm_type,num_groups) #12\n",
    "        self.convblock5, img_size = self.conv_block(8,16,3,img_size,Norm_type,num_groups) #10\n",
    "        self.convblock6, img_size = self.conv_block(16,20,3,img_size,Norm_type,num_groups) #8\n",
    "        self.convblock7, img_size = self.conv_block(20,8,1,img_size,Norm_type,num_groups) #8\n",
    "        self.convblock8, img_size = self.conv_block(8,16,3,img_size,Norm_type, num_groups, last_block=False) #6\n",
    "\n",
    "        self.gap = nn.Sequential(nn.AvgPool2d(kernel_size=6)) # output_size = 1\n",
    "        self.fc1 = nn.Linear(16, 10)\n",
    "\n",
    "    def forward(self, x):\n",
    "        x = self.convblock1(x)\n",
    "        x = self.convblock2(x)\n",
    "        #x = self.convblock3(x)\n",
    "        x = self.pool1(x)\n",
    "        x = self.convblock4(x)\n",
    "        x = self.convblock5(x)\n",
    "        x = self.convblock6(x)\n",
    "        x = self.convblock7(x)\n",
    "        x = self.convblock8(x)\n",
    "        x = self.gap(x)\n",
    "        x = x.view(-1, x.shape[1]*x.shape[2]*x.shape[3])\n",
    "        x = self.fc1(x)\n",
    "        x = x.view(-1, 10)\n",
    "        return F.log_softmax(x, dim=-1)\n",
    "\n",
    "temp = Net2(\"BN\", input_img_size=(1, 28, 28), num_groups=2).to(device)\n",
    "summary(temp, input_size=(1, 28, 28))"
   ]
  },
  {
   "cell_type": "markdown",
   "metadata": {},
   "source": [
    "### Model - Batch Normalization + L1"
   ]
  },
  {
   "cell_type": "code",
   "execution_count": 7,
   "metadata": {
    "colab": {
     "base_uri": "https://localhost:8080/"
    },
    "id": "Z0XklMkhZlsy",
    "outputId": "d6358696-40de-4165-c4b8-6103ca915570"
   },
   "outputs": [
    {
     "name": "stderr",
     "output_type": "stream",
     "text": [
      "\r",
      "  0%|          | 0/938 [00:00<?, ?it/s]"
     ]
    },
    {
     "name": "stdout",
     "output_type": "stream",
     "text": [
      "EPOCH: 1\n"
     ]
    },
    {
     "name": "stderr",
     "output_type": "stream",
     "text": [
      "L1_loss=598.6573486328125 Loss=0.3358934223651886 Batch_id=937 Accuracy=87.50: 100%|██████████| 938/938 [00:04<00:00, 191.92it/s] "
     ]
    },
    {
     "name": "stdout",
     "output_type": "stream",
     "text": [
      "length of Average loss 938, length of Average accuracy 938\n",
      "\n",
      "learning rate 0.1\n"
     ]
    },
    {
     "name": "stderr",
     "output_type": "stream",
     "text": [
      "\n",
      "  0%|          | 0/938 [00:00<?, ?it/s]"
     ]
    },
    {
     "name": "stdout",
     "output_type": "stream",
     "text": [
      "Test set: Average loss: 0.151968, Average accuracy: 9564/10000 (95.640000%)\n",
      "\n",
      "EPOCH: 2\n"
     ]
    },
    {
     "name": "stderr",
     "output_type": "stream",
     "text": [
      "L1_loss=556.6168823242188 Loss=0.4145810604095459 Batch_id=937 Accuracy=95.07: 100%|██████████| 938/938 [00:04<00:00, 193.98it/s] "
     ]
    },
    {
     "name": "stdout",
     "output_type": "stream",
     "text": [
      "length of Average loss 1876, length of Average accuracy 1876\n",
      "\n",
      "learning rate 0.1\n"
     ]
    },
    {
     "name": "stderr",
     "output_type": "stream",
     "text": [
      "\n",
      "  0%|          | 0/938 [00:00<?, ?it/s]"
     ]
    },
    {
     "name": "stdout",
     "output_type": "stream",
     "text": [
      "Test set: Average loss: 0.159446, Average accuracy: 9510/10000 (95.100000%)\n",
      "\n",
      "EPOCH: 3\n"
     ]
    },
    {
     "name": "stderr",
     "output_type": "stream",
     "text": [
      "L1_loss=456.7002868652344 Loss=0.2693297863006592 Batch_id=937 Accuracy=97.83: 100%|██████████| 938/938 [00:04<00:00, 194.71it/s]  "
     ]
    },
    {
     "name": "stdout",
     "output_type": "stream",
     "text": [
      "length of Average loss 2814, length of Average accuracy 2814\n",
      "\n",
      "learning rate 0.01\n"
     ]
    },
    {
     "name": "stderr",
     "output_type": "stream",
     "text": [
      "\n",
      "  0%|          | 0/938 [00:00<?, ?it/s]"
     ]
    },
    {
     "name": "stdout",
     "output_type": "stream",
     "text": [
      "Test set: Average loss: 0.046268, Average accuracy: 9859/10000 (98.590000%)\n",
      "\n",
      "EPOCH: 4\n"
     ]
    },
    {
     "name": "stderr",
     "output_type": "stream",
     "text": [
      "L1_loss=406.28656005859375 Loss=0.20865540206432343 Batch_id=937 Accuracy=97.97: 100%|██████████| 938/938 [00:04<00:00, 194.45it/s]\n"
     ]
    },
    {
     "name": "stdout",
     "output_type": "stream",
     "text": [
      "length of Average loss 3752, length of Average accuracy 3752\n",
      "\n",
      "learning rate 0.01\n"
     ]
    },
    {
     "name": "stderr",
     "output_type": "stream",
     "text": [
      "\r",
      "  0%|          | 0/938 [00:00<?, ?it/s]"
     ]
    },
    {
     "name": "stdout",
     "output_type": "stream",
     "text": [
      "Test set: Average loss: 0.049273, Average accuracy: 9849/10000 (98.490000%)\n",
      "\n",
      "EPOCH: 5\n"
     ]
    },
    {
     "name": "stderr",
     "output_type": "stream",
     "text": [
      "L1_loss=395.96905517578125 Loss=0.20689502358436584 Batch_id=937 Accuracy=98.12: 100%|██████████| 938/938 [00:04<00:00, 192.96it/s]"
     ]
    },
    {
     "name": "stdout",
     "output_type": "stream",
     "text": [
      "length of Average loss 4690, length of Average accuracy 4690\n",
      "\n",
      "learning rate 0.001\n"
     ]
    },
    {
     "name": "stderr",
     "output_type": "stream",
     "text": [
      "\n",
      "  0%|          | 0/938 [00:00<?, ?it/s]"
     ]
    },
    {
     "name": "stdout",
     "output_type": "stream",
     "text": [
      "Test set: Average loss: 0.045142, Average accuracy: 9854/10000 (98.540000%)\n",
      "\n",
      "EPOCH: 6\n"
     ]
    },
    {
     "name": "stderr",
     "output_type": "stream",
     "text": [
      "L1_loss=390.1396789550781 Loss=0.2499171644449234 Batch_id=937 Accuracy=98.25: 100%|██████████| 938/938 [00:04<00:00, 190.59it/s]  "
     ]
    },
    {
     "name": "stdout",
     "output_type": "stream",
     "text": [
      "length of Average loss 5628, length of Average accuracy 5628\n",
      "\n",
      "learning rate 0.001\n"
     ]
    },
    {
     "name": "stderr",
     "output_type": "stream",
     "text": [
      "\n",
      "  0%|          | 0/938 [00:00<?, ?it/s]"
     ]
    },
    {
     "name": "stdout",
     "output_type": "stream",
     "text": [
      "Test set: Average loss: 0.045174, Average accuracy: 9861/10000 (98.610000%)\n",
      "\n",
      "EPOCH: 7\n"
     ]
    },
    {
     "name": "stderr",
     "output_type": "stream",
     "text": [
      "L1_loss=388.9844970703125 Loss=0.20344369113445282 Batch_id=937 Accuracy=98.31: 100%|██████████| 938/938 [00:04<00:00, 190.25it/s] "
     ]
    },
    {
     "name": "stdout",
     "output_type": "stream",
     "text": [
      "length of Average loss 6566, length of Average accuracy 6566\n",
      "\n",
      "learning rate 0.0001\n"
     ]
    },
    {
     "name": "stderr",
     "output_type": "stream",
     "text": [
      "\n",
      "  0%|          | 0/938 [00:00<?, ?it/s]"
     ]
    },
    {
     "name": "stdout",
     "output_type": "stream",
     "text": [
      "Test set: Average loss: 0.043933, Average accuracy: 9861/10000 (98.610000%)\n",
      "\n",
      "EPOCH: 8\n"
     ]
    },
    {
     "name": "stderr",
     "output_type": "stream",
     "text": [
      "L1_loss=388.23828125 Loss=0.24720188975334167 Batch_id=937 Accuracy=98.33: 100%|██████████| 938/938 [00:04<00:00, 194.52it/s]      "
     ]
    },
    {
     "name": "stdout",
     "output_type": "stream",
     "text": [
      "length of Average loss 7504, length of Average accuracy 7504\n",
      "\n",
      "learning rate 0.0001\n"
     ]
    },
    {
     "name": "stderr",
     "output_type": "stream",
     "text": [
      "\n",
      "  0%|          | 0/938 [00:00<?, ?it/s]"
     ]
    },
    {
     "name": "stdout",
     "output_type": "stream",
     "text": [
      "Test set: Average loss: 0.044677, Average accuracy: 9856/10000 (98.560000%)\n",
      "\n",
      "EPOCH: 9\n"
     ]
    },
    {
     "name": "stderr",
     "output_type": "stream",
     "text": [
      "L1_loss=388.13763427734375 Loss=0.22426335513591766 Batch_id=937 Accuracy=98.29: 100%|██████████| 938/938 [00:04<00:00, 191.84it/s]"
     ]
    },
    {
     "name": "stdout",
     "output_type": "stream",
     "text": [
      "length of Average loss 8442, length of Average accuracy 8442\n",
      "\n",
      "learning rate 0.0\n"
     ]
    },
    {
     "name": "stderr",
     "output_type": "stream",
     "text": [
      "\n",
      "  0%|          | 0/938 [00:00<?, ?it/s]"
     ]
    },
    {
     "name": "stdout",
     "output_type": "stream",
     "text": [
      "Test set: Average loss: 0.044736, Average accuracy: 9856/10000 (98.560000%)\n",
      "\n",
      "EPOCH: 10\n"
     ]
    },
    {
     "name": "stderr",
     "output_type": "stream",
     "text": [
      "L1_loss=388.0566711425781 Loss=0.3268664479255676 Batch_id=937 Accuracy=98.26: 100%|██████████| 938/938 [00:04<00:00, 194.96it/s]  "
     ]
    },
    {
     "name": "stdout",
     "output_type": "stream",
     "text": [
      "length of Average loss 9380, length of Average accuracy 9380\n",
      "\n",
      "learning rate 0.0\n"
     ]
    },
    {
     "name": "stderr",
     "output_type": "stream",
     "text": [
      "\n",
      "  0%|          | 0/938 [00:00<?, ?it/s]"
     ]
    },
    {
     "name": "stdout",
     "output_type": "stream",
     "text": [
      "Test set: Average loss: 0.044302, Average accuracy: 9859/10000 (98.590000%)\n",
      "\n",
      "EPOCH: 11\n"
     ]
    },
    {
     "name": "stderr",
     "output_type": "stream",
     "text": [
      "L1_loss=388.04583740234375 Loss=0.38992270827293396 Batch_id=937 Accuracy=98.28: 100%|██████████| 938/938 [00:04<00:00, 196.12it/s]"
     ]
    },
    {
     "name": "stdout",
     "output_type": "stream",
     "text": [
      "length of Average loss 10318, length of Average accuracy 10318\n",
      "\n",
      "learning rate 0.0\n"
     ]
    },
    {
     "name": "stderr",
     "output_type": "stream",
     "text": [
      "\n",
      "  0%|          | 0/938 [00:00<?, ?it/s]"
     ]
    },
    {
     "name": "stdout",
     "output_type": "stream",
     "text": [
      "Test set: Average loss: 0.043939, Average accuracy: 9860/10000 (98.600000%)\n",
      "\n",
      "EPOCH: 12\n"
     ]
    },
    {
     "name": "stderr",
     "output_type": "stream",
     "text": [
      "L1_loss=388.037353515625 Loss=0.2026435136795044 Batch_id=937 Accuracy=98.27: 100%|██████████| 938/938 [00:04<00:00, 196.35it/s]   "
     ]
    },
    {
     "name": "stdout",
     "output_type": "stream",
     "text": [
      "length of Average loss 11256, length of Average accuracy 11256\n",
      "\n",
      "learning rate 0.0\n"
     ]
    },
    {
     "name": "stderr",
     "output_type": "stream",
     "text": [
      "\n",
      "  0%|          | 0/938 [00:00<?, ?it/s]"
     ]
    },
    {
     "name": "stdout",
     "output_type": "stream",
     "text": [
      "Test set: Average loss: 0.044321, Average accuracy: 9858/10000 (98.580000%)\n",
      "\n",
      "EPOCH: 13\n"
     ]
    },
    {
     "name": "stderr",
     "output_type": "stream",
     "text": [
      "L1_loss=388.03656005859375 Loss=0.21143361926078796 Batch_id=937 Accuracy=98.33: 100%|██████████| 938/938 [00:04<00:00, 191.01it/s]"
     ]
    },
    {
     "name": "stdout",
     "output_type": "stream",
     "text": [
      "length of Average loss 12194, length of Average accuracy 12194\n",
      "\n",
      "learning rate 0.0\n"
     ]
    },
    {
     "name": "stderr",
     "output_type": "stream",
     "text": [
      "\n",
      "  0%|          | 0/938 [00:00<?, ?it/s]"
     ]
    },
    {
     "name": "stdout",
     "output_type": "stream",
     "text": [
      "Test set: Average loss: 0.044007, Average accuracy: 9860/10000 (98.600000%)\n",
      "\n",
      "EPOCH: 14\n"
     ]
    },
    {
     "name": "stderr",
     "output_type": "stream",
     "text": [
      "L1_loss=388.035888671875 Loss=0.2168790102005005 Batch_id=937 Accuracy=98.28: 100%|██████████| 938/938 [00:04<00:00, 193.64it/s]   "
     ]
    },
    {
     "name": "stdout",
     "output_type": "stream",
     "text": [
      "length of Average loss 13132, length of Average accuracy 13132\n",
      "\n",
      "learning rate 0.0\n"
     ]
    },
    {
     "name": "stderr",
     "output_type": "stream",
     "text": [
      "\n",
      "  0%|          | 0/938 [00:00<?, ?it/s]"
     ]
    },
    {
     "name": "stdout",
     "output_type": "stream",
     "text": [
      "Test set: Average loss: 0.043394, Average accuracy: 9861/10000 (98.610000%)\n",
      "\n",
      "EPOCH: 15\n"
     ]
    },
    {
     "name": "stderr",
     "output_type": "stream",
     "text": [
      "L1_loss=388.03582763671875 Loss=0.2506707012653351 Batch_id=937 Accuracy=98.25: 100%|██████████| 938/938 [00:04<00:00, 191.23it/s] "
     ]
    },
    {
     "name": "stdout",
     "output_type": "stream",
     "text": [
      "length of Average loss 14070, length of Average accuracy 14070\n",
      "\n",
      "learning rate 0.0\n"
     ]
    },
    {
     "name": "stderr",
     "output_type": "stream",
     "text": [
      "\n",
      "  0%|          | 0/938 [00:00<?, ?it/s]"
     ]
    },
    {
     "name": "stdout",
     "output_type": "stream",
     "text": [
      "Test set: Average loss: 0.044273, Average accuracy: 9858/10000 (98.580000%)\n",
      "\n",
      "EPOCH: 16\n"
     ]
    },
    {
     "name": "stderr",
     "output_type": "stream",
     "text": [
      "L1_loss=388.0357666015625 Loss=0.20414435863494873 Batch_id=937 Accuracy=98.27: 100%|██████████| 938/938 [00:04<00:00, 191.47it/s] "
     ]
    },
    {
     "name": "stdout",
     "output_type": "stream",
     "text": [
      "length of Average loss 15008, length of Average accuracy 15008\n",
      "\n",
      "learning rate 0.0\n"
     ]
    },
    {
     "name": "stderr",
     "output_type": "stream",
     "text": [
      "\n",
      "  0%|          | 0/938 [00:00<?, ?it/s]"
     ]
    },
    {
     "name": "stdout",
     "output_type": "stream",
     "text": [
      "Test set: Average loss: 0.044154, Average accuracy: 9858/10000 (98.580000%)\n",
      "\n",
      "EPOCH: 17\n"
     ]
    },
    {
     "name": "stderr",
     "output_type": "stream",
     "text": [
      "L1_loss=388.0357666015625 Loss=0.19711266458034515 Batch_id=937 Accuracy=98.28: 100%|██████████| 938/938 [00:04<00:00, 195.49it/s]"
     ]
    },
    {
     "name": "stdout",
     "output_type": "stream",
     "text": [
      "length of Average loss 15946, length of Average accuracy 15946\n",
      "\n",
      "learning rate 0.0\n"
     ]
    },
    {
     "name": "stderr",
     "output_type": "stream",
     "text": [
      "\n",
      "  0%|          | 0/938 [00:00<?, ?it/s]"
     ]
    },
    {
     "name": "stdout",
     "output_type": "stream",
     "text": [
      "Test set: Average loss: 0.043477, Average accuracy: 9861/10000 (98.610000%)\n",
      "\n",
      "EPOCH: 18\n"
     ]
    },
    {
     "name": "stderr",
     "output_type": "stream",
     "text": [
      "L1_loss=388.0357666015625 Loss=0.22010086476802826 Batch_id=937 Accuracy=98.27: 100%|██████████| 938/938 [00:04<00:00, 191.80it/s]"
     ]
    },
    {
     "name": "stdout",
     "output_type": "stream",
     "text": [
      "length of Average loss 16884, length of Average accuracy 16884\n",
      "\n",
      "learning rate 0.0\n"
     ]
    },
    {
     "name": "stderr",
     "output_type": "stream",
     "text": [
      "\n",
      "  0%|          | 0/938 [00:00<?, ?it/s]"
     ]
    },
    {
     "name": "stdout",
     "output_type": "stream",
     "text": [
      "Test set: Average loss: 0.044088, Average accuracy: 9859/10000 (98.590000%)\n",
      "\n",
      "EPOCH: 19\n"
     ]
    },
    {
     "name": "stderr",
     "output_type": "stream",
     "text": [
      "L1_loss=388.0357666015625 Loss=0.23573029041290283 Batch_id=937 Accuracy=98.23: 100%|██████████| 938/938 [00:04<00:00, 193.25it/s]"
     ]
    },
    {
     "name": "stdout",
     "output_type": "stream",
     "text": [
      "length of Average loss 17822, length of Average accuracy 17822\n",
      "\n",
      "learning rate 0.0\n"
     ]
    },
    {
     "name": "stderr",
     "output_type": "stream",
     "text": [
      "\n",
      "  0%|          | 0/938 [00:00<?, ?it/s]"
     ]
    },
    {
     "name": "stdout",
     "output_type": "stream",
     "text": [
      "Test set: Average loss: 0.043943, Average accuracy: 9858/10000 (98.580000%)\n",
      "\n",
      "EPOCH: 20\n"
     ]
    },
    {
     "name": "stderr",
     "output_type": "stream",
     "text": [
      "L1_loss=388.0357666015625 Loss=0.5935497283935547 Batch_id=937 Accuracy=98.26: 100%|██████████| 938/938 [00:04<00:00, 192.43it/s] "
     ]
    },
    {
     "name": "stdout",
     "output_type": "stream",
     "text": [
      "length of Average loss 18760, length of Average accuracy 18760\n",
      "\n",
      "learning rate 0.0\n"
     ]
    },
    {
     "name": "stderr",
     "output_type": "stream",
     "text": [
      "\n"
     ]
    },
    {
     "name": "stdout",
     "output_type": "stream",
     "text": [
      "Test set: Average loss: 0.044203, Average accuracy: 9859/10000 (98.590000%)\n",
      "\n"
     ]
    }
   ],
   "source": [
    "from torch.optim.lr_scheduler import ReduceLROnPlateau\n",
    "from torch.optim.lr_scheduler import ExponentialLR\n",
    "from torch.optim.lr_scheduler import StepLR\n",
    "\n",
    "# Input parameters for the model\n",
    "EPOCHS = 20\n",
    "l1_decay=0.0005\n",
    "l2_decay=0.0\n",
    "norm_type = \"BN\"\n",
    "num_groups=2\n",
    "input_img_size=(1, 28, 28)\n",
    "\n",
    "\n",
    "# Run model\n",
    "model = Net2(norm_type, input_img_size, num_groups).to(device)\n",
    "optimizer = optim.SGD(model.parameters(), lr=0.1, momentum=0.9)\n",
    "scheduler = StepLR(optimizer, step_size=2, gamma=0.1)\n",
    "\n",
    "# run_model(model, optimizer, scheduler, EPOCHS, l1=0.0, l2=0.0)\n",
    "\n",
    "train_loss_list = []\n",
    "train_accuracy_list = []\n",
    "test_loss_list = []\n",
    "test_accuracy_list = []\n",
    "misclassified_imgs = []\n",
    "for epoch in range(EPOCHS):\n",
    "    print(\"EPOCH:\", epoch+1)\n",
    "    train_loss_list, train_accuracy_list = train(model, device, train_loader, optimizer, epoch, l1_decay, l2_decay, train_loss_list, train_accuracy_list)\n",
    "    print(\"\\nlearning rate\", np.round(optimizer.param_groups[0]['lr'],4))\n",
    "    scheduler.step()\n",
    "    # test(model1, device, test_loader, test_losses, test_acc, misclassified_imgs, epoch==EPOCHS-1)\n",
    "    test_loss_list, test_accuracy_list, misclassified_imgs = test(model, device, test_loader, test_loss_list, test_accuracy_list, misclassified_imgs, epoch==EPOCHS-1)\n",
    "\n",
    "name = norm_type + '_model'\n",
    "history[name] = {}\n",
    "history[name]['train_loss'] = train_loss_list\n",
    "history[name]['train_accuracy'] = train_accuracy_list\n",
    "history[name]['test_loss'] = test_loss_list\n",
    "history[name]['test_accuracy'] = test_accuracy_list\n",
    "history[name]['misclassified_imgs'] = misclassified_imgs"
   ]
  },
  {
   "cell_type": "markdown",
   "metadata": {},
   "source": [
    "### Model - Layer Normalization"
   ]
  },
  {
   "cell_type": "code",
   "execution_count": 8,
   "metadata": {
    "colab": {
     "base_uri": "https://localhost:8080/"
    },
    "id": "1Q-DLlSCGt22",
    "outputId": "647c362c-66d5-4753-df8b-4f80a892245c"
   },
   "outputs": [
    {
     "name": "stderr",
     "output_type": "stream",
     "text": [
      "\r",
      "  0%|          | 0/938 [00:00<?, ?it/s]"
     ]
    },
    {
     "name": "stdout",
     "output_type": "stream",
     "text": [
      "EPOCH: 1\n"
     ]
    },
    {
     "name": "stderr",
     "output_type": "stream",
     "text": [
      "Loss=0.06232750415802002 Batch_id=937 Accuracy=86.10: 100%|██████████| 938/938 [00:04<00:00, 195.67it/s] "
     ]
    },
    {
     "name": "stdout",
     "output_type": "stream",
     "text": [
      "length of Average loss 938, length of Average accuracy 938\n",
      "\n",
      "learning rate 0.1\n"
     ]
    },
    {
     "name": "stderr",
     "output_type": "stream",
     "text": [
      "\n",
      "  0%|          | 0/938 [00:00<?, ?it/s]"
     ]
    },
    {
     "name": "stdout",
     "output_type": "stream",
     "text": [
      "Test set: Average loss: 0.119115, Average accuracy: 9636/10000 (96.360000%)\n",
      "\n",
      "EPOCH: 2\n"
     ]
    },
    {
     "name": "stderr",
     "output_type": "stream",
     "text": [
      "Loss=0.23702310025691986 Batch_id=937 Accuracy=96.66: 100%|██████████| 938/938 [00:04<00:00, 191.84it/s]  "
     ]
    },
    {
     "name": "stdout",
     "output_type": "stream",
     "text": [
      "length of Average loss 1876, length of Average accuracy 1876\n",
      "\n",
      "learning rate 0.1\n"
     ]
    },
    {
     "name": "stderr",
     "output_type": "stream",
     "text": [
      "\n",
      "  0%|          | 0/938 [00:00<?, ?it/s]"
     ]
    },
    {
     "name": "stdout",
     "output_type": "stream",
     "text": [
      "Test set: Average loss: 0.057164, Average accuracy: 9836/10000 (98.360000%)\n",
      "\n",
      "EPOCH: 3\n"
     ]
    },
    {
     "name": "stderr",
     "output_type": "stream",
     "text": [
      "Loss=0.007772038225084543 Batch_id=937 Accuracy=98.21: 100%|██████████| 938/938 [00:04<00:00, 193.09it/s] "
     ]
    },
    {
     "name": "stdout",
     "output_type": "stream",
     "text": [
      "length of Average loss 2814, length of Average accuracy 2814\n",
      "\n",
      "learning rate 0.01\n"
     ]
    },
    {
     "name": "stderr",
     "output_type": "stream",
     "text": [
      "\n",
      "  0%|          | 0/938 [00:00<?, ?it/s]"
     ]
    },
    {
     "name": "stdout",
     "output_type": "stream",
     "text": [
      "Test set: Average loss: 0.042264, Average accuracy: 9862/10000 (98.620000%)\n",
      "\n",
      "EPOCH: 4\n"
     ]
    },
    {
     "name": "stderr",
     "output_type": "stream",
     "text": [
      "Loss=0.013741417787969112 Batch_id=937 Accuracy=98.33: 100%|██████████| 938/938 [00:04<00:00, 194.37it/s] \n"
     ]
    },
    {
     "name": "stdout",
     "output_type": "stream",
     "text": [
      "length of Average loss 3752, length of Average accuracy 3752\n",
      "\n",
      "learning rate 0.01\n"
     ]
    },
    {
     "name": "stderr",
     "output_type": "stream",
     "text": [
      "\r",
      "  0%|          | 0/938 [00:00<?, ?it/s]"
     ]
    },
    {
     "name": "stdout",
     "output_type": "stream",
     "text": [
      "Test set: Average loss: 0.042602, Average accuracy: 9870/10000 (98.700000%)\n",
      "\n",
      "EPOCH: 5\n"
     ]
    },
    {
     "name": "stderr",
     "output_type": "stream",
     "text": [
      "Loss=0.0018587427912279963 Batch_id=937 Accuracy=98.45: 100%|██████████| 938/938 [00:04<00:00, 192.68it/s]"
     ]
    },
    {
     "name": "stdout",
     "output_type": "stream",
     "text": [
      "length of Average loss 4690, length of Average accuracy 4690\n",
      "\n",
      "learning rate 0.001\n"
     ]
    },
    {
     "name": "stderr",
     "output_type": "stream",
     "text": [
      "\n",
      "  0%|          | 0/938 [00:00<?, ?it/s]"
     ]
    },
    {
     "name": "stdout",
     "output_type": "stream",
     "text": [
      "Test set: Average loss: 0.038532, Average accuracy: 9876/10000 (98.760000%)\n",
      "\n",
      "EPOCH: 6\n"
     ]
    },
    {
     "name": "stderr",
     "output_type": "stream",
     "text": [
      "Loss=0.053200140595436096 Batch_id=937 Accuracy=98.51: 100%|██████████| 938/938 [00:04<00:00, 195.22it/s] "
     ]
    },
    {
     "name": "stdout",
     "output_type": "stream",
     "text": [
      "length of Average loss 5628, length of Average accuracy 5628\n",
      "\n",
      "learning rate 0.001\n"
     ]
    },
    {
     "name": "stderr",
     "output_type": "stream",
     "text": [
      "\n",
      "  0%|          | 0/938 [00:00<?, ?it/s]"
     ]
    },
    {
     "name": "stdout",
     "output_type": "stream",
     "text": [
      "Test set: Average loss: 0.038301, Average accuracy: 9876/10000 (98.760000%)\n",
      "\n",
      "EPOCH: 7\n"
     ]
    },
    {
     "name": "stderr",
     "output_type": "stream",
     "text": [
      "Loss=0.016294093802571297 Batch_id=937 Accuracy=98.50: 100%|██████████| 938/938 [00:04<00:00, 194.41it/s] "
     ]
    },
    {
     "name": "stdout",
     "output_type": "stream",
     "text": [
      "length of Average loss 6566, length of Average accuracy 6566\n",
      "\n",
      "learning rate 0.0001\n"
     ]
    },
    {
     "name": "stderr",
     "output_type": "stream",
     "text": [
      "\n",
      "  0%|          | 0/938 [00:00<?, ?it/s]"
     ]
    },
    {
     "name": "stdout",
     "output_type": "stream",
     "text": [
      "Test set: Average loss: 0.038288, Average accuracy: 9880/10000 (98.800000%)\n",
      "\n",
      "EPOCH: 8\n"
     ]
    },
    {
     "name": "stderr",
     "output_type": "stream",
     "text": [
      "Loss=0.08365539461374283 Batch_id=937 Accuracy=98.56: 100%|██████████| 938/938 [00:04<00:00, 192.94it/s]  "
     ]
    },
    {
     "name": "stdout",
     "output_type": "stream",
     "text": [
      "length of Average loss 7504, length of Average accuracy 7504\n",
      "\n",
      "learning rate 0.0001\n"
     ]
    },
    {
     "name": "stderr",
     "output_type": "stream",
     "text": [
      "\n",
      "  0%|          | 0/938 [00:00<?, ?it/s]"
     ]
    },
    {
     "name": "stdout",
     "output_type": "stream",
     "text": [
      "Test set: Average loss: 0.038282, Average accuracy: 9878/10000 (98.780000%)\n",
      "\n",
      "EPOCH: 9\n"
     ]
    },
    {
     "name": "stderr",
     "output_type": "stream",
     "text": [
      "Loss=0.012501219287514687 Batch_id=937 Accuracy=98.56: 100%|██████████| 938/938 [00:04<00:00, 191.12it/s] \n"
     ]
    },
    {
     "name": "stdout",
     "output_type": "stream",
     "text": [
      "length of Average loss 8442, length of Average accuracy 8442\n",
      "\n",
      "learning rate 0.0\n"
     ]
    },
    {
     "name": "stderr",
     "output_type": "stream",
     "text": [
      "\r",
      "  0%|          | 0/938 [00:00<?, ?it/s]"
     ]
    },
    {
     "name": "stdout",
     "output_type": "stream",
     "text": [
      "Test set: Average loss: 0.038280, Average accuracy: 9877/10000 (98.770000%)\n",
      "\n",
      "EPOCH: 10\n"
     ]
    },
    {
     "name": "stderr",
     "output_type": "stream",
     "text": [
      "Loss=0.22229407727718353 Batch_id=937 Accuracy=98.56: 100%|██████████| 938/938 [00:04<00:00, 193.19it/s]  "
     ]
    },
    {
     "name": "stdout",
     "output_type": "stream",
     "text": [
      "length of Average loss 9380, length of Average accuracy 9380\n",
      "\n",
      "learning rate 0.0\n"
     ]
    },
    {
     "name": "stderr",
     "output_type": "stream",
     "text": [
      "\n",
      "  0%|          | 0/938 [00:00<?, ?it/s]"
     ]
    },
    {
     "name": "stdout",
     "output_type": "stream",
     "text": [
      "Test set: Average loss: 0.038273, Average accuracy: 9877/10000 (98.770000%)\n",
      "\n",
      "EPOCH: 11\n"
     ]
    },
    {
     "name": "stderr",
     "output_type": "stream",
     "text": [
      "Loss=0.04248259216547012 Batch_id=937 Accuracy=98.55: 100%|██████████| 938/938 [00:04<00:00, 194.28it/s]  "
     ]
    },
    {
     "name": "stdout",
     "output_type": "stream",
     "text": [
      "length of Average loss 10318, length of Average accuracy 10318\n",
      "\n",
      "learning rate 0.0\n"
     ]
    },
    {
     "name": "stderr",
     "output_type": "stream",
     "text": [
      "\n",
      "  0%|          | 0/938 [00:00<?, ?it/s]"
     ]
    },
    {
     "name": "stdout",
     "output_type": "stream",
     "text": [
      "Test set: Average loss: 0.038273, Average accuracy: 9877/10000 (98.770000%)\n",
      "\n",
      "EPOCH: 12\n"
     ]
    },
    {
     "name": "stderr",
     "output_type": "stream",
     "text": [
      "Loss=0.23011501133441925 Batch_id=937 Accuracy=98.53: 100%|██████████| 938/938 [00:04<00:00, 192.62it/s]  "
     ]
    },
    {
     "name": "stdout",
     "output_type": "stream",
     "text": [
      "length of Average loss 11256, length of Average accuracy 11256\n",
      "\n",
      "learning rate 0.0\n"
     ]
    },
    {
     "name": "stderr",
     "output_type": "stream",
     "text": [
      "\n",
      "  0%|          | 0/938 [00:00<?, ?it/s]"
     ]
    },
    {
     "name": "stdout",
     "output_type": "stream",
     "text": [
      "Test set: Average loss: 0.038273, Average accuracy: 9877/10000 (98.770000%)\n",
      "\n",
      "EPOCH: 13\n"
     ]
    },
    {
     "name": "stderr",
     "output_type": "stream",
     "text": [
      "Loss=0.022806448861956596 Batch_id=937 Accuracy=98.54: 100%|██████████| 938/938 [00:04<00:00, 192.69it/s] "
     ]
    },
    {
     "name": "stdout",
     "output_type": "stream",
     "text": [
      "length of Average loss 12194, length of Average accuracy 12194\n",
      "\n",
      "learning rate 0.0\n"
     ]
    },
    {
     "name": "stderr",
     "output_type": "stream",
     "text": [
      "\n",
      "  0%|          | 0/938 [00:00<?, ?it/s]"
     ]
    },
    {
     "name": "stdout",
     "output_type": "stream",
     "text": [
      "Test set: Average loss: 0.038273, Average accuracy: 9877/10000 (98.770000%)\n",
      "\n",
      "EPOCH: 14\n"
     ]
    },
    {
     "name": "stderr",
     "output_type": "stream",
     "text": [
      "Loss=0.002098585246130824 Batch_id=937 Accuracy=98.47: 100%|██████████| 938/938 [00:04<00:00, 192.51it/s] "
     ]
    },
    {
     "name": "stdout",
     "output_type": "stream",
     "text": [
      "length of Average loss 13132, length of Average accuracy 13132\n",
      "\n",
      "learning rate 0.0\n"
     ]
    },
    {
     "name": "stderr",
     "output_type": "stream",
     "text": [
      "\n",
      "  0%|          | 0/938 [00:00<?, ?it/s]"
     ]
    },
    {
     "name": "stdout",
     "output_type": "stream",
     "text": [
      "Test set: Average loss: 0.038273, Average accuracy: 9877/10000 (98.770000%)\n",
      "\n",
      "EPOCH: 15\n"
     ]
    },
    {
     "name": "stderr",
     "output_type": "stream",
     "text": [
      "Loss=0.004700261168181896 Batch_id=937 Accuracy=98.56: 100%|██████████| 938/938 [00:04<00:00, 193.87it/s] "
     ]
    },
    {
     "name": "stdout",
     "output_type": "stream",
     "text": [
      "length of Average loss 14070, length of Average accuracy 14070\n",
      "\n",
      "learning rate 0.0\n"
     ]
    },
    {
     "name": "stderr",
     "output_type": "stream",
     "text": [
      "\n",
      "  0%|          | 0/938 [00:00<?, ?it/s]"
     ]
    },
    {
     "name": "stdout",
     "output_type": "stream",
     "text": [
      "Test set: Average loss: 0.038273, Average accuracy: 9877/10000 (98.770000%)\n",
      "\n",
      "EPOCH: 16\n"
     ]
    },
    {
     "name": "stderr",
     "output_type": "stream",
     "text": [
      "Loss=0.021278880536556244 Batch_id=937 Accuracy=98.55: 100%|██████████| 938/938 [00:04<00:00, 193.35it/s] "
     ]
    },
    {
     "name": "stdout",
     "output_type": "stream",
     "text": [
      "length of Average loss 15008, length of Average accuracy 15008\n",
      "\n",
      "learning rate 0.0\n"
     ]
    },
    {
     "name": "stderr",
     "output_type": "stream",
     "text": [
      "\n",
      "  0%|          | 0/938 [00:00<?, ?it/s]"
     ]
    },
    {
     "name": "stdout",
     "output_type": "stream",
     "text": [
      "Test set: Average loss: 0.038273, Average accuracy: 9877/10000 (98.770000%)\n",
      "\n",
      "EPOCH: 17\n"
     ]
    },
    {
     "name": "stderr",
     "output_type": "stream",
     "text": [
      "Loss=0.0035112507175654173 Batch_id=937 Accuracy=98.46: 100%|██████████| 938/938 [00:04<00:00, 195.39it/s]"
     ]
    },
    {
     "name": "stdout",
     "output_type": "stream",
     "text": [
      "length of Average loss 15946, length of Average accuracy 15946\n",
      "\n",
      "learning rate 0.0\n"
     ]
    },
    {
     "name": "stderr",
     "output_type": "stream",
     "text": [
      "\n",
      "  0%|          | 0/938 [00:00<?, ?it/s]"
     ]
    },
    {
     "name": "stdout",
     "output_type": "stream",
     "text": [
      "Test set: Average loss: 0.038273, Average accuracy: 9877/10000 (98.770000%)\n",
      "\n",
      "EPOCH: 18\n"
     ]
    },
    {
     "name": "stderr",
     "output_type": "stream",
     "text": [
      "Loss=0.0034682429395616055 Batch_id=937 Accuracy=98.54: 100%|██████████| 938/938 [00:04<00:00, 195.47it/s]\n"
     ]
    },
    {
     "name": "stdout",
     "output_type": "stream",
     "text": [
      "length of Average loss 16884, length of Average accuracy 16884\n",
      "\n",
      "learning rate 0.0\n"
     ]
    },
    {
     "name": "stderr",
     "output_type": "stream",
     "text": [
      "\r",
      "  0%|          | 0/938 [00:00<?, ?it/s]"
     ]
    },
    {
     "name": "stdout",
     "output_type": "stream",
     "text": [
      "Test set: Average loss: 0.038273, Average accuracy: 9877/10000 (98.770000%)\n",
      "\n",
      "EPOCH: 19\n"
     ]
    },
    {
     "name": "stderr",
     "output_type": "stream",
     "text": [
      "Loss=0.02667097933590412 Batch_id=937 Accuracy=98.57: 100%|██████████| 938/938 [00:04<00:00, 195.84it/s]  "
     ]
    },
    {
     "name": "stdout",
     "output_type": "stream",
     "text": [
      "length of Average loss 17822, length of Average accuracy 17822\n",
      "\n",
      "learning rate 0.0\n"
     ]
    },
    {
     "name": "stderr",
     "output_type": "stream",
     "text": [
      "\n",
      "  0%|          | 0/938 [00:00<?, ?it/s]"
     ]
    },
    {
     "name": "stdout",
     "output_type": "stream",
     "text": [
      "Test set: Average loss: 0.038273, Average accuracy: 9877/10000 (98.770000%)\n",
      "\n",
      "EPOCH: 20\n"
     ]
    },
    {
     "name": "stderr",
     "output_type": "stream",
     "text": [
      "Loss=0.22583888471126556 Batch_id=937 Accuracy=98.56: 100%|██████████| 938/938 [00:04<00:00, 192.37it/s]  "
     ]
    },
    {
     "name": "stdout",
     "output_type": "stream",
     "text": [
      "length of Average loss 18760, length of Average accuracy 18760\n",
      "\n",
      "learning rate 0.0\n"
     ]
    },
    {
     "name": "stderr",
     "output_type": "stream",
     "text": [
      "\n"
     ]
    },
    {
     "name": "stdout",
     "output_type": "stream",
     "text": [
      "Test set: Average loss: 0.038273, Average accuracy: 9877/10000 (98.770000%)\n",
      "\n"
     ]
    }
   ],
   "source": [
    "from torch.optim.lr_scheduler import ReduceLROnPlateau\n",
    "from torch.optim.lr_scheduler import ExponentialLR\n",
    "from torch.optim.lr_scheduler import StepLR\n",
    "\n",
    "# Input parameters for the model\n",
    "EPOCHS = 20\n",
    "l1_decay=0.0\n",
    "l2_decay=0.0\n",
    "norm_type = \"LN\"\n",
    "num_groups=2\n",
    "input_img_size=(1, 28, 28)\n",
    "\n",
    "\n",
    "# Run model\n",
    "model = Net2(norm_type, input_img_size, num_groups).to(device)\n",
    "optimizer = optim.SGD(model.parameters(), lr=0.1, momentum=0.9)\n",
    "scheduler = StepLR(optimizer, step_size=2, gamma=0.1)\n",
    "\n",
    "# run_model(model, optimizer, scheduler, EPOCHS, l1=0.0, l2=0.0)\n",
    "\n",
    "train_loss_list = []\n",
    "train_accuracy_list = []\n",
    "test_loss_list = []\n",
    "test_accuracy_list = []\n",
    "misclassified_imgs = []\n",
    "for epoch in range(EPOCHS):\n",
    "    print(\"EPOCH:\", epoch+1)\n",
    "    train_loss_list, train_accuracy_list = train(model, device, train_loader, optimizer, epoch, l1_decay, l2_decay, train_loss_list, train_accuracy_list)\n",
    "    print(\"\\nlearning rate\", np.round(optimizer.param_groups[0]['lr'],4))\n",
    "    scheduler.step()\n",
    "    # test(model1, device, test_loader, test_losses, test_acc, misclassified_imgs, epoch==EPOCHS-1)\n",
    "    test_loss_list, test_accuracy_list, misclassified_imgs = test(model, device, test_loader, test_loss_list, test_accuracy_list, misclassified_imgs, epoch==EPOCHS-1)\n",
    "\n",
    "name = norm_type + '_model'\n",
    "history[name] = {}\n",
    "history[name]['train_loss'] = train_loss_list\n",
    "history[name]['train_accuracy'] = train_accuracy_list\n",
    "history[name]['test_loss'] = test_loss_list\n",
    "history[name]['test_accuracy'] = test_accuracy_list\n",
    "history[name]['misclassified_imgs'] = misclassified_imgs"
   ]
  },
  {
   "cell_type": "markdown",
   "metadata": {},
   "source": [
    "### Model - Group Normalization "
   ]
  },
  {
   "cell_type": "code",
   "execution_count": 9,
   "metadata": {
    "colab": {
     "base_uri": "https://localhost:8080/"
    },
    "id": "dJVYRdpCG4es",
    "outputId": "e9069c78-51ad-4006-d50b-57f6067ee67e"
   },
   "outputs": [
    {
     "name": "stderr",
     "output_type": "stream",
     "text": [
      "\r",
      "  0%|          | 0/938 [00:00<?, ?it/s]"
     ]
    },
    {
     "name": "stdout",
     "output_type": "stream",
     "text": [
      "EPOCH: 1\n"
     ]
    },
    {
     "name": "stderr",
     "output_type": "stream",
     "text": [
      "Loss=0.030299270525574684 Batch_id=937 Accuracy=84.42: 100%|██████████| 938/938 [00:04<00:00, 194.43it/s]"
     ]
    },
    {
     "name": "stdout",
     "output_type": "stream",
     "text": [
      "length of Average loss 938, length of Average accuracy 938\n",
      "\n",
      "learning rate 0.1\n"
     ]
    },
    {
     "name": "stderr",
     "output_type": "stream",
     "text": [
      "\n",
      "  0%|          | 0/938 [00:00<?, ?it/s]"
     ]
    },
    {
     "name": "stdout",
     "output_type": "stream",
     "text": [
      "Test set: Average loss: 0.141923, Average accuracy: 9568/10000 (95.680000%)\n",
      "\n",
      "EPOCH: 2\n"
     ]
    },
    {
     "name": "stderr",
     "output_type": "stream",
     "text": [
      "Loss=0.19853460788726807 Batch_id=937 Accuracy=95.94: 100%|██████████| 938/938 [00:04<00:00, 197.29it/s] "
     ]
    },
    {
     "name": "stdout",
     "output_type": "stream",
     "text": [
      "length of Average loss 1876, length of Average accuracy 1876\n",
      "\n",
      "learning rate 0.1\n"
     ]
    },
    {
     "name": "stderr",
     "output_type": "stream",
     "text": [
      "\n",
      "  0%|          | 0/938 [00:00<?, ?it/s]"
     ]
    },
    {
     "name": "stdout",
     "output_type": "stream",
     "text": [
      "Test set: Average loss: 0.079309, Average accuracy: 9763/10000 (97.630000%)\n",
      "\n",
      "EPOCH: 3\n"
     ]
    },
    {
     "name": "stderr",
     "output_type": "stream",
     "text": [
      "Loss=0.2114396095275879 Batch_id=937 Accuracy=97.89: 100%|██████████| 938/938 [00:04<00:00, 193.60it/s]   "
     ]
    },
    {
     "name": "stdout",
     "output_type": "stream",
     "text": [
      "length of Average loss 2814, length of Average accuracy 2814\n",
      "\n",
      "learning rate 0.01\n"
     ]
    },
    {
     "name": "stderr",
     "output_type": "stream",
     "text": [
      "\n",
      "  0%|          | 0/938 [00:00<?, ?it/s]"
     ]
    },
    {
     "name": "stdout",
     "output_type": "stream",
     "text": [
      "Test set: Average loss: 0.052587, Average accuracy: 9832/10000 (98.320000%)\n",
      "\n",
      "EPOCH: 4\n"
     ]
    },
    {
     "name": "stderr",
     "output_type": "stream",
     "text": [
      "Loss=0.026204336434602737 Batch_id=937 Accuracy=98.16: 100%|██████████| 938/938 [00:04<00:00, 196.73it/s] "
     ]
    },
    {
     "name": "stdout",
     "output_type": "stream",
     "text": [
      "length of Average loss 3752, length of Average accuracy 3752\n",
      "\n",
      "learning rate 0.01\n"
     ]
    },
    {
     "name": "stderr",
     "output_type": "stream",
     "text": [
      "\n",
      "  0%|          | 0/938 [00:00<?, ?it/s]"
     ]
    },
    {
     "name": "stdout",
     "output_type": "stream",
     "text": [
      "Test set: Average loss: 0.046438, Average accuracy: 9848/10000 (98.480000%)\n",
      "\n",
      "EPOCH: 5\n"
     ]
    },
    {
     "name": "stderr",
     "output_type": "stream",
     "text": [
      "Loss=0.011262182146310806 Batch_id=937 Accuracy=98.32: 100%|██████████| 938/938 [00:04<00:00, 193.97it/s] "
     ]
    },
    {
     "name": "stdout",
     "output_type": "stream",
     "text": [
      "length of Average loss 4690, length of Average accuracy 4690\n",
      "\n",
      "learning rate 0.001\n"
     ]
    },
    {
     "name": "stderr",
     "output_type": "stream",
     "text": [
      "\n",
      "  0%|          | 0/938 [00:00<?, ?it/s]"
     ]
    },
    {
     "name": "stdout",
     "output_type": "stream",
     "text": [
      "Test set: Average loss: 0.046014, Average accuracy: 9854/10000 (98.540000%)\n",
      "\n",
      "EPOCH: 6\n"
     ]
    },
    {
     "name": "stderr",
     "output_type": "stream",
     "text": [
      "Loss=0.03210469335317612 Batch_id=937 Accuracy=98.34: 100%|██████████| 938/938 [00:04<00:00, 195.76it/s]  "
     ]
    },
    {
     "name": "stdout",
     "output_type": "stream",
     "text": [
      "length of Average loss 5628, length of Average accuracy 5628\n",
      "\n",
      "learning rate 0.001\n"
     ]
    },
    {
     "name": "stderr",
     "output_type": "stream",
     "text": [
      "\n",
      "  0%|          | 0/938 [00:00<?, ?it/s]"
     ]
    },
    {
     "name": "stdout",
     "output_type": "stream",
     "text": [
      "Test set: Average loss: 0.045950, Average accuracy: 9849/10000 (98.490000%)\n",
      "\n",
      "EPOCH: 7\n"
     ]
    },
    {
     "name": "stderr",
     "output_type": "stream",
     "text": [
      "Loss=0.02667105570435524 Batch_id=937 Accuracy=98.34: 100%|██████████| 938/938 [00:04<00:00, 197.42it/s]  "
     ]
    },
    {
     "name": "stdout",
     "output_type": "stream",
     "text": [
      "length of Average loss 6566, length of Average accuracy 6566\n",
      "\n",
      "learning rate 0.0001\n"
     ]
    },
    {
     "name": "stderr",
     "output_type": "stream",
     "text": [
      "\n",
      "  0%|          | 0/938 [00:00<?, ?it/s]"
     ]
    },
    {
     "name": "stdout",
     "output_type": "stream",
     "text": [
      "Test set: Average loss: 0.045760, Average accuracy: 9851/10000 (98.510000%)\n",
      "\n",
      "EPOCH: 8\n"
     ]
    },
    {
     "name": "stderr",
     "output_type": "stream",
     "text": [
      "Loss=0.160994291305542 Batch_id=937 Accuracy=98.36: 100%|██████████| 938/938 [00:04<00:00, 195.70it/s]    \n"
     ]
    },
    {
     "name": "stdout",
     "output_type": "stream",
     "text": [
      "length of Average loss 7504, length of Average accuracy 7504\n",
      "\n",
      "learning rate 0.0001\n"
     ]
    },
    {
     "name": "stderr",
     "output_type": "stream",
     "text": [
      "\r",
      "  0%|          | 0/938 [00:00<?, ?it/s]"
     ]
    },
    {
     "name": "stdout",
     "output_type": "stream",
     "text": [
      "Test set: Average loss: 0.045669, Average accuracy: 9851/10000 (98.510000%)\n",
      "\n",
      "EPOCH: 9\n"
     ]
    },
    {
     "name": "stderr",
     "output_type": "stream",
     "text": [
      "Loss=0.005178607068955898 Batch_id=937 Accuracy=98.35: 100%|██████████| 938/938 [00:04<00:00, 191.72it/s] "
     ]
    },
    {
     "name": "stdout",
     "output_type": "stream",
     "text": [
      "length of Average loss 8442, length of Average accuracy 8442\n",
      "\n",
      "learning rate 0.0\n"
     ]
    },
    {
     "name": "stderr",
     "output_type": "stream",
     "text": [
      "\n",
      "  0%|          | 0/938 [00:00<?, ?it/s]"
     ]
    },
    {
     "name": "stdout",
     "output_type": "stream",
     "text": [
      "Test set: Average loss: 0.045646, Average accuracy: 9852/10000 (98.520000%)\n",
      "\n",
      "EPOCH: 10\n"
     ]
    },
    {
     "name": "stderr",
     "output_type": "stream",
     "text": [
      "Loss=0.00985125731676817 Batch_id=937 Accuracy=98.41: 100%|██████████| 938/938 [00:04<00:00, 197.49it/s]  "
     ]
    },
    {
     "name": "stdout",
     "output_type": "stream",
     "text": [
      "length of Average loss 9380, length of Average accuracy 9380\n",
      "\n",
      "learning rate 0.0\n"
     ]
    },
    {
     "name": "stderr",
     "output_type": "stream",
     "text": [
      "\n",
      "  0%|          | 0/938 [00:00<?, ?it/s]"
     ]
    },
    {
     "name": "stdout",
     "output_type": "stream",
     "text": [
      "Test set: Average loss: 0.045626, Average accuracy: 9852/10000 (98.520000%)\n",
      "\n",
      "EPOCH: 11\n"
     ]
    },
    {
     "name": "stderr",
     "output_type": "stream",
     "text": [
      "Loss=0.14793606102466583 Batch_id=937 Accuracy=98.38: 100%|██████████| 938/938 [00:04<00:00, 198.54it/s]  "
     ]
    },
    {
     "name": "stdout",
     "output_type": "stream",
     "text": [
      "length of Average loss 10318, length of Average accuracy 10318\n",
      "\n",
      "learning rate 0.0\n"
     ]
    },
    {
     "name": "stderr",
     "output_type": "stream",
     "text": [
      "\n",
      "  0%|          | 0/938 [00:00<?, ?it/s]"
     ]
    },
    {
     "name": "stdout",
     "output_type": "stream",
     "text": [
      "Test set: Average loss: 0.045625, Average accuracy: 9852/10000 (98.520000%)\n",
      "\n",
      "EPOCH: 12\n"
     ]
    },
    {
     "name": "stderr",
     "output_type": "stream",
     "text": [
      "Loss=0.01066169049590826 Batch_id=937 Accuracy=98.30: 100%|██████████| 938/938 [00:04<00:00, 196.87it/s]  "
     ]
    },
    {
     "name": "stdout",
     "output_type": "stream",
     "text": [
      "length of Average loss 11256, length of Average accuracy 11256\n",
      "\n",
      "learning rate 0.0\n"
     ]
    },
    {
     "name": "stderr",
     "output_type": "stream",
     "text": [
      "\n",
      "  0%|          | 0/938 [00:00<?, ?it/s]"
     ]
    },
    {
     "name": "stdout",
     "output_type": "stream",
     "text": [
      "Test set: Average loss: 0.045624, Average accuracy: 9852/10000 (98.520000%)\n",
      "\n",
      "EPOCH: 13\n"
     ]
    },
    {
     "name": "stderr",
     "output_type": "stream",
     "text": [
      "Loss=0.15950942039489746 Batch_id=937 Accuracy=98.38: 100%|██████████| 938/938 [00:04<00:00, 194.15it/s]  "
     ]
    },
    {
     "name": "stdout",
     "output_type": "stream",
     "text": [
      "length of Average loss 12194, length of Average accuracy 12194\n",
      "\n",
      "learning rate 0.0\n"
     ]
    },
    {
     "name": "stderr",
     "output_type": "stream",
     "text": [
      "\n",
      "  0%|          | 0/938 [00:00<?, ?it/s]"
     ]
    },
    {
     "name": "stdout",
     "output_type": "stream",
     "text": [
      "Test set: Average loss: 0.045624, Average accuracy: 9852/10000 (98.520000%)\n",
      "\n",
      "EPOCH: 14\n"
     ]
    },
    {
     "name": "stderr",
     "output_type": "stream",
     "text": [
      "Loss=0.03622915968298912 Batch_id=937 Accuracy=98.33: 100%|██████████| 938/938 [00:04<00:00, 198.17it/s]  "
     ]
    },
    {
     "name": "stdout",
     "output_type": "stream",
     "text": [
      "length of Average loss 13132, length of Average accuracy 13132\n",
      "\n",
      "learning rate 0.0\n"
     ]
    },
    {
     "name": "stderr",
     "output_type": "stream",
     "text": [
      "\n",
      "  0%|          | 0/938 [00:00<?, ?it/s]"
     ]
    },
    {
     "name": "stdout",
     "output_type": "stream",
     "text": [
      "Test set: Average loss: 0.045624, Average accuracy: 9852/10000 (98.520000%)\n",
      "\n",
      "EPOCH: 15\n"
     ]
    },
    {
     "name": "stderr",
     "output_type": "stream",
     "text": [
      "Loss=0.03236009180545807 Batch_id=937 Accuracy=98.29: 100%|██████████| 938/938 [00:04<00:00, 191.01it/s]  "
     ]
    },
    {
     "name": "stdout",
     "output_type": "stream",
     "text": [
      "length of Average loss 14070, length of Average accuracy 14070\n",
      "\n",
      "learning rate 0.0\n"
     ]
    },
    {
     "name": "stderr",
     "output_type": "stream",
     "text": [
      "\n",
      "  0%|          | 0/938 [00:00<?, ?it/s]"
     ]
    },
    {
     "name": "stdout",
     "output_type": "stream",
     "text": [
      "Test set: Average loss: 0.045624, Average accuracy: 9852/10000 (98.520000%)\n",
      "\n",
      "EPOCH: 16\n"
     ]
    },
    {
     "name": "stderr",
     "output_type": "stream",
     "text": [
      "Loss=0.027879105880856514 Batch_id=937 Accuracy=98.34: 100%|██████████| 938/938 [00:04<00:00, 192.65it/s] "
     ]
    },
    {
     "name": "stdout",
     "output_type": "stream",
     "text": [
      "length of Average loss 15008, length of Average accuracy 15008\n",
      "\n",
      "learning rate 0.0\n"
     ]
    },
    {
     "name": "stderr",
     "output_type": "stream",
     "text": [
      "\n",
      "  0%|          | 0/938 [00:00<?, ?it/s]"
     ]
    },
    {
     "name": "stdout",
     "output_type": "stream",
     "text": [
      "Test set: Average loss: 0.045624, Average accuracy: 9852/10000 (98.520000%)\n",
      "\n",
      "EPOCH: 17\n"
     ]
    },
    {
     "name": "stderr",
     "output_type": "stream",
     "text": [
      "Loss=0.008701993152499199 Batch_id=937 Accuracy=98.34: 100%|██████████| 938/938 [00:04<00:00, 198.34it/s] "
     ]
    },
    {
     "name": "stdout",
     "output_type": "stream",
     "text": [
      "length of Average loss 15946, length of Average accuracy 15946\n",
      "\n",
      "learning rate 0.0\n"
     ]
    },
    {
     "name": "stderr",
     "output_type": "stream",
     "text": [
      "\n",
      "  0%|          | 0/938 [00:00<?, ?it/s]"
     ]
    },
    {
     "name": "stdout",
     "output_type": "stream",
     "text": [
      "Test set: Average loss: 0.045624, Average accuracy: 9852/10000 (98.520000%)\n",
      "\n",
      "EPOCH: 18\n"
     ]
    },
    {
     "name": "stderr",
     "output_type": "stream",
     "text": [
      "Loss=0.29634353518486023 Batch_id=937 Accuracy=98.39: 100%|██████████| 938/938 [00:04<00:00, 192.37it/s]  "
     ]
    },
    {
     "name": "stdout",
     "output_type": "stream",
     "text": [
      "length of Average loss 16884, length of Average accuracy 16884\n",
      "\n",
      "learning rate 0.0\n"
     ]
    },
    {
     "name": "stderr",
     "output_type": "stream",
     "text": [
      "\n",
      "  0%|          | 0/938 [00:00<?, ?it/s]"
     ]
    },
    {
     "name": "stdout",
     "output_type": "stream",
     "text": [
      "Test set: Average loss: 0.045624, Average accuracy: 9852/10000 (98.520000%)\n",
      "\n",
      "EPOCH: 19\n"
     ]
    },
    {
     "name": "stderr",
     "output_type": "stream",
     "text": [
      "Loss=0.004863407462835312 Batch_id=937 Accuracy=98.30: 100%|██████████| 938/938 [00:04<00:00, 197.76it/s] "
     ]
    },
    {
     "name": "stdout",
     "output_type": "stream",
     "text": [
      "length of Average loss 17822, length of Average accuracy 17822\n",
      "\n",
      "learning rate 0.0\n"
     ]
    },
    {
     "name": "stderr",
     "output_type": "stream",
     "text": [
      "\n",
      "  0%|          | 0/938 [00:00<?, ?it/s]"
     ]
    },
    {
     "name": "stdout",
     "output_type": "stream",
     "text": [
      "Test set: Average loss: 0.045624, Average accuracy: 9852/10000 (98.520000%)\n",
      "\n",
      "EPOCH: 20\n"
     ]
    },
    {
     "name": "stderr",
     "output_type": "stream",
     "text": [
      "Loss=0.0370502844452858 Batch_id=937 Accuracy=98.30: 100%|██████████| 938/938 [00:04<00:00, 193.11it/s]   "
     ]
    },
    {
     "name": "stdout",
     "output_type": "stream",
     "text": [
      "length of Average loss 18760, length of Average accuracy 18760\n",
      "\n",
      "learning rate 0.0\n"
     ]
    },
    {
     "name": "stderr",
     "output_type": "stream",
     "text": [
      "\n"
     ]
    },
    {
     "name": "stdout",
     "output_type": "stream",
     "text": [
      "Test set: Average loss: 0.045624, Average accuracy: 9852/10000 (98.520000%)\n",
      "\n"
     ]
    }
   ],
   "source": [
    "from torch.optim.lr_scheduler import ReduceLROnPlateau\n",
    "from torch.optim.lr_scheduler import ExponentialLR\n",
    "from torch.optim.lr_scheduler import StepLR\n",
    "\n",
    "# Input parameters for the model\n",
    "EPOCHS = 20\n",
    "l1_decay=0.0\n",
    "l2_decay=0.0\n",
    "norm_type = \"GN\"\n",
    "num_groups=2\n",
    "input_img_size=(1, 28, 28)\n",
    "\n",
    "\n",
    "# Run model\n",
    "model = Net2(norm_type, input_img_size, num_groups).to(device)\n",
    "optimizer = optim.SGD(model.parameters(), lr=0.1, momentum=0.9)\n",
    "scheduler = StepLR(optimizer, step_size=2, gamma=0.1)\n",
    "\n",
    "# run_model(model, optimizer, scheduler, EPOCHS, l1=0.0, l2=0.0)\n",
    "\n",
    "train_loss_list = []\n",
    "train_accuracy_list = []\n",
    "test_loss_list = []\n",
    "test_accuracy_list = []\n",
    "misclassified_imgs = []\n",
    "for epoch in range(EPOCHS):\n",
    "    print(\"EPOCH:\", epoch+1)\n",
    "    train_loss_list, train_accuracy_list = train(model, device, train_loader, optimizer, epoch, l1_decay, l2_decay, train_loss_list, train_accuracy_list)\n",
    "    print(\"\\nlearning rate\", np.round(optimizer.param_groups[0]['lr'],4))\n",
    "    scheduler.step()\n",
    "    # test(model1, device, test_loader, test_losses, test_acc, misclassified_imgs, epoch==EPOCHS-1)\n",
    "    test_loss_list, test_accuracy_list, misclassified_imgs = test(model, device, test_loader, test_loss_list, test_accuracy_list, misclassified_imgs, epoch==EPOCHS-1)\n",
    "\n",
    "name = norm_type + '_model'\n",
    "history[name] = {}\n",
    "history[name]['train_loss'] = train_loss_list\n",
    "history[name]['train_accuracy'] = train_accuracy_list\n",
    "history[name]['test_loss'] = test_loss_list\n",
    "history[name]['test_accuracy'] = test_accuracy_list\n",
    "history[name]['misclassified_imgs'] = misclassified_imgs"
   ]
  },
  {
   "cell_type": "code",
   "execution_count": 10,
   "metadata": {
    "colab": {
     "base_uri": "https://localhost:8080/",
     "height": 801
    },
    "id": "9aXrhFoelYj-",
    "outputId": "d048d07e-9b59-4d2b-8242-9a3a5cc50141"
   },
   "outputs": [
    {
     "data": {
      "image/png": "[encoded data removed]",
      "text/plain": [
       "<Figure size 2160x864 with 4 Axes>"
      ]
     },
     "metadata": {
      "needs_background": "light"
     },
     "output_type": "display_data"
    }
   ],
   "source": [
    "training_curves(history)"
   ]
  },
  {
   "cell_type": "markdown",
   "metadata": {
    "id": "F2x1ekDuH4mw"
   },
   "source": [
    "# Check Misclassified Images"
   ]
  },
  {
   "cell_type": "code",
   "execution_count": 11,
   "metadata": {
    "id": "1qcRMXWPIWkG"
   },
   "outputs": [],
   "source": [
    "def plot_misclassified_images(img_data, img_name, count):\n",
    "  figure = plt.figure(figsize=(10, 10))\n",
    "  num_of_images = len(img_data)\n",
    "  for index in range(1, count + 1):\n",
    "      plt.subplot(5, np.ceil(count/5), index)\n",
    "      plt.axis('off')\n",
    "      plt.imshow(img_data[index-1][\"img\"], cmap='gray_r')\n",
    "      plt.title(\"Predicted: %s\\nActual: %s\" % (img_data[index-1][\"pred\"], img_data[index-1][\"target\"]))\n",
    "  plt.tight_layout()\n",
    "  plt.savefig(img_name)"
   ]
  },
  {
   "cell_type": "markdown",
   "metadata": {
    "id": "D95y9zmuJ7zE"
   },
   "source": [
    "### L1 + Batch Normalization model"
   ]
  },
  {
   "cell_type": "code",
   "execution_count": 12,
   "metadata": {
    "colab": {
     "base_uri": "https://localhost:8080/",
     "height": 764
    },
    "id": "QwiUsFvFIW2M",
    "outputId": "06085b7b-9f21-4951-8029-0f2a61e43351"
   },
   "outputs": [
    {
     "name": "stderr",
     "output_type": "stream",
     "text": [
      "<ipython-input-11-bcbfa1a2ba17>:5: MatplotlibDeprecationWarning: Passing non-integers as three-element position specification is deprecated since 3.3 and will be removed two minor releases later.\n",
      "  plt.subplot(5, np.ceil(count/5), index)\n"
     ]
    },
    {
     "data": {
      "image/png": "[encoded data removed]",
      "text/plain": [
       "<Figure size 720x720 with 20 Axes>"
      ]
     },
     "metadata": {
      "needs_background": "light"
     },
     "output_type": "display_data"
    }
   ],
   "source": [
    "plot_misclassified_images(history['BN_model']['misclassified_imgs'], \"misclassified_imgs_BN.png\", 20)"
   ]
  },
  {
   "cell_type": "markdown",
   "metadata": {
    "id": "GjGisYpCKAZs"
   },
   "source": [
    "### Group Normalization model"
   ]
  },
  {
   "cell_type": "code",
   "execution_count": 13,
   "metadata": {
    "colab": {
     "base_uri": "https://localhost:8080/",
     "height": 764
    },
    "id": "oDDE0C4XJnDe",
    "outputId": "b529a5ea-a6a3-48b2-955f-40ba5b6f7fdd"
   },
   "outputs": [
    {
     "name": "stderr",
     "output_type": "stream",
     "text": [
      "<ipython-input-11-bcbfa1a2ba17>:5: MatplotlibDeprecationWarning: Passing non-integers as three-element position specification is deprecated since 3.3 and will be removed two minor releases later.\n",
      "  plt.subplot(5, np.ceil(count/5), index)\n"
     ]
    },
    {
     "data": {
      "image/png": "[encoded data removed]",
      "text/plain": [
       "<Figure size 720x720 with 20 Axes>"
      ]
     },
     "metadata": {
      "needs_background": "light"
     },
     "output_type": "display_data"
    }
   ],
   "source": [
    "plot_misclassified_images(history['GN_model']['misclassified_imgs'], \"misclassified_imgs_GN.png\", 20)"
   ]
  },
  {
   "cell_type": "markdown",
   "metadata": {
    "id": "qfsjZiWdKEAR"
   },
   "source": [
    "### Layer Normalization model"
   ]
  },
  {
   "cell_type": "code",
   "execution_count": 14,
   "metadata": {
    "colab": {
     "base_uri": "https://localhost:8080/",
     "height": 764
    },
    "id": "nsYSqqQSJrbB",
    "outputId": "80732bfd-58b3-49de-e676-18fe6a39e791"
   },
   "outputs": [
    {
     "name": "stderr",
     "output_type": "stream",
     "text": [
      "<ipython-input-11-bcbfa1a2ba17>:5: MatplotlibDeprecationWarning: Passing non-integers as three-element position specification is deprecated since 3.3 and will be removed two minor releases later.\n",
      "  plt.subplot(5, np.ceil(count/5), index)\n"
     ]
    },
    {
     "data": {
      "image/png": "[encoded data removed]",
      "text/plain": [
       "<Figure size 720x720 with 20 Axes>"
      ]
     },
     "metadata": {
      "needs_background": "light"
     },
     "output_type": "display_data"
    }
   ],
   "source": [
    "plot_misclassified_images(history['LN_model']['misclassified_imgs'], \"misclassified_imgs_LN.png\", 20)"
   ]
  },
  {
   "cell_type": "code",
   "execution_count": null,
   "metadata": {
    "id": "vPtpE6bS98eL"
   },
   "outputs": [],
   "source": []
  }
 ],
 "metadata": {
  "accelerator": "GPU",
  "colab": {
   "collapsed_sections": [],
   "name": "Assign_6_Normalization & Regularization.ipynb",
   "provenance": []
  },
  "kernelspec": {
   "display_name": "Python 3",
   "language": "python",
   "name": "python3"
  },
  "language_info": {
   "codemirror_mode": {
    "name": "ipython",
    "version": 3
   },
   "file_extension": ".py",
   "mimetype": "text/x-python",
   "name": "python",
   "nbconvert_exporter": "python",
   "pygments_lexer": "ipython3",
   "version": "3.8.8"
  }
 },
 "nbformat": 4,
 "nbformat_minor": 1
}
