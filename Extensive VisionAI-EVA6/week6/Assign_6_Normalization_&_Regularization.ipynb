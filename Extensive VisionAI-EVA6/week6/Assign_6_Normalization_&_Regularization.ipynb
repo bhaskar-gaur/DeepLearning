{
  "nbformat": 4,
  "nbformat_minor": 0,
  "metadata": {
    "accelerator": "GPU",
    "colab": {
      "name": "Assign_6_Normalization & Regularization.ipynb",
      "provenance": [],
      "collapsed_sections": []
    },
    "kernelspec": {
      "display_name": "Python 3",
      "name": "python3"
    },
    "language_info": {
      "name": "python"
    }
  },
  "cells": [
    {
      "cell_type": "code",
      "metadata": {
        "id": "t2jsUEUjox8s"
      },
      "source": [
        "from __future__ import print_function\n",
        "import torch\n",
        "import torch.nn as nn\n",
        "import torch.nn.functional as F\n",
        "import torch.optim as optim\n",
        "from torchvision import datasets, transforms\n",
        "from torchsummary import summary\n",
        "use_cuda = torch.cuda.is_available()\n",
        "device = torch.device(\"cuda\" if use_cuda else \"cpu\")"
      ],
      "execution_count": null,
      "outputs": []
    },
    {
      "cell_type": "code",
      "metadata": {
        "colab": {
          "base_uri": "https://localhost:8080/"
        },
        "id": "TdiE4A1JAM31",
        "outputId": "56f9fc45-cb47-4e8d-9979-e31adb52d74a"
      },
      "source": [
        "# Train Phase transformations\n",
        "train_transforms = transforms.Compose([\n",
        "                                      #transforms.ToPILImage(),\n",
        "                                      #transforms.Resize((28, 28)),\n",
        "                                      #transforms.ColorJitter(brightness=0.10, contrast=0.1, saturation=0.10, hue=0.1),\n",
        "                                       #transforms.RandomRotation((-7.0, 7.0), fill=(0.13,)),\n",
        "                                       transforms.ToTensor(),\n",
        "                                       transforms.Normalize((0.1307,), (0.3081,)), # The mean and std have to be sequences (e.g., tuples), therefore you should add a comma after the values. \n",
        "                                       # Note the difference between (0.1307) and (0.1307,)\n",
        "                                       #transforms.RandomRotation((-5.0, 5.0), fill=(-0.42,)),\n",
        "                                       transforms.RandomAffine((-5,5), translate=None, scale=None, shear=5, resample=False, fillcolor=(-0.42,))\n",
        "                                       ])\n",
        "\n",
        "# Test Phase transformations\n",
        "test_transforms = transforms.Compose([\n",
        "                                      #  transforms.Resize((28, 28)),\n",
        "                                      #  transforms.ColorJitter(brightness=0.10, contrast=0.1, saturation=0.10, hue=0.1),\n",
        "                                       transforms.ToTensor(),\n",
        "                                       transforms.Normalize((0.1307,), (0.3081,))\n",
        "                                       ])\n",
        "\n",
        "train = datasets.MNIST('./data', train=True, download=True, transform=train_transforms)\n",
        "test = datasets.MNIST('./data', train=False, download=True, transform=test_transforms)\n",
        "\n",
        "SEED = 1\n",
        "\n",
        "# CUDA?\n",
        "cuda = torch.cuda.is_available()\n",
        "print(\"CUDA Available?\", cuda)\n",
        "\n",
        "# For reproducibility\n",
        "torch.manual_seed(SEED)\n",
        "\n",
        "if cuda:\n",
        "    torch.cuda.manual_seed(SEED)\n",
        "\n",
        "# dataloader arguments - something you'll fetch these from cmdprmt\n",
        "dataloader_args = dict(shuffle=True, batch_size=64, num_workers=4, pin_memory=True) if cuda else dict(shuffle=True, batch_size=64)\n",
        "\n",
        "# train dataloader\n",
        "train_loader = torch.utils.data.DataLoader(train, **dataloader_args)\n",
        "\n",
        "# test dataloader\n",
        "test_loader = torch.utils.data.DataLoader(test, **dataloader_args)\n",
        "\n",
        "#dict to store model loss and accuracy parameters\n",
        "history = {}"
      ],
      "execution_count": null,
      "outputs": [
        {
          "output_type": "stream",
          "text": [
            "CUDA Available? True\n"
          ],
          "name": "stdout"
        }
      ]
    },
    {
      "cell_type": "code",
      "metadata": {
        "id": "QBj0TbcEDSCo"
      },
      "source": [
        "from tqdm import tqdm\n",
        "\n",
        "def train(model, device, train_loader, optimizer, epoch, l1_decay, l2_decay, train_loss_list, train_accuracy_list):\n",
        "  model.train()\n",
        "  pbar = tqdm(train_loader)\n",
        "  correct = 0\n",
        "  processed = 0\n",
        "\n",
        "  for batch_idx, (data, target) in enumerate(pbar):\n",
        "    # get samples\n",
        "    data, target = data.to(device), target.to(device)\n",
        "\n",
        "    # Init\n",
        "    optimizer.zero_grad()\n",
        "    # In PyTorch, we need to set the gradients to zero before starting to do backpropragation because PyTorch accumulates the gradients on subsequent backward passes. \n",
        "    # Because of this, when you start your training loop, ideally you should zero out the gradients so that you do the parameter update correctly.\n",
        "\n",
        "    # Predict\n",
        "    y_pred = model(data)\n",
        "\n",
        "    # Calculate loss\n",
        "    loss = F.nll_loss(y_pred, target)\n",
        "    if l1_decay > 0:\n",
        "      l1_loss = 0\n",
        "      for param in model.parameters():\n",
        "        l1_loss += torch.norm(param,1)\n",
        "      loss += l1_decay * l1_loss\n",
        "    if l2_decay > 0:\n",
        "      l2_loss = 0\n",
        "      for param in model.parameters():\n",
        "        l2_loss += torch.norm(param,2)\n",
        "      loss += l2_decay * l2_loss\n",
        "    train_loss_list.append(loss.item())\n",
        "\n",
        "    # Backpropagation\n",
        "    loss.backward()\n",
        "    optimizer.step()\n",
        "\n",
        "    # Update pbar-tqdm\n",
        "    \n",
        "    pred = y_pred.argmax(dim=1, keepdim=True)  # get the index of the max log-probability\n",
        "    correct += pred.eq(target.view_as(pred)).sum().item()\n",
        "    processed += len(data)\n",
        "\n",
        "    pbar_str = f'Loss={loss.item()} Batch_id={batch_idx} Accuracy={100*correct/processed:0.2f}'\n",
        "    if l1_decay > 0:\n",
        "      pbar_str = f'L1_loss={l1_loss.item()} %s' % (pbar_str)\n",
        "    if l2_decay > 0:\n",
        "      pbar_str = f'L2_loss={l2_loss.item()} %s' % (pbar_str)\n",
        "\n",
        "    pbar.set_description(desc= pbar_str)\n",
        "    train_accuracy_list.append(100*correct/processed)\n",
        "  \n",
        "  print(\"length of Average loss {}, length of Average accuracy {}\".format(len(train_loss_list),len(train_accuracy_list)))\n",
        "  return train_loss_list, train_accuracy_list\n",
        "\n",
        "\n",
        "def test(model, device, test_loader, test_loss_list, test_accuracy_list, misclassified_imgs, is_last_epoch):\n",
        "    model.eval()\n",
        "    test_loss = 0\n",
        "    correct = 0\n",
        "\n",
        "    with torch.no_grad():\n",
        "        for data, target in test_loader:\n",
        "            data, target = data.to(device), target.to(device)\n",
        "            output = model(data)\n",
        "            test_loss += F.nll_loss(output, target, reduction='sum').item()  # sum up batch loss\n",
        "            pred = output.argmax(dim=1, keepdim=True)  # get the index of the max log-probability\n",
        "            is_correct = pred.eq(target.view_as(pred))\n",
        "            if is_last_epoch:\n",
        "              misclassified_inds = (is_correct==0).nonzero()[:,0]\n",
        "              for mis_ind in misclassified_inds:\n",
        "                if len(misclassified_imgs) == 100: #handtune this for images we need\n",
        "                  break\n",
        "                misclassified_imgs.append({\n",
        "                    \"target\": target[mis_ind].cpu().numpy(),\n",
        "                    \"pred\": pred[mis_ind][0].cpu().numpy(),\n",
        "                    \"img\": data[mis_ind].cpu().numpy()[0]\n",
        "                })\n",
        "            correct += is_correct.sum().item()\n",
        "\n",
        "    test_loss /= len(test_loader.dataset)\n",
        "    test_accuracy = 100. * correct / len(test_loader.dataset)\n",
        "\n",
        "    test_loss_list.append(test_loss)\n",
        "    test_accuracy_list.append(test_accuracy)\n",
        "    print('Test set: Average loss: {:.6f}, Average accuracy: {}/{} ({:.6f}%)\\n'.format(\n",
        "        test_loss, correct, len(test_loader.dataset),\n",
        "        test_accuracy))\n",
        "    \n",
        "    return test_loss_list, test_accuracy_list, misclassified_imgs"
      ],
      "execution_count": null,
      "outputs": []
    },
    {
      "cell_type": "code",
      "metadata": {
        "id": "P6OBjhSdTYvZ"
      },
      "source": [
        "import numpy as np\n",
        "import matplotlib.pyplot as plt\n",
        "\n",
        "plt.rcParams['figure.figsize'] = [30, 12]\n",
        "\n",
        "def training_curves(history):\n",
        "  plt.figure(1)\n",
        "  plt.suptitle(\"Combined Training Curves\", fontsize=28)\n",
        "\n",
        "  plt.subplot(2,2, 1)\n",
        "  for i in history:\n",
        "    plt.plot(np.array(history[i]['train_loss']), label=i)\n",
        "  #plt.plot(np.array(hist_train_acc), 'r')\n",
        "  plt.ylim(ymin=0)\n",
        "  plt.ylabel('loss')\n",
        "  plt.minorticks_on()\n",
        "  plt.grid()\n",
        "  plt.legend()\n",
        "  plt.title(\"Training loss per batch\")\n",
        "\n",
        "  plt.subplot(2,2, 2)\n",
        "  for i in history:\n",
        "    plt.plot(np.array(history[i]['test_loss']), label=i)\n",
        "  plt.ylim(ymin=0)\n",
        "  plt.ylabel('loss')\n",
        "  plt.minorticks_on()\n",
        "  plt.grid()\n",
        "  plt.legend()\n",
        "  plt.title(\"Test loss per epoch\")\n",
        "\n",
        "  plt.subplot(2,2, 3)\n",
        "  for i in history:\n",
        "    plt.plot(np.array(history[i]['train_accuracy']), label=i)\n",
        "  plt.ylim(top=100)\n",
        "  plt.xlabel('epochs')\n",
        "  plt.ylabel('accuracy')\n",
        "  plt.minorticks_on()\n",
        "  plt.grid()\n",
        "  plt.legend()\n",
        "  plt.title(\"Training accuracy per batch\")\n",
        "\n",
        "  plt.subplot(2,2, 4)\n",
        "  for i in history:\n",
        "    plt.plot(np.array(history[i]['test_accuracy']), label=i)\n",
        "  plt.ylim(top=100)\n",
        "  plt.xlabel('epochs')\n",
        "  plt.ylabel('accuracy')\n",
        "  plt.minorticks_on()\n",
        "  plt.grid()\n",
        "  plt.legend()\n",
        "  plt.title(\"Test accuracy per epoch\")\n"
      ],
      "execution_count": null,
      "outputs": []
    },
    {
      "cell_type": "markdown",
      "metadata": {
        "id": "jysWijHuUyby"
      },
      "source": [
        "### These functions will go to Utils"
      ]
    },
    {
      "cell_type": "code",
      "metadata": {
        "id": "fIDt65VLw_zA",
        "colab": {
          "base_uri": "https://localhost:8080/"
        },
        "outputId": "806c264d-41f7-48ae-9cdf-f6b74175fac3"
      },
      "source": [
        "def Gen_BN(out_features, channel_size, norm_type):\n",
        "  if norm_type==\"BN\":\n",
        "    m = nn.BatchNorm2d(out_features)\n",
        "  elif norm_type == \"LN\":\n",
        "    # x = torch.rand(2,out_features,channel_size,channel_size)\n",
        "    # m = nn.LayerNorm(x.size()[1:])\n",
        "    m = nn.LayerNorm((out_features, channel_size, channel_size))\n",
        "  return m\n",
        "\n",
        "def conv_output_shape(h_w, kernel_size=1, stride=1, pad=0, dilation=1):\n",
        "    \"\"\"\n",
        "    Utility function for computing output of convolutions\n",
        "    takes a tuple of (h,w) and returns a tuple of (h,w)\n",
        "    \"\"\"\n",
        "    \n",
        "    if type(h_w) is not tuple:\n",
        "        h_w = (h_w, h_w)\n",
        "    \n",
        "    if type(kernel_size) is not tuple:\n",
        "        kernel_size = (kernel_size, kernel_size)\n",
        "    \n",
        "    if type(stride) is not tuple:\n",
        "        stride = (stride, stride)\n",
        "    \n",
        "    if type(pad) is not tuple:\n",
        "        pad = (pad, pad)\n",
        "    \n",
        "    h = (h_w[0] + (2 * pad[0]) - (dilation * (kernel_size[0] - 1)) - 1)// stride[0] + 1\n",
        "    w = (h_w[1] + (2 * pad[1]) - (dilation * (kernel_size[1] - 1)) - 1)// stride[1] + 1\n",
        "    \n",
        "    return h, w\n",
        "\n",
        "x, y = conv_output_shape(28, 3, 1,0,1)\n",
        "x, y\n",
        "temp = Gen_BN(12, 28, \"LN\")\n",
        "temp"
      ],
      "execution_count": null,
      "outputs": [
        {
          "output_type": "execute_result",
          "data": {
            "text/plain": [
              "LayerNorm((12, 28, 28), eps=1e-05, elementwise_affine=True)"
            ]
          },
          "metadata": {
            "tags": []
          },
          "execution_count": 65
        }
      ]
    },
    {
      "cell_type": "markdown",
      "metadata": {
        "id": "Iw5buyjYU1qv"
      },
      "source": [
        "This class will take in the optin of which normalization we would want to use.. \n",
        "\n",
        "Group normalization is pending\n",
        "\n",
        "\n",
        "Input to the architecture is the nrmalization type and input image size"
      ]
    },
    {
      "cell_type": "code",
      "metadata": {
        "colab": {
          "base_uri": "https://localhost:8080/"
        },
        "id": "bkno8_gkChRF",
        "outputId": "de7446a1-86bd-4619-bf1e-65fcc80038fb"
      },
      "source": [
        "dropout_value = 0.05\n",
        "\n",
        "\n",
        "class Net2(nn.Module):\n",
        "    def get_bn(self, out_features, channel_size, norm_type, num_groups):\n",
        "        if norm_type==\"BN\":\n",
        "          m = nn.BatchNorm2d(out_features)\n",
        "        elif norm_type == \"LN\":\n",
        "          m = nn.LayerNorm((out_features, channel_size, channel_size))\n",
        "        elif norm_type == \"GN\":\n",
        "          if (out_features % num_groups) != 0:\n",
        "            print('Error: the number of groups should be divisible by output features')\n",
        "          else:\n",
        "            m = nn.GroupNorm(num_groups, out_features)\n",
        "        return m\n",
        "\n",
        "\n",
        "    def conv_block(self, in_features, out_features, kernel_size, input_channel_size, Norm_type, num_groups, pading=0, last_block=True):\n",
        "      # convolution\n",
        "      layers = []\n",
        "      layers = [nn.Conv2d(in_features, out_features, kernel_size, padding=pading, bias=False), nn.ReLU()]\n",
        "      out_img_size, _ = conv_output_shape(input_channel_size, kernel_size, stride=1,pad=pading,dilation=1) # get the image size after convolution\n",
        "\n",
        "      #Generate Normalization\n",
        "      norm_list = ['BN', 'LN', 'GN'] # this is the list of normalization that is allowed. \n",
        "      if (Norm_type in norm_list) and (kernel_size != 1) and (last_block):   # Check if normalization is in the list, or if its not 1x1 or if its not last block. \n",
        "        BN = self.get_bn(out_features, out_img_size, Norm_type, num_groups)\n",
        "        layers.append(BN)\n",
        "\n",
        "      # Add Dropout - Check if its not last block or 1x1 convolution.   \n",
        "      if kernel_size !=1 and last_block :\n",
        "        layers.append(nn.Dropout(dropout_value))\n",
        "      block = nn.Sequential(*layers)\n",
        "      return block, out_img_size\n",
        "\n",
        "    def max_pool_block(self, kernal_size, stride, img_size):\n",
        "        pool = nn.MaxPool2d(kernal_size, stride) # output_size = 13\n",
        "        out_img_size,_ = conv_output_shape(img_size,kernal_size, stride)\n",
        "        return pool, out_img_size\n",
        "\n",
        "    def __init__(self, Norm_type=\"\", input_img_size=(1,28,28), num_groups=2):\n",
        "        super(Net2, self).__init__()\n",
        "        self.convblock1, img_size = self.conv_block(1,8,3,input_img_size[1],Norm_type,num_groups) # input kernal, output_kernals, convolution, input image size, padding, normalization type #26\n",
        "        self.convblock2, img_size = self.conv_block(8,16,3,img_size,Norm_type,num_groups) #24\n",
        "        self.pool1, img_size = self.max_pool_block(2,2, img_size)  #12\n",
        "        self.convblock4, img_size = self.conv_block(16,8,1,img_size,Norm_type,num_groups) #12\n",
        "        self.convblock5, img_size = self.conv_block(8,16,3,img_size,Norm_type,num_groups) #10\n",
        "        self.convblock6, img_size = self.conv_block(16,20,3,img_size,Norm_type,num_groups) #8\n",
        "        self.convblock7, img_size = self.conv_block(20,8,1,img_size,Norm_type,num_groups) #8\n",
        "        self.convblock8, img_size = self.conv_block(8,16,3,img_size,Norm_type, num_groups, last_block=False) #6\n",
        "\n",
        "        self.gap = nn.Sequential(nn.AvgPool2d(kernel_size=6)) # output_size = 1\n",
        "        self.fc1 = nn.Linear(16, 10)\n",
        "\n",
        "    def forward(self, x):\n",
        "        x = self.convblock1(x)\n",
        "        x = self.convblock2(x)\n",
        "        #x = self.convblock3(x)\n",
        "        x = self.pool1(x)\n",
        "        x = self.convblock4(x)\n",
        "        x = self.convblock5(x)\n",
        "        x = self.convblock6(x)\n",
        "        x = self.convblock7(x)\n",
        "        x = self.convblock8(x)\n",
        "        x = self.gap(x)\n",
        "        x = x.view(-1, x.shape[1]*x.shape[2]*x.shape[3])\n",
        "        x = self.fc1(x)\n",
        "        x = x.view(-1, 10)\n",
        "        return F.log_softmax(x, dim=-1)\n",
        "\n",
        "temp = Net2(\"BN\", input_img_size=(1, 28, 28), num_groups=2).to(device)\n",
        "summary(temp, input_size=(1, 28, 28))"
      ],
      "execution_count": null,
      "outputs": [
        {
          "output_type": "stream",
          "text": [
            "----------------------------------------------------------------\n",
            "        Layer (type)               Output Shape         Param #\n",
            "================================================================\n",
            "            Conv2d-1            [-1, 8, 26, 26]              72\n",
            "              ReLU-2            [-1, 8, 26, 26]               0\n",
            "       BatchNorm2d-3            [-1, 8, 26, 26]              16\n",
            "           Dropout-4            [-1, 8, 26, 26]               0\n",
            "            Conv2d-5           [-1, 16, 24, 24]           1,152\n",
            "              ReLU-6           [-1, 16, 24, 24]               0\n",
            "       BatchNorm2d-7           [-1, 16, 24, 24]              32\n",
            "           Dropout-8           [-1, 16, 24, 24]               0\n",
            "         MaxPool2d-9           [-1, 16, 12, 12]               0\n",
            "           Conv2d-10            [-1, 8, 12, 12]             128\n",
            "             ReLU-11            [-1, 8, 12, 12]               0\n",
            "           Conv2d-12           [-1, 16, 10, 10]           1,152\n",
            "             ReLU-13           [-1, 16, 10, 10]               0\n",
            "      BatchNorm2d-14           [-1, 16, 10, 10]              32\n",
            "          Dropout-15           [-1, 16, 10, 10]               0\n",
            "           Conv2d-16             [-1, 20, 8, 8]           2,880\n",
            "             ReLU-17             [-1, 20, 8, 8]               0\n",
            "      BatchNorm2d-18             [-1, 20, 8, 8]              40\n",
            "          Dropout-19             [-1, 20, 8, 8]               0\n",
            "           Conv2d-20              [-1, 8, 8, 8]             160\n",
            "             ReLU-21              [-1, 8, 8, 8]               0\n",
            "           Conv2d-22             [-1, 16, 6, 6]           1,152\n",
            "             ReLU-23             [-1, 16, 6, 6]               0\n",
            "        AvgPool2d-24             [-1, 16, 1, 1]               0\n",
            "           Linear-25                   [-1, 10]             170\n",
            "================================================================\n",
            "Total params: 6,986\n",
            "Trainable params: 6,986\n",
            "Non-trainable params: 0\n",
            "----------------------------------------------------------------\n",
            "Input size (MB): 0.00\n",
            "Forward/backward pass size (MB): 0.59\n",
            "Params size (MB): 0.03\n",
            "Estimated Total Size (MB): 0.62\n",
            "----------------------------------------------------------------\n"
          ],
          "name": "stdout"
        }
      ]
    },
    {
      "cell_type": "code",
      "metadata": {
        "colab": {
          "base_uri": "https://localhost:8080/"
        },
        "id": "Z0XklMkhZlsy",
        "outputId": "d6358696-40de-4165-c4b8-6103ca915570"
      },
      "source": [
        "from torch.optim.lr_scheduler import ReduceLROnPlateau\n",
        "from torch.optim.lr_scheduler import ExponentialLR\n",
        "from torch.optim.lr_scheduler import StepLR\n",
        "\n",
        "# Input parameters for the model\n",
        "EPOCHS = 20\n",
        "l1_decay=0.0\n",
        "l2_decay=0.0\n",
        "norm_type = \"BN\"\n",
        "num_groups=2\n",
        "input_img_size=(1, 28, 28)\n",
        "\n",
        "\n",
        "# Run model\n",
        "model = Net2(norm_type, input_img_size, num_groups).to(device)\n",
        "optimizer = optim.SGD(model.parameters(), lr=0.1, momentum=0.9)\n",
        "scheduler = StepLR(optimizer, step_size=2, gamma=0.1)\n",
        "\n",
        "# run_model(model, optimizer, scheduler, EPOCHS, l1=0.0, l2=0.0)\n",
        "\n",
        "train_loss_list = []\n",
        "train_accuracy_list = []\n",
        "test_loss_list = []\n",
        "test_accuracy_list = []\n",
        "misclassified_imgs = []\n",
        "for epoch in range(EPOCHS):\n",
        "    print(\"EPOCH:\", epoch+1)\n",
        "    train_loss_list, train_accuracy_list = train(model, device, train_loader, optimizer, epoch, l1_decay, l2_decay, train_loss_list, train_accuracy_list)\n",
        "    print(\"\\nlearning rate\", np.round(optimizer.param_groups[0]['lr'],4))\n",
        "    scheduler.step()\n",
        "    # test(model1, device, test_loader, test_losses, test_acc, misclassified_imgs, epoch==EPOCHS-1)\n",
        "    test_loss_list, test_accuracy_list, misclassified_imgs = test(model, device, test_loader, test_loss_list, test_accuracy_list, misclassified_imgs, epoch==EPOCHS-1)\n",
        "\n",
        "name = norm_type + '_model'\n",
        "history[name] = {}\n",
        "history[name]['train_loss'] = train_loss_list\n",
        "history[name]['train_accuracy'] = train_accuracy_list\n",
        "history[name]['test_loss'] = test_loss_list\n",
        "history[name]['test_accuracy'] = test_accuracy_list\n",
        "history[name]['misclassified_imgs'] = misclassified_imgs"
      ],
      "execution_count": null,
      "outputs": [
        {
          "output_type": "stream",
          "text": [
            "\r  0%|          | 0/938 [00:00<?, ?it/s]"
          ],
          "name": "stderr"
        },
        {
          "output_type": "stream",
          "text": [
            "EPOCH: 1\n"
          ],
          "name": "stdout"
        },
        {
          "output_type": "stream",
          "text": [
            "Loss=0.017963647842407227 Batch_id=937 Accuracy=88.37: 100%|██████████| 938/938 [00:04<00:00, 194.39it/s]\n"
          ],
          "name": "stderr"
        },
        {
          "output_type": "stream",
          "text": [
            "length of Average loss 938, length of Average accuracy 938\n",
            "\n",
            "learning rate 0.1\n"
          ],
          "name": "stdout"
        },
        {
          "output_type": "stream",
          "text": [
            "\r  0%|          | 0/938 [00:00<?, ?it/s]"
          ],
          "name": "stderr"
        },
        {
          "output_type": "stream",
          "text": [
            "Test set: Average loss: 0.072770, Average accuracy: 9769/10000 (97.690000%)\n",
            "\n",
            "EPOCH: 2\n"
          ],
          "name": "stdout"
        },
        {
          "output_type": "stream",
          "text": [
            "Loss=0.09612488001585007 Batch_id=937 Accuracy=96.96: 100%|██████████| 938/938 [00:04<00:00, 191.62it/s]"
          ],
          "name": "stderr"
        },
        {
          "output_type": "stream",
          "text": [
            "length of Average loss 1876, length of Average accuracy 1876\n",
            "\n",
            "learning rate 0.1\n"
          ],
          "name": "stdout"
        },
        {
          "output_type": "stream",
          "text": [
            "\n",
            "  0%|          | 0/938 [00:00<?, ?it/s]"
          ],
          "name": "stderr"
        },
        {
          "output_type": "stream",
          "text": [
            "Test set: Average loss: 0.061054, Average accuracy: 9815/10000 (98.150000%)\n",
            "\n",
            "EPOCH: 3\n"
          ],
          "name": "stdout"
        },
        {
          "output_type": "stream",
          "text": [
            "Loss=0.026722867041826248 Batch_id=937 Accuracy=98.42: 100%|██████████| 938/938 [00:04<00:00, 197.75it/s]"
          ],
          "name": "stderr"
        },
        {
          "output_type": "stream",
          "text": [
            "length of Average loss 2814, length of Average accuracy 2814\n",
            "\n",
            "learning rate 0.01\n"
          ],
          "name": "stdout"
        },
        {
          "output_type": "stream",
          "text": [
            "\n",
            "  0%|          | 0/938 [00:00<?, ?it/s]"
          ],
          "name": "stderr"
        },
        {
          "output_type": "stream",
          "text": [
            "Test set: Average loss: 0.033115, Average accuracy: 9899/10000 (98.990000%)\n",
            "\n",
            "EPOCH: 4\n"
          ],
          "name": "stdout"
        },
        {
          "output_type": "stream",
          "text": [
            "Loss=0.002310727024450898 Batch_id=937 Accuracy=98.59: 100%|██████████| 938/938 [00:04<00:00, 194.10it/s]"
          ],
          "name": "stderr"
        },
        {
          "output_type": "stream",
          "text": [
            "length of Average loss 3752, length of Average accuracy 3752\n",
            "\n",
            "learning rate 0.01\n"
          ],
          "name": "stdout"
        },
        {
          "output_type": "stream",
          "text": [
            "\n",
            "  0%|          | 0/938 [00:00<?, ?it/s]"
          ],
          "name": "stderr"
        },
        {
          "output_type": "stream",
          "text": [
            "Test set: Average loss: 0.032592, Average accuracy: 9892/10000 (98.920000%)\n",
            "\n",
            "EPOCH: 5\n"
          ],
          "name": "stdout"
        },
        {
          "output_type": "stream",
          "text": [
            "Loss=0.0017881314270198345 Batch_id=937 Accuracy=98.64: 100%|██████████| 938/938 [00:04<00:00, 191.08it/s]"
          ],
          "name": "stderr"
        },
        {
          "output_type": "stream",
          "text": [
            "length of Average loss 4690, length of Average accuracy 4690\n",
            "\n",
            "learning rate 0.001\n"
          ],
          "name": "stdout"
        },
        {
          "output_type": "stream",
          "text": [
            "\n",
            "  0%|          | 0/938 [00:00<?, ?it/s]"
          ],
          "name": "stderr"
        },
        {
          "output_type": "stream",
          "text": [
            "Test set: Average loss: 0.031847, Average accuracy: 9893/10000 (98.930000%)\n",
            "\n",
            "EPOCH: 6\n"
          ],
          "name": "stdout"
        },
        {
          "output_type": "stream",
          "text": [
            "Loss=0.10997962951660156 Batch_id=937 Accuracy=98.71: 100%|██████████| 938/938 [00:04<00:00, 194.60it/s]"
          ],
          "name": "stderr"
        },
        {
          "output_type": "stream",
          "text": [
            "length of Average loss 5628, length of Average accuracy 5628\n",
            "\n",
            "learning rate 0.001\n"
          ],
          "name": "stdout"
        },
        {
          "output_type": "stream",
          "text": [
            "\n",
            "  0%|          | 0/938 [00:00<?, ?it/s]"
          ],
          "name": "stderr"
        },
        {
          "output_type": "stream",
          "text": [
            "Test set: Average loss: 0.031231, Average accuracy: 9896/10000 (98.960000%)\n",
            "\n",
            "EPOCH: 7\n"
          ],
          "name": "stdout"
        },
        {
          "output_type": "stream",
          "text": [
            "Loss=0.0020459445659071207 Batch_id=937 Accuracy=98.72: 100%|██████████| 938/938 [00:04<00:00, 192.68it/s]"
          ],
          "name": "stderr"
        },
        {
          "output_type": "stream",
          "text": [
            "length of Average loss 6566, length of Average accuracy 6566\n",
            "\n",
            "learning rate 0.0001\n"
          ],
          "name": "stdout"
        },
        {
          "output_type": "stream",
          "text": [
            "\n",
            "  0%|          | 0/938 [00:00<?, ?it/s]"
          ],
          "name": "stderr"
        },
        {
          "output_type": "stream",
          "text": [
            "Test set: Average loss: 0.030958, Average accuracy: 9900/10000 (99.000000%)\n",
            "\n",
            "EPOCH: 8\n"
          ],
          "name": "stdout"
        },
        {
          "output_type": "stream",
          "text": [
            "Loss=0.11211088299751282 Batch_id=937 Accuracy=98.72: 100%|██████████| 938/938 [00:04<00:00, 193.74it/s]"
          ],
          "name": "stderr"
        },
        {
          "output_type": "stream",
          "text": [
            "length of Average loss 7504, length of Average accuracy 7504\n",
            "\n",
            "learning rate 0.0001\n"
          ],
          "name": "stdout"
        },
        {
          "output_type": "stream",
          "text": [
            "\n",
            "  0%|          | 0/938 [00:00<?, ?it/s]"
          ],
          "name": "stderr"
        },
        {
          "output_type": "stream",
          "text": [
            "Test set: Average loss: 0.031405, Average accuracy: 9895/10000 (98.950000%)\n",
            "\n",
            "EPOCH: 9\n"
          ],
          "name": "stdout"
        },
        {
          "output_type": "stream",
          "text": [
            "Loss=0.045140430331230164 Batch_id=937 Accuracy=98.77: 100%|██████████| 938/938 [00:04<00:00, 196.78it/s]"
          ],
          "name": "stderr"
        },
        {
          "output_type": "stream",
          "text": [
            "length of Average loss 8442, length of Average accuracy 8442\n",
            "\n",
            "learning rate 0.0\n"
          ],
          "name": "stdout"
        },
        {
          "output_type": "stream",
          "text": [
            "\n",
            "  0%|          | 0/938 [00:00<?, ?it/s]"
          ],
          "name": "stderr"
        },
        {
          "output_type": "stream",
          "text": [
            "Test set: Average loss: 0.031130, Average accuracy: 9896/10000 (98.960000%)\n",
            "\n",
            "EPOCH: 10\n"
          ],
          "name": "stdout"
        },
        {
          "output_type": "stream",
          "text": [
            "Loss=0.11198841780424118 Batch_id=937 Accuracy=98.72: 100%|██████████| 938/938 [00:04<00:00, 193.08it/s]"
          ],
          "name": "stderr"
        },
        {
          "output_type": "stream",
          "text": [
            "length of Average loss 9380, length of Average accuracy 9380\n",
            "\n",
            "learning rate 0.0\n"
          ],
          "name": "stdout"
        },
        {
          "output_type": "stream",
          "text": [
            "\n",
            "  0%|          | 0/938 [00:00<?, ?it/s]"
          ],
          "name": "stderr"
        },
        {
          "output_type": "stream",
          "text": [
            "Test set: Average loss: 0.031065, Average accuracy: 9896/10000 (98.960000%)\n",
            "\n",
            "EPOCH: 11\n"
          ],
          "name": "stdout"
        },
        {
          "output_type": "stream",
          "text": [
            "Loss=0.16900430619716644 Batch_id=937 Accuracy=98.69: 100%|██████████| 938/938 [00:04<00:00, 192.17it/s]"
          ],
          "name": "stderr"
        },
        {
          "output_type": "stream",
          "text": [
            "length of Average loss 10318, length of Average accuracy 10318\n",
            "\n",
            "learning rate 0.0\n"
          ],
          "name": "stdout"
        },
        {
          "output_type": "stream",
          "text": [
            "\n",
            "  0%|          | 0/938 [00:00<?, ?it/s]"
          ],
          "name": "stderr"
        },
        {
          "output_type": "stream",
          "text": [
            "Test set: Average loss: 0.031156, Average accuracy: 9897/10000 (98.970000%)\n",
            "\n",
            "EPOCH: 12\n"
          ],
          "name": "stdout"
        },
        {
          "output_type": "stream",
          "text": [
            "Loss=0.0009414731175638735 Batch_id=937 Accuracy=98.73: 100%|██████████| 938/938 [00:04<00:00, 191.89it/s]"
          ],
          "name": "stderr"
        },
        {
          "output_type": "stream",
          "text": [
            "length of Average loss 11256, length of Average accuracy 11256\n",
            "\n",
            "learning rate 0.0\n"
          ],
          "name": "stdout"
        },
        {
          "output_type": "stream",
          "text": [
            "\n",
            "  0%|          | 0/938 [00:00<?, ?it/s]"
          ],
          "name": "stderr"
        },
        {
          "output_type": "stream",
          "text": [
            "Test set: Average loss: 0.031043, Average accuracy: 9897/10000 (98.970000%)\n",
            "\n",
            "EPOCH: 13\n"
          ],
          "name": "stdout"
        },
        {
          "output_type": "stream",
          "text": [
            "Loss=0.01111788209527731 Batch_id=937 Accuracy=98.74: 100%|██████████| 938/938 [00:04<00:00, 194.19it/s]"
          ],
          "name": "stderr"
        },
        {
          "output_type": "stream",
          "text": [
            "length of Average loss 12194, length of Average accuracy 12194\n",
            "\n",
            "learning rate 0.0\n"
          ],
          "name": "stdout"
        },
        {
          "output_type": "stream",
          "text": [
            "\n",
            "  0%|          | 0/938 [00:00<?, ?it/s]"
          ],
          "name": "stderr"
        },
        {
          "output_type": "stream",
          "text": [
            "Test set: Average loss: 0.031045, Average accuracy: 9894/10000 (98.940000%)\n",
            "\n",
            "EPOCH: 14\n"
          ],
          "name": "stdout"
        },
        {
          "output_type": "stream",
          "text": [
            "Loss=0.022759435698390007 Batch_id=937 Accuracy=98.71: 100%|██████████| 938/938 [00:04<00:00, 197.55it/s]"
          ],
          "name": "stderr"
        },
        {
          "output_type": "stream",
          "text": [
            "length of Average loss 13132, length of Average accuracy 13132\n",
            "\n",
            "learning rate 0.0\n"
          ],
          "name": "stdout"
        },
        {
          "output_type": "stream",
          "text": [
            "\n",
            "  0%|          | 0/938 [00:00<?, ?it/s]"
          ],
          "name": "stderr"
        },
        {
          "output_type": "stream",
          "text": [
            "Test set: Average loss: 0.030874, Average accuracy: 9899/10000 (98.990000%)\n",
            "\n",
            "EPOCH: 15\n"
          ],
          "name": "stdout"
        },
        {
          "output_type": "stream",
          "text": [
            "Loss=0.004223130643367767 Batch_id=937 Accuracy=98.67: 100%|██████████| 938/938 [00:04<00:00, 196.24it/s]"
          ],
          "name": "stderr"
        },
        {
          "output_type": "stream",
          "text": [
            "length of Average loss 14070, length of Average accuracy 14070\n",
            "\n",
            "learning rate 0.0\n"
          ],
          "name": "stdout"
        },
        {
          "output_type": "stream",
          "text": [
            "\n",
            "  0%|          | 0/938 [00:00<?, ?it/s]"
          ],
          "name": "stderr"
        },
        {
          "output_type": "stream",
          "text": [
            "Test set: Average loss: 0.031012, Average accuracy: 9896/10000 (98.960000%)\n",
            "\n",
            "EPOCH: 16\n"
          ],
          "name": "stdout"
        },
        {
          "output_type": "stream",
          "text": [
            "Loss=0.013409849256277084 Batch_id=937 Accuracy=98.65: 100%|██████████| 938/938 [00:04<00:00, 196.10it/s]"
          ],
          "name": "stderr"
        },
        {
          "output_type": "stream",
          "text": [
            "length of Average loss 15008, length of Average accuracy 15008\n",
            "\n",
            "learning rate 0.0\n"
          ],
          "name": "stdout"
        },
        {
          "output_type": "stream",
          "text": [
            "\n",
            "  0%|          | 0/938 [00:00<?, ?it/s]"
          ],
          "name": "stderr"
        },
        {
          "output_type": "stream",
          "text": [
            "Test set: Average loss: 0.031080, Average accuracy: 9897/10000 (98.970000%)\n",
            "\n",
            "EPOCH: 17\n"
          ],
          "name": "stdout"
        },
        {
          "output_type": "stream",
          "text": [
            "Loss=0.0014677823055535555 Batch_id=937 Accuracy=98.73: 100%|██████████| 938/938 [00:04<00:00, 192.56it/s]"
          ],
          "name": "stderr"
        },
        {
          "output_type": "stream",
          "text": [
            "length of Average loss 15946, length of Average accuracy 15946\n",
            "\n",
            "learning rate 0.0\n"
          ],
          "name": "stdout"
        },
        {
          "output_type": "stream",
          "text": [
            "\n",
            "  0%|          | 0/938 [00:00<?, ?it/s]"
          ],
          "name": "stderr"
        },
        {
          "output_type": "stream",
          "text": [
            "Test set: Average loss: 0.030906, Average accuracy: 9899/10000 (98.990000%)\n",
            "\n",
            "EPOCH: 18\n"
          ],
          "name": "stdout"
        },
        {
          "output_type": "stream",
          "text": [
            "Loss=0.01775186136364937 Batch_id=937 Accuracy=98.75: 100%|██████████| 938/938 [00:04<00:00, 191.19it/s]"
          ],
          "name": "stderr"
        },
        {
          "output_type": "stream",
          "text": [
            "length of Average loss 16884, length of Average accuracy 16884\n",
            "\n",
            "learning rate 0.0\n"
          ],
          "name": "stdout"
        },
        {
          "output_type": "stream",
          "text": [
            "\n",
            "  0%|          | 0/938 [00:00<?, ?it/s]"
          ],
          "name": "stderr"
        },
        {
          "output_type": "stream",
          "text": [
            "Test set: Average loss: 0.031167, Average accuracy: 9897/10000 (98.970000%)\n",
            "\n",
            "EPOCH: 19\n"
          ],
          "name": "stdout"
        },
        {
          "output_type": "stream",
          "text": [
            "Loss=0.0422225184738636 Batch_id=937 Accuracy=98.71: 100%|██████████| 938/938 [00:04<00:00, 195.60it/s]"
          ],
          "name": "stderr"
        },
        {
          "output_type": "stream",
          "text": [
            "length of Average loss 17822, length of Average accuracy 17822\n",
            "\n",
            "learning rate 0.0\n"
          ],
          "name": "stdout"
        },
        {
          "output_type": "stream",
          "text": [
            "\n",
            "  0%|          | 0/938 [00:00<?, ?it/s]"
          ],
          "name": "stderr"
        },
        {
          "output_type": "stream",
          "text": [
            "Test set: Average loss: 0.031005, Average accuracy: 9897/10000 (98.970000%)\n",
            "\n",
            "EPOCH: 20\n"
          ],
          "name": "stdout"
        },
        {
          "output_type": "stream",
          "text": [
            "Loss=0.06088469922542572 Batch_id=937 Accuracy=98.72: 100%|██████████| 938/938 [00:04<00:00, 194.64it/s]"
          ],
          "name": "stderr"
        },
        {
          "output_type": "stream",
          "text": [
            "length of Average loss 18760, length of Average accuracy 18760\n",
            "\n",
            "learning rate 0.0\n"
          ],
          "name": "stdout"
        },
        {
          "output_type": "stream",
          "text": [
            "\n"
          ],
          "name": "stderr"
        },
        {
          "output_type": "stream",
          "text": [
            "Test set: Average loss: 0.031267, Average accuracy: 9899/10000 (98.990000%)\n",
            "\n"
          ],
          "name": "stdout"
        }
      ]
    },
    {
      "cell_type": "code",
      "metadata": {
        "colab": {
          "base_uri": "https://localhost:8080/"
        },
        "id": "1Q-DLlSCGt22",
        "outputId": "647c362c-66d5-4753-df8b-4f80a892245c"
      },
      "source": [
        "from torch.optim.lr_scheduler import ReduceLROnPlateau\n",
        "from torch.optim.lr_scheduler import ExponentialLR\n",
        "from torch.optim.lr_scheduler import StepLR\n",
        "\n",
        "# Input parameters for the model\n",
        "EPOCHS = 20\n",
        "l1_decay=0.0\n",
        "l2_decay=0.0\n",
        "norm_type = \"LN\"\n",
        "num_groups=2\n",
        "input_img_size=(1, 28, 28)\n",
        "\n",
        "\n",
        "# Run model\n",
        "model = Net2(norm_type, input_img_size, num_groups).to(device)\n",
        "optimizer = optim.SGD(model.parameters(), lr=0.1, momentum=0.9)\n",
        "scheduler = StepLR(optimizer, step_size=2, gamma=0.1)\n",
        "\n",
        "# run_model(model, optimizer, scheduler, EPOCHS, l1=0.0, l2=0.0)\n",
        "\n",
        "train_loss_list = []\n",
        "train_accuracy_list = []\n",
        "test_loss_list = []\n",
        "test_accuracy_list = []\n",
        "misclassified_imgs = []\n",
        "for epoch in range(EPOCHS):\n",
        "    print(\"EPOCH:\", epoch+1)\n",
        "    train_loss_list, train_accuracy_list = train(model, device, train_loader, optimizer, epoch, l1_decay, l2_decay, train_loss_list, train_accuracy_list)\n",
        "    print(\"\\nlearning rate\", np.round(optimizer.param_groups[0]['lr'],4))\n",
        "    scheduler.step()\n",
        "    # test(model1, device, test_loader, test_losses, test_acc, misclassified_imgs, epoch==EPOCHS-1)\n",
        "    test_loss_list, test_accuracy_list, misclassified_imgs = test(model, device, test_loader, test_loss_list, test_accuracy_list, misclassified_imgs, epoch==EPOCHS-1)\n",
        "\n",
        "name = norm_type + '_model'\n",
        "history[name] = {}\n",
        "history[name]['train_loss'] = train_loss_list\n",
        "history[name]['train_accuracy'] = train_accuracy_list\n",
        "history[name]['test_loss'] = test_loss_list\n",
        "history[name]['test_accuracy'] = test_accuracy_list\n",
        "history[name]['misclassified_imgs'] = misclassified_imgs"
      ],
      "execution_count": null,
      "outputs": [
        {
          "output_type": "stream",
          "text": [
            "\r  0%|          | 0/938 [00:00<?, ?it/s]"
          ],
          "name": "stderr"
        },
        {
          "output_type": "stream",
          "text": [
            "EPOCH: 1\n"
          ],
          "name": "stdout"
        },
        {
          "output_type": "stream",
          "text": [
            "Loss=0.08309382945299149 Batch_id=937 Accuracy=86.76: 100%|██████████| 938/938 [00:04<00:00, 188.87it/s]"
          ],
          "name": "stderr"
        },
        {
          "output_type": "stream",
          "text": [
            "length of Average loss 938, length of Average accuracy 938\n",
            "\n",
            "learning rate 0.1\n"
          ],
          "name": "stdout"
        },
        {
          "output_type": "stream",
          "text": [
            "\n",
            "  0%|          | 0/938 [00:00<?, ?it/s]"
          ],
          "name": "stderr"
        },
        {
          "output_type": "stream",
          "text": [
            "Test set: Average loss: 0.116597, Average accuracy: 9638/10000 (96.380000%)\n",
            "\n",
            "EPOCH: 2\n"
          ],
          "name": "stdout"
        },
        {
          "output_type": "stream",
          "text": [
            "Loss=0.14784419536590576 Batch_id=937 Accuracy=97.03: 100%|██████████| 938/938 [00:04<00:00, 196.04it/s]"
          ],
          "name": "stderr"
        },
        {
          "output_type": "stream",
          "text": [
            "length of Average loss 1876, length of Average accuracy 1876\n",
            "\n",
            "learning rate 0.1\n"
          ],
          "name": "stdout"
        },
        {
          "output_type": "stream",
          "text": [
            "\n",
            "  0%|          | 0/938 [00:00<?, ?it/s]"
          ],
          "name": "stderr"
        },
        {
          "output_type": "stream",
          "text": [
            "Test set: Average loss: 0.060733, Average accuracy: 9808/10000 (98.080000%)\n",
            "\n",
            "EPOCH: 3\n"
          ],
          "name": "stdout"
        },
        {
          "output_type": "stream",
          "text": [
            "Loss=0.0032923095859587193 Batch_id=937 Accuracy=98.35: 100%|██████████| 938/938 [00:04<00:00, 194.94it/s]"
          ],
          "name": "stderr"
        },
        {
          "output_type": "stream",
          "text": [
            "length of Average loss 2814, length of Average accuracy 2814\n",
            "\n",
            "learning rate 0.01\n"
          ],
          "name": "stdout"
        },
        {
          "output_type": "stream",
          "text": [
            "\n",
            "  0%|          | 0/938 [00:00<?, ?it/s]"
          ],
          "name": "stderr"
        },
        {
          "output_type": "stream",
          "text": [
            "Test set: Average loss: 0.036178, Average accuracy: 9887/10000 (98.870000%)\n",
            "\n",
            "EPOCH: 4\n"
          ],
          "name": "stdout"
        },
        {
          "output_type": "stream",
          "text": [
            "Loss=0.003296667244285345 Batch_id=937 Accuracy=98.54: 100%|██████████| 938/938 [00:04<00:00, 196.09it/s]"
          ],
          "name": "stderr"
        },
        {
          "output_type": "stream",
          "text": [
            "length of Average loss 3752, length of Average accuracy 3752\n",
            "\n",
            "learning rate 0.01\n"
          ],
          "name": "stdout"
        },
        {
          "output_type": "stream",
          "text": [
            "\n",
            "  0%|          | 0/938 [00:00<?, ?it/s]"
          ],
          "name": "stderr"
        },
        {
          "output_type": "stream",
          "text": [
            "Test set: Average loss: 0.037370, Average accuracy: 9885/10000 (98.850000%)\n",
            "\n",
            "EPOCH: 5\n"
          ],
          "name": "stdout"
        },
        {
          "output_type": "stream",
          "text": [
            "Loss=0.0017954730428755283 Batch_id=937 Accuracy=98.66: 100%|██████████| 938/938 [00:04<00:00, 192.95it/s]"
          ],
          "name": "stderr"
        },
        {
          "output_type": "stream",
          "text": [
            "length of Average loss 4690, length of Average accuracy 4690\n",
            "\n",
            "learning rate 0.001\n"
          ],
          "name": "stdout"
        },
        {
          "output_type": "stream",
          "text": [
            "\n",
            "  0%|          | 0/938 [00:00<?, ?it/s]"
          ],
          "name": "stderr"
        },
        {
          "output_type": "stream",
          "text": [
            "Test set: Average loss: 0.034766, Average accuracy: 9899/10000 (98.990000%)\n",
            "\n",
            "EPOCH: 6\n"
          ],
          "name": "stdout"
        },
        {
          "output_type": "stream",
          "text": [
            "Loss=0.00383091252297163 Batch_id=937 Accuracy=98.61: 100%|██████████| 938/938 [00:04<00:00, 192.86it/s]"
          ],
          "name": "stderr"
        },
        {
          "output_type": "stream",
          "text": [
            "length of Average loss 5628, length of Average accuracy 5628\n",
            "\n",
            "learning rate 0.001\n"
          ],
          "name": "stdout"
        },
        {
          "output_type": "stream",
          "text": [
            "\n",
            "  0%|          | 0/938 [00:00<?, ?it/s]"
          ],
          "name": "stderr"
        },
        {
          "output_type": "stream",
          "text": [
            "Test set: Average loss: 0.034258, Average accuracy: 9900/10000 (99.000000%)\n",
            "\n",
            "EPOCH: 7\n"
          ],
          "name": "stdout"
        },
        {
          "output_type": "stream",
          "text": [
            "Loss=0.008845990523695946 Batch_id=937 Accuracy=98.66: 100%|██████████| 938/938 [00:04<00:00, 199.15it/s]"
          ],
          "name": "stderr"
        },
        {
          "output_type": "stream",
          "text": [
            "length of Average loss 6566, length of Average accuracy 6566\n",
            "\n",
            "learning rate 0.0001\n"
          ],
          "name": "stdout"
        },
        {
          "output_type": "stream",
          "text": [
            "\n",
            "  0%|          | 0/938 [00:00<?, ?it/s]"
          ],
          "name": "stderr"
        },
        {
          "output_type": "stream",
          "text": [
            "Test set: Average loss: 0.034279, Average accuracy: 9900/10000 (99.000000%)\n",
            "\n",
            "EPOCH: 8\n"
          ],
          "name": "stdout"
        },
        {
          "output_type": "stream",
          "text": [
            "Loss=0.03556538000702858 Batch_id=937 Accuracy=98.66: 100%|██████████| 938/938 [00:04<00:00, 197.34it/s]"
          ],
          "name": "stderr"
        },
        {
          "output_type": "stream",
          "text": [
            "length of Average loss 7504, length of Average accuracy 7504\n",
            "\n",
            "learning rate 0.0001\n"
          ],
          "name": "stdout"
        },
        {
          "output_type": "stream",
          "text": [
            "\n",
            "  0%|          | 0/938 [00:00<?, ?it/s]"
          ],
          "name": "stderr"
        },
        {
          "output_type": "stream",
          "text": [
            "Test set: Average loss: 0.034270, Average accuracy: 9899/10000 (98.990000%)\n",
            "\n",
            "EPOCH: 9\n"
          ],
          "name": "stdout"
        },
        {
          "output_type": "stream",
          "text": [
            "Loss=0.0036724237725138664 Batch_id=937 Accuracy=98.70: 100%|██████████| 938/938 [00:04<00:00, 195.32it/s]"
          ],
          "name": "stderr"
        },
        {
          "output_type": "stream",
          "text": [
            "length of Average loss 8442, length of Average accuracy 8442\n",
            "\n",
            "learning rate 0.0\n"
          ],
          "name": "stdout"
        },
        {
          "output_type": "stream",
          "text": [
            "\n",
            "  0%|          | 0/938 [00:00<?, ?it/s]"
          ],
          "name": "stderr"
        },
        {
          "output_type": "stream",
          "text": [
            "Test set: Average loss: 0.034274, Average accuracy: 9899/10000 (98.990000%)\n",
            "\n",
            "EPOCH: 10\n"
          ],
          "name": "stdout"
        },
        {
          "output_type": "stream",
          "text": [
            "Loss=0.014935659244656563 Batch_id=937 Accuracy=98.70: 100%|██████████| 938/938 [00:04<00:00, 196.67it/s]\n"
          ],
          "name": "stderr"
        },
        {
          "output_type": "stream",
          "text": [
            "length of Average loss 9380, length of Average accuracy 9380\n",
            "\n",
            "learning rate 0.0\n"
          ],
          "name": "stdout"
        },
        {
          "output_type": "stream",
          "text": [
            "\r  0%|          | 0/938 [00:00<?, ?it/s]"
          ],
          "name": "stderr"
        },
        {
          "output_type": "stream",
          "text": [
            "Test set: Average loss: 0.034273, Average accuracy: 9899/10000 (98.990000%)\n",
            "\n",
            "EPOCH: 11\n"
          ],
          "name": "stdout"
        },
        {
          "output_type": "stream",
          "text": [
            "Loss=0.10590965300798416 Batch_id=937 Accuracy=98.62: 100%|██████████| 938/938 [00:04<00:00, 195.41it/s]"
          ],
          "name": "stderr"
        },
        {
          "output_type": "stream",
          "text": [
            "length of Average loss 10318, length of Average accuracy 10318\n",
            "\n",
            "learning rate 0.0\n"
          ],
          "name": "stdout"
        },
        {
          "output_type": "stream",
          "text": [
            "\n",
            "  0%|          | 0/938 [00:00<?, ?it/s]"
          ],
          "name": "stderr"
        },
        {
          "output_type": "stream",
          "text": [
            "Test set: Average loss: 0.034273, Average accuracy: 9899/10000 (98.990000%)\n",
            "\n",
            "EPOCH: 12\n"
          ],
          "name": "stdout"
        },
        {
          "output_type": "stream",
          "text": [
            "Loss=0.22516025602817535 Batch_id=937 Accuracy=98.67: 100%|██████████| 938/938 [00:04<00:00, 193.60it/s]"
          ],
          "name": "stderr"
        },
        {
          "output_type": "stream",
          "text": [
            "length of Average loss 11256, length of Average accuracy 11256\n",
            "\n",
            "learning rate 0.0\n"
          ],
          "name": "stdout"
        },
        {
          "output_type": "stream",
          "text": [
            "\n",
            "  0%|          | 0/938 [00:00<?, ?it/s]"
          ],
          "name": "stderr"
        },
        {
          "output_type": "stream",
          "text": [
            "Test set: Average loss: 0.034274, Average accuracy: 9899/10000 (98.990000%)\n",
            "\n",
            "EPOCH: 13\n"
          ],
          "name": "stdout"
        },
        {
          "output_type": "stream",
          "text": [
            "Loss=0.036543894559144974 Batch_id=937 Accuracy=98.60: 100%|██████████| 938/938 [00:04<00:00, 191.27it/s]\n"
          ],
          "name": "stderr"
        },
        {
          "output_type": "stream",
          "text": [
            "length of Average loss 12194, length of Average accuracy 12194\n",
            "\n",
            "learning rate 0.0\n"
          ],
          "name": "stdout"
        },
        {
          "output_type": "stream",
          "text": [
            "\r  0%|          | 0/938 [00:00<?, ?it/s]"
          ],
          "name": "stderr"
        },
        {
          "output_type": "stream",
          "text": [
            "Test set: Average loss: 0.034274, Average accuracy: 9899/10000 (98.990000%)\n",
            "\n",
            "EPOCH: 14\n"
          ],
          "name": "stdout"
        },
        {
          "output_type": "stream",
          "text": [
            "Loss=0.0013337678974494338 Batch_id=937 Accuracy=98.66: 100%|██████████| 938/938 [00:04<00:00, 197.67it/s]"
          ],
          "name": "stderr"
        },
        {
          "output_type": "stream",
          "text": [
            "length of Average loss 13132, length of Average accuracy 13132\n",
            "\n",
            "learning rate 0.0\n"
          ],
          "name": "stdout"
        },
        {
          "output_type": "stream",
          "text": [
            "\n",
            "  0%|          | 0/938 [00:00<?, ?it/s]"
          ],
          "name": "stderr"
        },
        {
          "output_type": "stream",
          "text": [
            "Test set: Average loss: 0.034274, Average accuracy: 9899/10000 (98.990000%)\n",
            "\n",
            "EPOCH: 15\n"
          ],
          "name": "stdout"
        },
        {
          "output_type": "stream",
          "text": [
            "Loss=0.002256285399198532 Batch_id=937 Accuracy=98.67: 100%|██████████| 938/938 [00:04<00:00, 195.77it/s]\n"
          ],
          "name": "stderr"
        },
        {
          "output_type": "stream",
          "text": [
            "length of Average loss 14070, length of Average accuracy 14070\n",
            "\n",
            "learning rate 0.0\n"
          ],
          "name": "stdout"
        },
        {
          "output_type": "stream",
          "text": [
            "\r  0%|          | 0/938 [00:00<?, ?it/s]"
          ],
          "name": "stderr"
        },
        {
          "output_type": "stream",
          "text": [
            "Test set: Average loss: 0.034274, Average accuracy: 9899/10000 (98.990000%)\n",
            "\n",
            "EPOCH: 16\n"
          ],
          "name": "stdout"
        },
        {
          "output_type": "stream",
          "text": [
            "Loss=0.006617135833948851 Batch_id=937 Accuracy=98.72: 100%|██████████| 938/938 [00:04<00:00, 194.68it/s]"
          ],
          "name": "stderr"
        },
        {
          "output_type": "stream",
          "text": [
            "length of Average loss 15008, length of Average accuracy 15008\n",
            "\n",
            "learning rate 0.0\n"
          ],
          "name": "stdout"
        },
        {
          "output_type": "stream",
          "text": [
            "\n",
            "  0%|          | 0/938 [00:00<?, ?it/s]"
          ],
          "name": "stderr"
        },
        {
          "output_type": "stream",
          "text": [
            "Test set: Average loss: 0.034274, Average accuracy: 9899/10000 (98.990000%)\n",
            "\n",
            "EPOCH: 17\n"
          ],
          "name": "stdout"
        },
        {
          "output_type": "stream",
          "text": [
            "Loss=0.0010933458106592298 Batch_id=937 Accuracy=98.64: 100%|██████████| 938/938 [00:04<00:00, 194.66it/s]"
          ],
          "name": "stderr"
        },
        {
          "output_type": "stream",
          "text": [
            "length of Average loss 15946, length of Average accuracy 15946\n",
            "\n",
            "learning rate 0.0\n"
          ],
          "name": "stdout"
        },
        {
          "output_type": "stream",
          "text": [
            "\n",
            "  0%|          | 0/938 [00:00<?, ?it/s]"
          ],
          "name": "stderr"
        },
        {
          "output_type": "stream",
          "text": [
            "Test set: Average loss: 0.034274, Average accuracy: 9899/10000 (98.990000%)\n",
            "\n",
            "EPOCH: 18\n"
          ],
          "name": "stdout"
        },
        {
          "output_type": "stream",
          "text": [
            "Loss=0.008402557112276554 Batch_id=937 Accuracy=98.67: 100%|██████████| 938/938 [00:04<00:00, 196.17it/s]"
          ],
          "name": "stderr"
        },
        {
          "output_type": "stream",
          "text": [
            "length of Average loss 16884, length of Average accuracy 16884\n",
            "\n",
            "learning rate 0.0\n"
          ],
          "name": "stdout"
        },
        {
          "output_type": "stream",
          "text": [
            "\n",
            "  0%|          | 0/938 [00:00<?, ?it/s]"
          ],
          "name": "stderr"
        },
        {
          "output_type": "stream",
          "text": [
            "Test set: Average loss: 0.034274, Average accuracy: 9899/10000 (98.990000%)\n",
            "\n",
            "EPOCH: 19\n"
          ],
          "name": "stdout"
        },
        {
          "output_type": "stream",
          "text": [
            "Loss=0.004635956604033709 Batch_id=937 Accuracy=98.69: 100%|██████████| 938/938 [00:04<00:00, 193.03it/s]\n"
          ],
          "name": "stderr"
        },
        {
          "output_type": "stream",
          "text": [
            "length of Average loss 17822, length of Average accuracy 17822\n",
            "\n",
            "learning rate 0.0\n"
          ],
          "name": "stdout"
        },
        {
          "output_type": "stream",
          "text": [
            "\r  0%|          | 0/938 [00:00<?, ?it/s]"
          ],
          "name": "stderr"
        },
        {
          "output_type": "stream",
          "text": [
            "Test set: Average loss: 0.034274, Average accuracy: 9899/10000 (98.990000%)\n",
            "\n",
            "EPOCH: 20\n"
          ],
          "name": "stdout"
        },
        {
          "output_type": "stream",
          "text": [
            "Loss=0.10585110634565353 Batch_id=937 Accuracy=98.66: 100%|██████████| 938/938 [00:04<00:00, 195.72it/s]\n"
          ],
          "name": "stderr"
        },
        {
          "output_type": "stream",
          "text": [
            "length of Average loss 18760, length of Average accuracy 18760\n",
            "\n",
            "learning rate 0.0\n",
            "Test set: Average loss: 0.034274, Average accuracy: 9899/10000 (98.990000%)\n",
            "\n"
          ],
          "name": "stdout"
        }
      ]
    },
    {
      "cell_type": "code",
      "metadata": {
        "colab": {
          "base_uri": "https://localhost:8080/"
        },
        "id": "dJVYRdpCG4es",
        "outputId": "e9069c78-51ad-4006-d50b-57f6067ee67e"
      },
      "source": [
        "from torch.optim.lr_scheduler import ReduceLROnPlateau\n",
        "from torch.optim.lr_scheduler import ExponentialLR\n",
        "from torch.optim.lr_scheduler import StepLR\n",
        "\n",
        "# Input parameters for the model\n",
        "EPOCHS = 20\n",
        "l1_decay=0.0\n",
        "l2_decay=0.0\n",
        "norm_type = \"GN\"\n",
        "num_groups=2\n",
        "input_img_size=(1, 28, 28)\n",
        "\n",
        "\n",
        "# Run model\n",
        "model = Net2(norm_type, input_img_size, num_groups).to(device)\n",
        "optimizer = optim.SGD(model.parameters(), lr=0.1, momentum=0.9)\n",
        "scheduler = StepLR(optimizer, step_size=2, gamma=0.1)\n",
        "\n",
        "# run_model(model, optimizer, scheduler, EPOCHS, l1=0.0, l2=0.0)\n",
        "\n",
        "train_loss_list = []\n",
        "train_accuracy_list = []\n",
        "test_loss_list = []\n",
        "test_accuracy_list = []\n",
        "misclassified_imgs = []\n",
        "for epoch in range(EPOCHS):\n",
        "    print(\"EPOCH:\", epoch+1)\n",
        "    train_loss_list, train_accuracy_list = train(model, device, train_loader, optimizer, epoch, l1_decay, l2_decay, train_loss_list, train_accuracy_list)\n",
        "    print(\"\\nlearning rate\", np.round(optimizer.param_groups[0]['lr'],4))\n",
        "    scheduler.step()\n",
        "    # test(model1, device, test_loader, test_losses, test_acc, misclassified_imgs, epoch==EPOCHS-1)\n",
        "    test_loss_list, test_accuracy_list, misclassified_imgs = test(model, device, test_loader, test_loss_list, test_accuracy_list, misclassified_imgs, epoch==EPOCHS-1)\n",
        "\n",
        "name = norm_type + '_model'\n",
        "history[name] = {}\n",
        "history[name]['train_loss'] = train_loss_list\n",
        "history[name]['train_accuracy'] = train_accuracy_list\n",
        "history[name]['test_loss'] = test_loss_list\n",
        "history[name]['test_accuracy'] = test_accuracy_list\n",
        "history[name]['misclassified_imgs'] = misclassified_imgs"
      ],
      "execution_count": null,
      "outputs": [
        {
          "output_type": "stream",
          "text": [
            "\r  0%|          | 0/938 [00:00<?, ?it/s]"
          ],
          "name": "stderr"
        },
        {
          "output_type": "stream",
          "text": [
            "EPOCH: 1\n"
          ],
          "name": "stdout"
        },
        {
          "output_type": "stream",
          "text": [
            "Loss=0.00853944756090641 Batch_id=937 Accuracy=84.88: 100%|██████████| 938/938 [00:04<00:00, 194.33it/s]"
          ],
          "name": "stderr"
        },
        {
          "output_type": "stream",
          "text": [
            "length of Average loss 938, length of Average accuracy 938\n",
            "\n",
            "learning rate 0.1\n"
          ],
          "name": "stdout"
        },
        {
          "output_type": "stream",
          "text": [
            "\n",
            "  0%|          | 0/938 [00:00<?, ?it/s]"
          ],
          "name": "stderr"
        },
        {
          "output_type": "stream",
          "text": [
            "Test set: Average loss: 0.105178, Average accuracy: 9682/10000 (96.820000%)\n",
            "\n",
            "EPOCH: 2\n"
          ],
          "name": "stdout"
        },
        {
          "output_type": "stream",
          "text": [
            "Loss=0.09272133558988571 Batch_id=937 Accuracy=96.44: 100%|██████████| 938/938 [00:04<00:00, 197.21it/s]"
          ],
          "name": "stderr"
        },
        {
          "output_type": "stream",
          "text": [
            "length of Average loss 1876, length of Average accuracy 1876\n",
            "\n",
            "learning rate 0.1\n"
          ],
          "name": "stdout"
        },
        {
          "output_type": "stream",
          "text": [
            "\n",
            "  0%|          | 0/938 [00:00<?, ?it/s]"
          ],
          "name": "stderr"
        },
        {
          "output_type": "stream",
          "text": [
            "Test set: Average loss: 0.068923, Average accuracy: 9809/10000 (98.090000%)\n",
            "\n",
            "EPOCH: 3\n"
          ],
          "name": "stdout"
        },
        {
          "output_type": "stream",
          "text": [
            "Loss=0.18997834622859955 Batch_id=937 Accuracy=98.22: 100%|██████████| 938/938 [00:04<00:00, 199.49it/s]"
          ],
          "name": "stderr"
        },
        {
          "output_type": "stream",
          "text": [
            "length of Average loss 2814, length of Average accuracy 2814\n",
            "\n",
            "learning rate 0.01\n"
          ],
          "name": "stdout"
        },
        {
          "output_type": "stream",
          "text": [
            "\n",
            "  0%|          | 0/938 [00:00<?, ?it/s]"
          ],
          "name": "stderr"
        },
        {
          "output_type": "stream",
          "text": [
            "Test set: Average loss: 0.042715, Average accuracy: 9871/10000 (98.710000%)\n",
            "\n",
            "EPOCH: 4\n"
          ],
          "name": "stdout"
        },
        {
          "output_type": "stream",
          "text": [
            "Loss=0.06895807385444641 Batch_id=937 Accuracy=98.39: 100%|██████████| 938/938 [00:04<00:00, 196.38it/s]"
          ],
          "name": "stderr"
        },
        {
          "output_type": "stream",
          "text": [
            "length of Average loss 3752, length of Average accuracy 3752\n",
            "\n",
            "learning rate 0.01\n"
          ],
          "name": "stdout"
        },
        {
          "output_type": "stream",
          "text": [
            "\n",
            "  0%|          | 0/938 [00:00<?, ?it/s]"
          ],
          "name": "stderr"
        },
        {
          "output_type": "stream",
          "text": [
            "Test set: Average loss: 0.041695, Average accuracy: 9876/10000 (98.760000%)\n",
            "\n",
            "EPOCH: 5\n"
          ],
          "name": "stdout"
        },
        {
          "output_type": "stream",
          "text": [
            "Loss=0.0030438306275755167 Batch_id=937 Accuracy=98.52: 100%|██████████| 938/938 [00:04<00:00, 195.97it/s]"
          ],
          "name": "stderr"
        },
        {
          "output_type": "stream",
          "text": [
            "length of Average loss 4690, length of Average accuracy 4690\n",
            "\n",
            "learning rate 0.001\n"
          ],
          "name": "stdout"
        },
        {
          "output_type": "stream",
          "text": [
            "\n",
            "  0%|          | 0/938 [00:00<?, ?it/s]"
          ],
          "name": "stderr"
        },
        {
          "output_type": "stream",
          "text": [
            "Test set: Average loss: 0.039829, Average accuracy: 9880/10000 (98.800000%)\n",
            "\n",
            "EPOCH: 6\n"
          ],
          "name": "stdout"
        },
        {
          "output_type": "stream",
          "text": [
            "Loss=0.015524247661232948 Batch_id=937 Accuracy=98.61: 100%|██████████| 938/938 [00:04<00:00, 197.27it/s]"
          ],
          "name": "stderr"
        },
        {
          "output_type": "stream",
          "text": [
            "length of Average loss 5628, length of Average accuracy 5628\n",
            "\n",
            "learning rate 0.001\n"
          ],
          "name": "stdout"
        },
        {
          "output_type": "stream",
          "text": [
            "\n",
            "  0%|          | 0/938 [00:00<?, ?it/s]"
          ],
          "name": "stderr"
        },
        {
          "output_type": "stream",
          "text": [
            "Test set: Average loss: 0.039425, Average accuracy: 9884/10000 (98.840000%)\n",
            "\n",
            "EPOCH: 7\n"
          ],
          "name": "stdout"
        },
        {
          "output_type": "stream",
          "text": [
            "Loss=0.029308222234249115 Batch_id=937 Accuracy=98.59: 100%|██████████| 938/938 [00:04<00:00, 200.66it/s]"
          ],
          "name": "stderr"
        },
        {
          "output_type": "stream",
          "text": [
            "length of Average loss 6566, length of Average accuracy 6566\n",
            "\n",
            "learning rate 0.0001\n"
          ],
          "name": "stdout"
        },
        {
          "output_type": "stream",
          "text": [
            "\n",
            "  0%|          | 0/938 [00:00<?, ?it/s]"
          ],
          "name": "stderr"
        },
        {
          "output_type": "stream",
          "text": [
            "Test set: Average loss: 0.039401, Average accuracy: 9885/10000 (98.850000%)\n",
            "\n",
            "EPOCH: 8\n"
          ],
          "name": "stdout"
        },
        {
          "output_type": "stream",
          "text": [
            "Loss=0.07600964605808258 Batch_id=937 Accuracy=98.58: 100%|██████████| 938/938 [00:04<00:00, 190.81it/s]"
          ],
          "name": "stderr"
        },
        {
          "output_type": "stream",
          "text": [
            "length of Average loss 7504, length of Average accuracy 7504\n",
            "\n",
            "learning rate 0.0001\n"
          ],
          "name": "stdout"
        },
        {
          "output_type": "stream",
          "text": [
            "\n",
            "  0%|          | 0/938 [00:00<?, ?it/s]"
          ],
          "name": "stderr"
        },
        {
          "output_type": "stream",
          "text": [
            "Test set: Average loss: 0.039505, Average accuracy: 9884/10000 (98.840000%)\n",
            "\n",
            "EPOCH: 9\n"
          ],
          "name": "stdout"
        },
        {
          "output_type": "stream",
          "text": [
            "Loss=0.004911221098154783 Batch_id=937 Accuracy=98.58: 100%|██████████| 938/938 [00:04<00:00, 192.67it/s]"
          ],
          "name": "stderr"
        },
        {
          "output_type": "stream",
          "text": [
            "length of Average loss 8442, length of Average accuracy 8442\n",
            "\n",
            "learning rate 0.0\n"
          ],
          "name": "stdout"
        },
        {
          "output_type": "stream",
          "text": [
            "\n",
            "  0%|          | 0/938 [00:00<?, ?it/s]"
          ],
          "name": "stderr"
        },
        {
          "output_type": "stream",
          "text": [
            "Test set: Average loss: 0.039496, Average accuracy: 9884/10000 (98.840000%)\n",
            "\n",
            "EPOCH: 10\n"
          ],
          "name": "stdout"
        },
        {
          "output_type": "stream",
          "text": [
            "Loss=0.009383449330925941 Batch_id=937 Accuracy=98.57: 100%|██████████| 938/938 [00:04<00:00, 194.69it/s]"
          ],
          "name": "stderr"
        },
        {
          "output_type": "stream",
          "text": [
            "length of Average loss 9380, length of Average accuracy 9380\n",
            "\n",
            "learning rate 0.0\n"
          ],
          "name": "stdout"
        },
        {
          "output_type": "stream",
          "text": [
            "\n",
            "  0%|          | 0/938 [00:00<?, ?it/s]"
          ],
          "name": "stderr"
        },
        {
          "output_type": "stream",
          "text": [
            "Test set: Average loss: 0.039483, Average accuracy: 9885/10000 (98.850000%)\n",
            "\n",
            "EPOCH: 11\n"
          ],
          "name": "stdout"
        },
        {
          "output_type": "stream",
          "text": [
            "Loss=0.09951569139957428 Batch_id=937 Accuracy=98.58: 100%|██████████| 938/938 [00:04<00:00, 196.50it/s]\n"
          ],
          "name": "stderr"
        },
        {
          "output_type": "stream",
          "text": [
            "length of Average loss 10318, length of Average accuracy 10318\n",
            "\n",
            "learning rate 0.0\n"
          ],
          "name": "stdout"
        },
        {
          "output_type": "stream",
          "text": [
            "\r  0%|          | 0/938 [00:00<?, ?it/s]"
          ],
          "name": "stderr"
        },
        {
          "output_type": "stream",
          "text": [
            "Test set: Average loss: 0.039482, Average accuracy: 9885/10000 (98.850000%)\n",
            "\n",
            "EPOCH: 12\n"
          ],
          "name": "stdout"
        },
        {
          "output_type": "stream",
          "text": [
            "Loss=0.02110365964472294 Batch_id=937 Accuracy=98.58: 100%|██████████| 938/938 [00:04<00:00, 197.67it/s]"
          ],
          "name": "stderr"
        },
        {
          "output_type": "stream",
          "text": [
            "length of Average loss 11256, length of Average accuracy 11256\n",
            "\n",
            "learning rate 0.0\n"
          ],
          "name": "stdout"
        },
        {
          "output_type": "stream",
          "text": [
            "\n",
            "  0%|          | 0/938 [00:00<?, ?it/s]"
          ],
          "name": "stderr"
        },
        {
          "output_type": "stream",
          "text": [
            "Test set: Average loss: 0.039481, Average accuracy: 9885/10000 (98.850000%)\n",
            "\n",
            "EPOCH: 13\n"
          ],
          "name": "stdout"
        },
        {
          "output_type": "stream",
          "text": [
            "Loss=0.07416804879903793 Batch_id=937 Accuracy=98.56: 100%|██████████| 938/938 [00:04<00:00, 195.12it/s]"
          ],
          "name": "stderr"
        },
        {
          "output_type": "stream",
          "text": [
            "length of Average loss 12194, length of Average accuracy 12194\n",
            "\n",
            "learning rate 0.0\n"
          ],
          "name": "stdout"
        },
        {
          "output_type": "stream",
          "text": [
            "\n",
            "  0%|          | 0/938 [00:00<?, ?it/s]"
          ],
          "name": "stderr"
        },
        {
          "output_type": "stream",
          "text": [
            "Test set: Average loss: 0.039481, Average accuracy: 9885/10000 (98.850000%)\n",
            "\n",
            "EPOCH: 14\n"
          ],
          "name": "stdout"
        },
        {
          "output_type": "stream",
          "text": [
            "Loss=0.004231469705700874 Batch_id=937 Accuracy=98.56: 100%|██████████| 938/938 [00:04<00:00, 191.79it/s]"
          ],
          "name": "stderr"
        },
        {
          "output_type": "stream",
          "text": [
            "length of Average loss 13132, length of Average accuracy 13132\n",
            "\n",
            "learning rate 0.0\n"
          ],
          "name": "stdout"
        },
        {
          "output_type": "stream",
          "text": [
            "\n",
            "  0%|          | 0/938 [00:00<?, ?it/s]"
          ],
          "name": "stderr"
        },
        {
          "output_type": "stream",
          "text": [
            "Test set: Average loss: 0.039481, Average accuracy: 9885/10000 (98.850000%)\n",
            "\n",
            "EPOCH: 15\n"
          ],
          "name": "stdout"
        },
        {
          "output_type": "stream",
          "text": [
            "Loss=0.02505807764828205 Batch_id=937 Accuracy=98.51: 100%|██████████| 938/938 [00:04<00:00, 195.01it/s]\n"
          ],
          "name": "stderr"
        },
        {
          "output_type": "stream",
          "text": [
            "length of Average loss 14070, length of Average accuracy 14070\n",
            "\n",
            "learning rate 0.0\n"
          ],
          "name": "stdout"
        },
        {
          "output_type": "stream",
          "text": [
            "\r  0%|          | 0/938 [00:00<?, ?it/s]"
          ],
          "name": "stderr"
        },
        {
          "output_type": "stream",
          "text": [
            "Test set: Average loss: 0.039481, Average accuracy: 9885/10000 (98.850000%)\n",
            "\n",
            "EPOCH: 16\n"
          ],
          "name": "stdout"
        },
        {
          "output_type": "stream",
          "text": [
            "Loss=0.010590503923594952 Batch_id=937 Accuracy=98.54: 100%|██████████| 938/938 [00:04<00:00, 199.76it/s]"
          ],
          "name": "stderr"
        },
        {
          "output_type": "stream",
          "text": [
            "length of Average loss 15008, length of Average accuracy 15008\n",
            "\n",
            "learning rate 0.0\n"
          ],
          "name": "stdout"
        },
        {
          "output_type": "stream",
          "text": [
            "\n",
            "  0%|          | 0/938 [00:00<?, ?it/s]"
          ],
          "name": "stderr"
        },
        {
          "output_type": "stream",
          "text": [
            "Test set: Average loss: 0.039481, Average accuracy: 9885/10000 (98.850000%)\n",
            "\n",
            "EPOCH: 17\n"
          ],
          "name": "stdout"
        },
        {
          "output_type": "stream",
          "text": [
            "Loss=0.007325761951506138 Batch_id=937 Accuracy=98.58: 100%|██████████| 938/938 [00:04<00:00, 193.20it/s]"
          ],
          "name": "stderr"
        },
        {
          "output_type": "stream",
          "text": [
            "length of Average loss 15946, length of Average accuracy 15946\n",
            "\n",
            "learning rate 0.0\n"
          ],
          "name": "stdout"
        },
        {
          "output_type": "stream",
          "text": [
            "\n",
            "  0%|          | 0/938 [00:00<?, ?it/s]"
          ],
          "name": "stderr"
        },
        {
          "output_type": "stream",
          "text": [
            "Test set: Average loss: 0.039481, Average accuracy: 9885/10000 (98.850000%)\n",
            "\n",
            "EPOCH: 18\n"
          ],
          "name": "stdout"
        },
        {
          "output_type": "stream",
          "text": [
            "Loss=0.19199970364570618 Batch_id=937 Accuracy=98.54: 100%|██████████| 938/938 [00:04<00:00, 195.75it/s]"
          ],
          "name": "stderr"
        },
        {
          "output_type": "stream",
          "text": [
            "length of Average loss 16884, length of Average accuracy 16884\n",
            "\n",
            "learning rate 0.0\n"
          ],
          "name": "stdout"
        },
        {
          "output_type": "stream",
          "text": [
            "\n",
            "  0%|          | 0/938 [00:00<?, ?it/s]"
          ],
          "name": "stderr"
        },
        {
          "output_type": "stream",
          "text": [
            "Test set: Average loss: 0.039481, Average accuracy: 9885/10000 (98.850000%)\n",
            "\n",
            "EPOCH: 19\n"
          ],
          "name": "stdout"
        },
        {
          "output_type": "stream",
          "text": [
            "Loss=0.0016438363818451762 Batch_id=937 Accuracy=98.59: 100%|██████████| 938/938 [00:04<00:00, 195.30it/s]"
          ],
          "name": "stderr"
        },
        {
          "output_type": "stream",
          "text": [
            "length of Average loss 17822, length of Average accuracy 17822\n",
            "\n",
            "learning rate 0.0\n"
          ],
          "name": "stdout"
        },
        {
          "output_type": "stream",
          "text": [
            "\n",
            "  0%|          | 0/938 [00:00<?, ?it/s]"
          ],
          "name": "stderr"
        },
        {
          "output_type": "stream",
          "text": [
            "Test set: Average loss: 0.039481, Average accuracy: 9885/10000 (98.850000%)\n",
            "\n",
            "EPOCH: 20\n"
          ],
          "name": "stdout"
        },
        {
          "output_type": "stream",
          "text": [
            "Loss=0.09364096820354462 Batch_id=937 Accuracy=98.55: 100%|██████████| 938/938 [00:04<00:00, 197.11it/s]\n"
          ],
          "name": "stderr"
        },
        {
          "output_type": "stream",
          "text": [
            "length of Average loss 18760, length of Average accuracy 18760\n",
            "\n",
            "learning rate 0.0\n",
            "Test set: Average loss: 0.039481, Average accuracy: 9885/10000 (98.850000%)\n",
            "\n"
          ],
          "name": "stdout"
        }
      ]
    },
    {
      "cell_type": "code",
      "metadata": {
        "colab": {
          "base_uri": "https://localhost:8080/",
          "height": 801
        },
        "id": "9aXrhFoelYj-",
        "outputId": "d048d07e-9b59-4d2b-8242-9a3a5cc50141"
      },
      "source": [
        "training_curves(history)"
      ],
      "execution_count": null,
      "outputs": [
        {
          "output_type": "display_data",
          "data": {
            "text/plain": [
              "<Figure size 2160x864 with 4 Axes>"
            ],
            "image/png": "[encoded data removed]"
          },
          "metadata": {
            "tags": [],
            "needs_background": "light"
          }
        }
      ]
    },
    {
      "cell_type": "markdown",
      "metadata": {
        "id": "F2x1ekDuH4mw"
      },
      "source": [
        "# Check Misclassified Images"
      ]
    },
    {
      "cell_type": "code",
      "metadata": {
        "id": "1qcRMXWPIWkG"
      },
      "source": [
        "def plot_misclassified_images(img_data, img_name, count):\n",
        "  figure = plt.figure(figsize=(10, 10))\n",
        "  num_of_images = len(img_data)\n",
        "  for index in range(1, count + 1):\n",
        "      plt.subplot(5, np.ceil(count/5), index)\n",
        "      plt.axis('off')\n",
        "      plt.imshow(img_data[index-1][\"img\"], cmap='gray_r')\n",
        "      plt.title(\"Predicted: %s\\nActual: %s\" % (img_data[index-1][\"pred\"], img_data[index-1][\"target\"]))\n",
        "  plt.tight_layout()\n",
        "  plt.savefig(img_name)"
      ],
      "execution_count": null,
      "outputs": []
    },
    {
      "cell_type": "markdown",
      "metadata": {
        "id": "D95y9zmuJ7zE"
      },
      "source": [
        "### L1 + BN model"
      ]
    },
    {
      "cell_type": "code",
      "metadata": {
        "colab": {
          "base_uri": "https://localhost:8080/",
          "height": 764
        },
        "id": "QwiUsFvFIW2M",
        "outputId": "06085b7b-9f21-4951-8029-0f2a61e43351"
      },
      "source": [
        "plot_misclassified_images(history['BN_model']['misclassified_imgs'], \"misclassified_imgs_BN.png\", 20)"
      ],
      "execution_count": null,
      "outputs": [
        {
          "output_type": "stream",
          "text": [
            "<ipython-input-71-bcbfa1a2ba17>:5: MatplotlibDeprecationWarning: Passing non-integers as three-element position specification is deprecated since 3.3 and will be removed two minor releases later.\n",
            "  plt.subplot(5, np.ceil(count/5), index)\n"
          ],
          "name": "stderr"
        },
        {
          "output_type": "display_data",
          "data": {
            "text/plain": [
              "<Figure size 720x720 with 20 Axes>"
            ],
            "image/png": "[encoded data removed]"
          },
          "metadata": {
            "tags": [],
            "needs_background": "light"
          }
        }
      ]
    },
    {
      "cell_type": "markdown",
      "metadata": {
        "id": "GjGisYpCKAZs"
      },
      "source": [
        "### GN model"
      ]
    },
    {
      "cell_type": "code",
      "metadata": {
        "colab": {
          "base_uri": "https://localhost:8080/",
          "height": 764
        },
        "id": "oDDE0C4XJnDe",
        "outputId": "b529a5ea-a6a3-48b2-955f-40ba5b6f7fdd"
      },
      "source": [
        "plot_misclassified_images(history['GN_model']['misclassified_imgs'], \"misclassified_imgs_GN.png\", 20)"
      ],
      "execution_count": null,
      "outputs": [
        {
          "output_type": "stream",
          "text": [
            "<ipython-input-71-bcbfa1a2ba17>:5: MatplotlibDeprecationWarning: Passing non-integers as three-element position specification is deprecated since 3.3 and will be removed two minor releases later.\n",
            "  plt.subplot(5, np.ceil(count/5), index)\n"
          ],
          "name": "stderr"
        },
        {
          "output_type": "display_data",
          "data": {
            "text/plain": [
              "<Figure size 720x720 with 20 Axes>"
            ],
            "image/png": "[encoded data removed]"
          },
          "metadata": {
            "tags": [],
            "needs_background": "light"
          }
        }
      ]
    },
    {
      "cell_type": "markdown",
      "metadata": {
        "id": "qfsjZiWdKEAR"
      },
      "source": [
        "### LN model"
      ]
    },
    {
      "cell_type": "code",
      "metadata": {
        "colab": {
          "base_uri": "https://localhost:8080/",
          "height": 764
        },
        "id": "nsYSqqQSJrbB",
        "outputId": "80732bfd-58b3-49de-e676-18fe6a39e791"
      },
      "source": [
        "plot_misclassified_images(history['LN_model']['misclassified_imgs'], \"misclassified_imgs_LN.png\", 20)"
      ],
      "execution_count": null,
      "outputs": [
        {
          "output_type": "stream",
          "text": [
            "<ipython-input-71-bcbfa1a2ba17>:5: MatplotlibDeprecationWarning: Passing non-integers as three-element position specification is deprecated since 3.3 and will be removed two minor releases later.\n",
            "  plt.subplot(5, np.ceil(count/5), index)\n"
          ],
          "name": "stderr"
        },
        {
          "output_type": "display_data",
          "data": {
            "text/plain": [
              "<Figure size 720x720 with 20 Axes>"
            ],
            "image/png": "[encoded data removed]"
          },
          "metadata": {
            "tags": [],
            "needs_background": "light"
          }
        }
      ]
    },
    {
      "cell_type": "code",
      "metadata": {
        "id": "vPtpE6bS98eL"
      },
      "source": [
        ""
      ],
      "execution_count": null,
      "outputs": []
    }
  ]
}