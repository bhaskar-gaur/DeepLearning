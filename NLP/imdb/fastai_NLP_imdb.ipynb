{
  "nbformat": 4,
  "nbformat_minor": 0,
  "metadata": {
    "colab": {
      "name": "fastai-NLP-imdb.ipynb",
      "provenance": [],
      "collapsed_sections": []
    },
    "kernelspec": {
      "name": "python3",
      "display_name": "Python 3"
    },
    "accelerator": "GPU"
  },
  "cells": [
    {
      "cell_type": "markdown",
      "metadata": {
        "id": "VtodhQNSqsGb",
        "colab_type": "text"
      },
      "source": [
        "##IMDB MOVIE REVIEW CLASSIFICATION\n",
        "\n",
        "This is the replicaiton of the movie review sentiment classification using fast ai. The actual code can be refered in this link \n",
        "https://nbviewer.jupyter.org/github/fastai/course-v3/blob/master/nbs/dl1/lesson3-imdb.ipynb\n"
      ]
    },
    {
      "cell_type": "markdown",
      "metadata": {
        "id": "DRdZc0OGDSbM",
        "colab_type": "text"
      },
      "source": [
        "![alt text](https://drive.google.com/uc?export=view&id=1vtSCNUN3Oq5gOGyLrvWyKV09kqbxWx2j)"
      ]
    },
    {
      "cell_type": "code",
      "metadata": {
        "id": "mU9jYemXnNLL",
        "colab_type": "code",
        "colab": {}
      },
      "source": [
        "%reload_ext autoreload\n",
        "%autoreload 2\n",
        "%matplotlib inline"
      ],
      "execution_count": null,
      "outputs": []
    },
    {
      "cell_type": "code",
      "metadata": {
        "id": "aDOe0UTOtss6",
        "colab_type": "code",
        "colab": {}
      },
      "source": [
        "from fastai.text import *"
      ],
      "execution_count": null,
      "outputs": []
    },
    {
      "cell_type": "code",
      "metadata": {
        "id": "HD6ducMUMTwl",
        "colab_type": "code",
        "colab": {
          "base_uri": "https://localhost:8080/",
          "height": 125
        },
        "outputId": "257708e5-bdc0-48f9-bc0f-f710245319f0"
      },
      "source": [
        "help(untar_data)"
      ],
      "execution_count": null,
      "outputs": [
        {
          "output_type": "stream",
          "text": [
            "Help on function untar_data in module fastai.datasets:\n",
            "\n",
            "untar_data(url:str, fname:Union[pathlib.Path, str]=None, dest:Union[pathlib.Path, str]=None, data=True, force_download=False) -> pathlib.Path\n",
            "    Download `url` to `fname` if `dest` doesn't exist, and un-tgz to folder `dest`.\n",
            "\n"
          ],
          "name": "stdout"
        }
      ]
    },
    {
      "cell_type": "code",
      "metadata": {
        "id": "SDgwIl9mtyCH",
        "colab_type": "code",
        "colab": {
          "base_uri": "https://localhost:8080/",
          "height": 34
        },
        "outputId": "d31cc0c6-805f-48f8-85d9-359abb6f256c"
      },
      "source": [
        "path = untar_data(URLs.IMDB_SAMPLE)"
      ],
      "execution_count": null,
      "outputs": [
        {
          "output_type": "stream",
          "text": [
            "Downloading http://files.fast.ai/data/examples/imdb_sample\n"
          ],
          "name": "stdout"
        },
        {
          "output_type": "display_data",
          "data": {
            "text/html": [
              ""
            ],
            "text/plain": [
              "<IPython.core.display.HTML object>"
            ]
          },
          "metadata": {
            "tags": []
          }
        }
      ]
    },
    {
      "cell_type": "code",
      "metadata": {
        "id": "1vSXrBkTMRBV",
        "colab_type": "code",
        "colab": {
          "base_uri": "https://localhost:8080/",
          "height": 34
        },
        "outputId": "b4e6b746-e498-4f47-bfc0-8d3992b60618"
      },
      "source": [
        "path.ls()"
      ],
      "execution_count": null,
      "outputs": [
        {
          "output_type": "execute_result",
          "data": {
            "text/plain": [
              "[PosixPath('/root/.fastai/data/imdb_sample/texts.csv')]"
            ]
          },
          "metadata": {
            "tags": []
          },
          "execution_count": 7
        }
      ]
    },
    {
      "cell_type": "code",
      "metadata": {
        "id": "2YK_AFn5Nu_C",
        "colab_type": "code",
        "colab": {
          "base_uri": "https://localhost:8080/",
          "height": 203
        },
        "outputId": "18a64635-89b8-41de-baf7-db8bbe9f8220"
      },
      "source": [
        "df = pd.read_csv(path/'texts.csv')\n",
        "df.head()"
      ],
      "execution_count": null,
      "outputs": [
        {
          "output_type": "execute_result",
          "data": {
            "text/html": [
              "<div>\n",
              "<style scoped>\n",
              "    .dataframe tbody tr th:only-of-type {\n",
              "        vertical-align: middle;\n",
              "    }\n",
              "\n",
              "    .dataframe tbody tr th {\n",
              "        vertical-align: top;\n",
              "    }\n",
              "\n",
              "    .dataframe thead th {\n",
              "        text-align: right;\n",
              "    }\n",
              "</style>\n",
              "<table border=\"1\" class=\"dataframe\">\n",
              "  <thead>\n",
              "    <tr style=\"text-align: right;\">\n",
              "      <th></th>\n",
              "      <th>label</th>\n",
              "      <th>text</th>\n",
              "      <th>is_valid</th>\n",
              "    </tr>\n",
              "  </thead>\n",
              "  <tbody>\n",
              "    <tr>\n",
              "      <th>0</th>\n",
              "      <td>negative</td>\n",
              "      <td>Un-bleeping-believable! Meg Ryan doesn't even ...</td>\n",
              "      <td>False</td>\n",
              "    </tr>\n",
              "    <tr>\n",
              "      <th>1</th>\n",
              "      <td>positive</td>\n",
              "      <td>This is a extremely well-made film. The acting...</td>\n",
              "      <td>False</td>\n",
              "    </tr>\n",
              "    <tr>\n",
              "      <th>2</th>\n",
              "      <td>negative</td>\n",
              "      <td>Every once in a long while a movie will come a...</td>\n",
              "      <td>False</td>\n",
              "    </tr>\n",
              "    <tr>\n",
              "      <th>3</th>\n",
              "      <td>positive</td>\n",
              "      <td>Name just says it all. I watched this movie wi...</td>\n",
              "      <td>False</td>\n",
              "    </tr>\n",
              "    <tr>\n",
              "      <th>4</th>\n",
              "      <td>negative</td>\n",
              "      <td>This movie succeeds at being one of the most u...</td>\n",
              "      <td>False</td>\n",
              "    </tr>\n",
              "  </tbody>\n",
              "</table>\n",
              "</div>"
            ],
            "text/plain": [
              "      label                                               text  is_valid\n",
              "0  negative  Un-bleeping-believable! Meg Ryan doesn't even ...     False\n",
              "1  positive  This is a extremely well-made film. The acting...     False\n",
              "2  negative  Every once in a long while a movie will come a...     False\n",
              "3  positive  Name just says it all. I watched this movie wi...     False\n",
              "4  negative  This movie succeeds at being one of the most u...     False"
            ]
          },
          "metadata": {
            "tags": []
          },
          "execution_count": 9
        }
      ]
    },
    {
      "cell_type": "code",
      "metadata": {
        "id": "I2KQqSJeN8NP",
        "colab_type": "code",
        "colab": {
          "base_uri": "https://localhost:8080/",
          "height": 54
        },
        "outputId": "32d0df59-1769-4faa-9426-9457e68badaf"
      },
      "source": [
        "df['text'][1]"
      ],
      "execution_count": null,
      "outputs": [
        {
          "output_type": "execute_result",
          "data": {
            "text/plain": [
              "'This is a extremely well-made film. The acting, script and camera-work are all first-rate. The music is good, too, though it is mostly early in the film, when things are still relatively cheery. There are no really superstars in the cast, though several faces will be familiar. The entire cast does an excellent job with the script.<br /><br />But it is hard to watch, because there is no good end to a situation like the one presented. It is now fashionable to blame the British for setting Hindus and Muslims against each other, and then cruelly separating them into two countries. There is some merit in this view, but it\\'s also true that no one forced Hindus and Muslims in the region to mistreat each other as they did around the time of partition. It seems more likely that the British simply saw the tensions between the religions and were clever enough to exploit them to their own ends.<br /><br />The result is that there is much cruelty and inhumanity in the situation and this is very unpleasant to remember and to see on the screen. But it is never painted as a black-and-white case. There is baseness and nobility on both sides, and also the hope for change in the younger generation.<br /><br />There is redemption of a sort, in the end, when Puro has to make a hard choice between a man who has ruined her life, but also truly loved her, and her family which has disowned her, then later come looking for her. But by that point, she has no option that is without great pain for her.<br /><br />This film carries the message that both Muslims and Hindus have their grave faults, and also that both can be dignified and caring people. The reality of partition makes that realisation all the more wrenching, since there can never be real reconciliation across the India/Pakistan border. In that sense, it is similar to \"Mr & Mrs Iyer\".<br /><br />In the end, we were glad to have seen the film, even though the resolution was heartbreaking. If the UK and US could deal with their own histories of racism with this kind of frankness, they would certainly be better off.'"
            ]
          },
          "metadata": {
            "tags": []
          },
          "execution_count": 11
        }
      ]
    },
    {
      "cell_type": "code",
      "metadata": {
        "id": "f6rRnIkGOJlY",
        "colab_type": "code",
        "colab": {
          "base_uri": "https://localhost:8080/",
          "height": 17
        },
        "outputId": "4e4bfda8-ad84-4328-9fbe-773e8a98cc9f"
      },
      "source": [
        "data_lm = TextDataBunch.from_csv(path, 'texts.csv')"
      ],
      "execution_count": null,
      "outputs": [
        {
          "output_type": "display_data",
          "data": {
            "text/html": [
              ""
            ],
            "text/plain": [
              "<IPython.core.display.HTML object>"
            ]
          },
          "metadata": {
            "tags": []
          }
        },
        {
          "output_type": "display_data",
          "data": {
            "text/html": [
              ""
            ],
            "text/plain": [
              "<IPython.core.display.HTML object>"
            ]
          },
          "metadata": {
            "tags": []
          }
        }
      ]
    },
    {
      "cell_type": "code",
      "metadata": {
        "id": "0H91URYaO78s",
        "colab_type": "code",
        "colab": {
          "base_uri": "https://localhost:8080/",
          "height": 374
        },
        "outputId": "585cff9e-27ba-48cb-cad5-56d60021d218"
      },
      "source": [
        "data_lm.show_batch()"
      ],
      "execution_count": null,
      "outputs": [
        {
          "output_type": "display_data",
          "data": {
            "text/html": [
              "<table border=\"1\" class=\"dataframe\">\n",
              "  <thead>\n",
              "    <tr style=\"text-align: right;\">\n",
              "      <th>text</th>\n",
              "      <th>target</th>\n",
              "    </tr>\n",
              "  </thead>\n",
              "  <tbody>\n",
              "    <tr>\n",
              "      <td>xxbos xxmaj raising xxmaj victor xxmaj vargas : a xxmaj review \\n \\n  xxmaj you know , xxmaj raising xxmaj victor xxmaj vargas is like sticking your hands into a big , steaming bowl of xxunk . xxmaj it 's warm and gooey , but you 're not sure if it feels right . xxmaj try as i might , no matter how warm and gooey xxmaj raising xxmaj</td>\n",
              "      <td>negative</td>\n",
              "    </tr>\n",
              "    <tr>\n",
              "      <td>xxbos xxup the xxup shop xxup around xxup the xxup corner is one of the sweetest and most feel - good romantic comedies ever made . xxmaj there 's just no getting around that , and it 's hard to actually put one 's feeling for this film into words . xxmaj it 's not one of those films that tries too hard , nor does it come up with</td>\n",
              "      <td>positive</td>\n",
              "    </tr>\n",
              "    <tr>\n",
              "      <td>xxbos xxmaj now that xxmaj che(2008 ) has finished its relatively short xxmaj australian cinema run ( extremely limited xxunk screen in xxmaj xxunk , after xxunk ) , i can xxunk join both xxunk of \" xxmaj at xxmaj the xxmaj movies \" in taking xxmaj steven xxmaj soderbergh to task . \\n \\n  xxmaj it 's usually satisfying to watch a film director change his style /</td>\n",
              "      <td>negative</td>\n",
              "    </tr>\n",
              "    <tr>\n",
              "      <td>xxbos xxmaj this film sat on my xxmaj xxunk for weeks before i watched it . i xxunk a self - indulgent xxunk flick about relationships gone bad . i was wrong ; this was an xxunk xxunk into the screwed - up xxunk of xxmaj new xxmaj yorkers . \\n \\n  xxmaj the format is the same as xxmaj max xxmaj xxunk ' \" xxmaj la xxmaj ronde</td>\n",
              "      <td>positive</td>\n",
              "    </tr>\n",
              "    <tr>\n",
              "      <td>xxbos xxmaj many neglect that this is n't just a classic due to the fact that it 's the first xxup 3d game , or even the first xxunk - up . xxmaj it 's also one of the first stealth games , one of the xxunk definitely the first ) truly claustrophobic games , and just a pretty well - rounded gaming experience in general . xxmaj with graphics</td>\n",
              "      <td>positive</td>\n",
              "    </tr>\n",
              "  </tbody>\n",
              "</table>"
            ],
            "text/plain": [
              "<IPython.core.display.HTML object>"
            ]
          },
          "metadata": {
            "tags": []
          }
        }
      ]
    },
    {
      "cell_type": "code",
      "metadata": {
        "id": "wpXyQM3VO_c7",
        "colab_type": "code",
        "colab": {}
      },
      "source": [
        "data_lm.save()"
      ],
      "execution_count": null,
      "outputs": []
    },
    {
      "cell_type": "code",
      "metadata": {
        "id": "H8E1m-3XPpOd",
        "colab_type": "code",
        "colab": {
          "base_uri": "https://localhost:8080/",
          "height": 374
        },
        "outputId": "f104d918-c42b-49ee-fca7-ede4429c1336"
      },
      "source": [
        "# Tokenization and Numericalization\n",
        "data = TextClasDataBunch.from_csv(path, 'texts.csv')\n",
        "data.show_batch()"
      ],
      "execution_count": null,
      "outputs": [
        {
          "output_type": "display_data",
          "data": {
            "text/html": [
              ""
            ],
            "text/plain": [
              "<IPython.core.display.HTML object>"
            ]
          },
          "metadata": {
            "tags": []
          }
        },
        {
          "output_type": "display_data",
          "data": {
            "text/html": [
              ""
            ],
            "text/plain": [
              "<IPython.core.display.HTML object>"
            ]
          },
          "metadata": {
            "tags": []
          }
        },
        {
          "output_type": "display_data",
          "data": {
            "text/html": [
              "<table border=\"1\" class=\"dataframe\">\n",
              "  <thead>\n",
              "    <tr style=\"text-align: right;\">\n",
              "      <th>text</th>\n",
              "      <th>target</th>\n",
              "    </tr>\n",
              "  </thead>\n",
              "  <tbody>\n",
              "    <tr>\n",
              "      <td>xxbos xxmaj raising xxmaj victor xxmaj vargas : a xxmaj review \\n \\n  xxmaj you know , xxmaj raising xxmaj victor xxmaj vargas is like sticking your hands into a big , steaming bowl of xxunk . xxmaj it 's warm and gooey , but you 're not sure if it feels right . xxmaj try as i might , no matter how warm and gooey xxmaj raising xxmaj</td>\n",
              "      <td>negative</td>\n",
              "    </tr>\n",
              "    <tr>\n",
              "      <td>xxbos xxup the xxup shop xxup around xxup the xxup corner is one of the sweetest and most feel - good romantic comedies ever made . xxmaj there 's just no getting around that , and it 's hard to actually put one 's feeling for this film into words . xxmaj it 's not one of those films that tries too hard , nor does it come up with</td>\n",
              "      <td>positive</td>\n",
              "    </tr>\n",
              "    <tr>\n",
              "      <td>xxbos xxmaj now that xxmaj che(2008 ) has finished its relatively short xxmaj australian cinema run ( extremely limited xxunk screen in xxmaj sydney , after xxunk ) , i can xxunk join both xxunk of \" xxmaj at xxmaj the xxmaj movies \" in taking xxmaj steven xxmaj soderbergh to task . \\n \\n  xxmaj it 's usually satisfying to watch a film director change his style /</td>\n",
              "      <td>negative</td>\n",
              "    </tr>\n",
              "    <tr>\n",
              "      <td>xxbos xxmaj this film sat on my xxmaj tivo for weeks before i watched it . i dreaded a self - indulgent xxunk flick about relationships gone bad . i was wrong ; this was an xxunk xxunk into the screwed - up xxunk of xxmaj new xxmaj xxunk . \\n \\n  xxmaj the format is the same as xxmaj max xxmaj xxunk ' \" xxmaj la xxmaj ronde</td>\n",
              "      <td>positive</td>\n",
              "    </tr>\n",
              "    <tr>\n",
              "      <td>xxbos xxmaj many neglect that this is n't just a classic due to the fact that it 's the first xxup 3d game , or even the first xxunk - up . xxmaj it 's also one of the first xxunk games , one of the xxunk definitely the first ) truly claustrophobic games , and just a pretty well - rounded gaming experience in general . xxmaj with graphics</td>\n",
              "      <td>positive</td>\n",
              "    </tr>\n",
              "  </tbody>\n",
              "</table>"
            ],
            "text/plain": [
              "<IPython.core.display.HTML object>"
            ]
          },
          "metadata": {
            "tags": []
          }
        }
      ]
    },
    {
      "cell_type": "code",
      "metadata": {
        "id": "1DXfE26DQVo_",
        "colab_type": "code",
        "colab": {
          "base_uri": "https://localhost:8080/",
          "height": 193
        },
        "outputId": "5c7eae58-1b33-46c1-a026-3b6d59269379"
      },
      "source": [
        "# show the 1st 10 tokens. \n",
        "data.vocab.itos[0:10]"
      ],
      "execution_count": null,
      "outputs": [
        {
          "output_type": "execute_result",
          "data": {
            "text/plain": [
              "['xxunk',\n",
              " 'xxpad',\n",
              " 'xxbos',\n",
              " 'xxeos',\n",
              " 'xxfld',\n",
              " 'xxmaj',\n",
              " 'xxup',\n",
              " 'xxrep',\n",
              " 'xxwrep',\n",
              " 'the']"
            ]
          },
          "metadata": {
            "tags": []
          },
          "execution_count": 18
        }
      ]
    },
    {
      "cell_type": "code",
      "metadata": {
        "id": "8qRIZ9PPQmWh",
        "colab_type": "code",
        "colab": {
          "base_uri": "https://localhost:8080/",
          "height": 72
        },
        "outputId": "7c968ea9-39d8-40aa-cafa-3647b64a8659"
      },
      "source": [
        "data.train_ds[0]\n"
      ],
      "execution_count": null,
      "outputs": [
        {
          "output_type": "execute_result",
          "data": {
            "text/plain": [
              "(Text xxbos xxmaj this show is unbelievable in that . . . what it xxunk and what it focuses on and . . . words can not describe how insane xxup et is . xxmaj they will report anything . xxmaj if a celebrity is even remotely xxunk connected to the story xxup et will report on it . xxmaj if a dog poop in the xxmaj tom xxmaj cruise 's yard they will report on it . xxmaj if a celebrity dies . . . they will talk about it for weeks on end to the point where the public xxunk that celebrity . xxmaj if a celebrity is on trial . . . xxup et will report it for xxup months on end . xxmaj there is no end to what this show will reports and no time frame that xxunk how long they will focus on a story . xxmaj is it even considered xxunk reporting ? xxmaj the reports are so xxunk annoying too , with harsh rambling voices and end with an unnecessary xxunk to convey a sense of important . i can not watch this show without questioning humanity 's existence . xxup et is one big reason i avoid pre - evening shows in general . i regret that imdb can only allow a minimum of one star rating and not zero or even in the xxunk . xxmaj for this show deserve xxunk xxmaj stars .,\n",
              " Category negative)"
            ]
          },
          "metadata": {
            "tags": []
          },
          "execution_count": 36
        }
      ]
    },
    {
      "cell_type": "code",
      "metadata": {
        "id": "NEvQlSdISTi6",
        "colab_type": "code",
        "colab": {
          "base_uri": "https://localhost:8080/",
          "height": 17
        },
        "outputId": "de84b918-f391-4196-d341-9ddeaa46a4ba"
      },
      "source": [
        "#Using DataBlock API to play with the data\n",
        "\n",
        "data = TextList.from_csv(path, 'texts.csv').split_from_df(col=2).label_from_df(cols=0).databunch()"
      ],
      "execution_count": null,
      "outputs": [
        {
          "output_type": "display_data",
          "data": {
            "text/html": [
              ""
            ],
            "text/plain": [
              "<IPython.core.display.HTML object>"
            ]
          },
          "metadata": {
            "tags": []
          }
        },
        {
          "output_type": "display_data",
          "data": {
            "text/html": [
              ""
            ],
            "text/plain": [
              "<IPython.core.display.HTML object>"
            ]
          },
          "metadata": {
            "tags": []
          }
        }
      ]
    },
    {
      "cell_type": "code",
      "metadata": {
        "id": "Cmf-pj8vQx9v",
        "colab_type": "code",
        "colab": {
          "base_uri": "https://localhost:8080/",
          "height": 203
        },
        "outputId": "c5868f25-32e9-496c-c81f-7af93c452af2"
      },
      "source": [
        "data.show_batch()"
      ],
      "execution_count": null,
      "outputs": [
        {
          "output_type": "display_data",
          "data": {
            "text/html": [
              "<table border=\"1\" class=\"dataframe\">\n",
              "  <thead>\n",
              "    <tr style=\"text-align: right;\">\n",
              "      <th>text</th>\n",
              "      <th>target</th>\n",
              "    </tr>\n",
              "  </thead>\n",
              "  <tbody>\n",
              "    <tr>\n",
              "      <td>xxbos negative</td>\n",
              "      <td>negative</td>\n",
              "    </tr>\n",
              "    <tr>\n",
              "      <td>xxbos positive</td>\n",
              "      <td>positive</td>\n",
              "    </tr>\n",
              "    <tr>\n",
              "      <td>xxbos negative</td>\n",
              "      <td>negative</td>\n",
              "    </tr>\n",
              "    <tr>\n",
              "      <td>xxbos positive</td>\n",
              "      <td>positive</td>\n",
              "    </tr>\n",
              "    <tr>\n",
              "      <td>xxbos positive</td>\n",
              "      <td>positive</td>\n",
              "    </tr>\n",
              "  </tbody>\n",
              "</table>"
            ],
            "text/plain": [
              "<IPython.core.display.HTML object>"
            ]
          },
          "metadata": {
            "tags": []
          }
        }
      ]
    },
    {
      "cell_type": "code",
      "metadata": {
        "id": "0VkcncRGR8jS",
        "colab_type": "code",
        "colab": {
          "base_uri": "https://localhost:8080/",
          "height": 158
        },
        "outputId": "ce80925f-12ff-4194-9925-a2d19af7d359"
      },
      "source": [
        "# Language model\n",
        "bs = 48\n",
        "\n",
        "path = untar_data(URLs.IMDB)\n",
        "path.ls()"
      ],
      "execution_count": null,
      "outputs": [
        {
          "output_type": "stream",
          "text": [
            "Downloading https://s3.amazonaws.com/fast-ai-nlp/imdb\n"
          ],
          "name": "stdout"
        },
        {
          "output_type": "display_data",
          "data": {
            "text/html": [
              ""
            ],
            "text/plain": [
              "<IPython.core.display.HTML object>"
            ]
          },
          "metadata": {
            "tags": []
          }
        },
        {
          "output_type": "execute_result",
          "data": {
            "text/plain": [
              "[PosixPath('/root/.fastai/data/imdb/test'),\n",
              " PosixPath('/root/.fastai/data/imdb/tmp_clas'),\n",
              " PosixPath('/root/.fastai/data/imdb/tmp_lm'),\n",
              " PosixPath('/root/.fastai/data/imdb/train'),\n",
              " PosixPath('/root/.fastai/data/imdb/README'),\n",
              " PosixPath('/root/.fastai/data/imdb/imdb.vocab'),\n",
              " PosixPath('/root/.fastai/data/imdb/unsup')]"
            ]
          },
          "metadata": {
            "tags": []
          },
          "execution_count": 4
        }
      ]
    },
    {
      "cell_type": "code",
      "metadata": {
        "id": "GM-oEinzWDBV",
        "colab_type": "code",
        "colab": {
          "base_uri": "https://localhost:8080/",
          "height": 193
        },
        "outputId": "ce58fc53-43ca-4954-eaae-898e7a11f4d5"
      },
      "source": [
        "(path/'train/pos').ls()[0:10]"
      ],
      "execution_count": null,
      "outputs": [
        {
          "output_type": "execute_result",
          "data": {
            "text/plain": [
              "[PosixPath('/root/.fastai/data/imdb/train/pos/5918_9.txt'),\n",
              " PosixPath('/root/.fastai/data/imdb/train/pos/11261_9.txt'),\n",
              " PosixPath('/root/.fastai/data/imdb/train/pos/5010_10.txt'),\n",
              " PosixPath('/root/.fastai/data/imdb/train/pos/11383_7.txt'),\n",
              " PosixPath('/root/.fastai/data/imdb/train/pos/6712_9.txt'),\n",
              " PosixPath('/root/.fastai/data/imdb/train/pos/6631_7.txt'),\n",
              " PosixPath('/root/.fastai/data/imdb/train/pos/5549_8.txt'),\n",
              " PosixPath('/root/.fastai/data/imdb/train/pos/2159_10.txt'),\n",
              " PosixPath('/root/.fastai/data/imdb/train/pos/6931_8.txt'),\n",
              " PosixPath('/root/.fastai/data/imdb/train/pos/1428_7.txt')]"
            ]
          },
          "metadata": {
            "tags": []
          },
          "execution_count": 54
        }
      ]
    },
    {
      "cell_type": "code",
      "metadata": {
        "id": "qbu0ljTnWsPm",
        "colab_type": "code",
        "colab": {
          "base_uri": "https://localhost:8080/",
          "height": 17
        },
        "outputId": "67bca104-37f5-48d0-ba8d-4233b211c254"
      },
      "source": [
        "data_lm = TextList.from_folder(path).filter_by_folder(include=['train','test','unsup']).split_by_rand_pct(0.1).label_for_lm().databunch(bs=bs)"
      ],
      "execution_count": null,
      "outputs": [
        {
          "output_type": "display_data",
          "data": {
            "text/html": [
              ""
            ],
            "text/plain": [
              "<IPython.core.display.HTML object>"
            ]
          },
          "metadata": {
            "tags": []
          }
        },
        {
          "output_type": "display_data",
          "data": {
            "text/html": [
              ""
            ],
            "text/plain": [
              "<IPython.core.display.HTML object>"
            ]
          },
          "metadata": {
            "tags": []
          }
        }
      ]
    },
    {
      "cell_type": "code",
      "metadata": {
        "id": "q9alEnhDX8Dn",
        "colab_type": "code",
        "colab": {
          "base_uri": "https://localhost:8080/",
          "height": 374
        },
        "outputId": "f51c0ed4-f84b-4a7f-8279-6d00c64e4d1a"
      },
      "source": [
        "data_lm.show_batch()\n",
        "data_lm.save('data_lm.pkl')"
      ],
      "execution_count": null,
      "outputs": [
        {
          "output_type": "display_data",
          "data": {
            "text/html": [
              "<table border=\"1\" class=\"dataframe\">\n",
              "  <thead>\n",
              "    <tr style=\"text-align: right;\">\n",
              "      <th>idx</th>\n",
              "      <th>text</th>\n",
              "    </tr>\n",
              "  </thead>\n",
              "  <tbody>\n",
              "    <tr>\n",
              "      <td>0</td>\n",
              "      <td>like xxmaj the xxmaj shaw shank redemption , the godfather , and xxmaj american history xxup x. i can like good movies in a genre like horror , or comedy , even if the movie might not be that great . i can even enjoy a bad movie that just happens to entertain me ( xxmaj bloodsport ) . i also will try to rate movie fairly even if i</td>\n",
              "    </tr>\n",
              "    <tr>\n",
              "      <td>1</td>\n",
              "      <td>in much other films and their bios are all but non existent , so you can imagine i was surprised to find xxmaj giovanni xxmaj lombardo xxmaj radice in this movie who was in xxmaj scorsese 's xxmaj gangs of xxmaj new xxmaj york . xxmaj now xxmaj lt . xxmaj rizzo looked familiar and i found he was in the 2002 movie xxmaj spiderman as a very tiny role</td>\n",
              "    </tr>\n",
              "    <tr>\n",
              "      <td>2</td>\n",
              "      <td>with it by being honest about it , and by growing as an actor , not by hiding it with carefully chosen camera angles and floor length robes . \\n \\n  xxmaj so i ca n't really tell what 's going on , and the movie does n't give me a reason to care about what 's going on , and the protagonist is completely one dimensional and visually</td>\n",
              "    </tr>\n",
              "    <tr>\n",
              "      <td>3</td>\n",
              "      <td>at xxunk for me . xxmaj this may seem odd , but i highly recommend it . xxmaj it 's something you have to see for yourself ... but do n't say i did n't warn you . i do n't think this review could get any more precise so i 'm done now . \\n \\n  xxbos xxmaj dr. xxmaj xxunk wants to save his son xxmaj julio</td>\n",
              "    </tr>\n",
              "    <tr>\n",
              "      <td>4</td>\n",
              "      <td>microscopic budget . xxmaj the production values are low , but the filmmakers were smart enough to not be ambitious . xxmaj little in the way of special props or shooting locations were needed . xxmaj the acting is especially weak and there is virtually nothing original in the screenplay . xxmaj on the positive side , the special makeup effects are surprisingly good by low budget film standards .</td>\n",
              "    </tr>\n",
              "  </tbody>\n",
              "</table>"
            ],
            "text/plain": [
              "<IPython.core.display.HTML object>"
            ]
          },
          "metadata": {
            "tags": []
          }
        }
      ]
    },
    {
      "cell_type": "code",
      "metadata": {
        "id": "a2pgZokqZ8x9",
        "colab_type": "code",
        "colab": {
          "base_uri": "https://localhost:8080/",
          "height": 175
        },
        "outputId": "be76f0af-1a34-422a-93de-e4652dfb842b"
      },
      "source": [
        "print(len(data_lm.train_ds))\n",
        "\n",
        "path.ls()"
      ],
      "execution_count": null,
      "outputs": [
        {
          "output_type": "stream",
          "text": [
            "90000\n"
          ],
          "name": "stdout"
        },
        {
          "output_type": "execute_result",
          "data": {
            "text/plain": [
              "[PosixPath('/root/.fastai/data/imdb/test'),\n",
              " PosixPath('/root/.fastai/data/imdb/data_lm.pkl'),\n",
              " PosixPath('/root/.fastai/data/imdb/tmp_clas'),\n",
              " PosixPath('/root/.fastai/data/imdb/tmp_lm'),\n",
              " PosixPath('/root/.fastai/data/imdb/train'),\n",
              " PosixPath('/root/.fastai/data/imdb/README'),\n",
              " PosixPath('/root/.fastai/data/imdb/imdb.vocab'),\n",
              " PosixPath('/root/.fastai/data/imdb/unsup')]"
            ]
          },
          "metadata": {
            "tags": []
          },
          "execution_count": 8
        }
      ]
    },
    {
      "cell_type": "code",
      "metadata": {
        "id": "zS5FhR_HtkJU",
        "colab_type": "code",
        "colab": {}
      },
      "source": [
        "data_lm = load_data(path, 'data_lm.pkl', bs=bs)"
      ],
      "execution_count": null,
      "outputs": []
    },
    {
      "cell_type": "code",
      "metadata": {
        "id": "DS_xP40haMsm",
        "colab_type": "code",
        "colab": {
          "base_uri": "https://localhost:8080/",
          "height": 34
        },
        "outputId": "6ca57c4f-bbc1-4a26-ef90-19a844d4a0ce"
      },
      "source": [
        "learn = language_model_learner(data_lm, AWD_LSTM,drop_mult=0.3)"
      ],
      "execution_count": null,
      "outputs": [
        {
          "output_type": "stream",
          "text": [
            "Downloading https://s3.amazonaws.com/fast-ai-modelzoo/wt103-fwd\n"
          ],
          "name": "stdout"
        },
        {
          "output_type": "display_data",
          "data": {
            "text/html": [
              ""
            ],
            "text/plain": [
              "<IPython.core.display.HTML object>"
            ]
          },
          "metadata": {
            "tags": []
          }
        }
      ]
    },
    {
      "cell_type": "code",
      "metadata": {
        "id": "0X_o8XajabBK",
        "colab_type": "code",
        "colab": {
          "base_uri": "https://localhost:8080/",
          "height": 112
        },
        "outputId": "9c6f4b1f-bac9-4b23-83e8-0bec43694ab3"
      },
      "source": [
        "learn.lr_find()"
      ],
      "execution_count": null,
      "outputs": [
        {
          "output_type": "display_data",
          "data": {
            "text/html": [
              "\n",
              "    <div>\n",
              "        <style>\n",
              "            /* Turns off some styling */\n",
              "            progress {\n",
              "                /* gets rid of default border in Firefox and Opera. */\n",
              "                border: none;\n",
              "                /* Needs to be in here for Safari polyfill so background images work as expected. */\n",
              "                background-size: auto;\n",
              "            }\n",
              "            .progress-bar-interrupted, .progress-bar-interrupted::-webkit-progress-bar {\n",
              "                background: #F44336;\n",
              "            }\n",
              "        </style>\n",
              "      <progress value='0' class='' max='1', style='width:300px; height:20px; vertical-align: middle;'></progress>\n",
              "      0.00% [0/1 00:00<00:00]\n",
              "    </div>\n",
              "    \n",
              "<table border=\"1\" class=\"dataframe\">\n",
              "  <thead>\n",
              "    <tr style=\"text-align: left;\">\n",
              "      <th>epoch</th>\n",
              "      <th>train_loss</th>\n",
              "      <th>valid_loss</th>\n",
              "      <th>accuracy</th>\n",
              "      <th>time</th>\n",
              "    </tr>\n",
              "  </thead>\n",
              "  <tbody>\n",
              "  </tbody>\n",
              "</table><p>\n",
              "\n",
              "    <div>\n",
              "        <style>\n",
              "            /* Turns off some styling */\n",
              "            progress {\n",
              "                /* gets rid of default border in Firefox and Opera. */\n",
              "                border: none;\n",
              "                /* Needs to be in here for Safari polyfill so background images work as expected. */\n",
              "                background-size: auto;\n",
              "            }\n",
              "            .progress-bar-interrupted, .progress-bar-interrupted::-webkit-progress-bar {\n",
              "                background: #F44336;\n",
              "            }\n",
              "        </style>\n",
              "      <progress value='99' class='' max='8050', style='width:300px; height:20px; vertical-align: middle;'></progress>\n",
              "      1.23% [99/8050 00:32<43:06 11.6132]\n",
              "    </div>\n",
              "    "
            ],
            "text/plain": [
              "<IPython.core.display.HTML object>"
            ]
          },
          "metadata": {
            "tags": []
          }
        },
        {
          "output_type": "stream",
          "text": [
            "LR Finder is complete, type {learner_name}.recorder.plot() to see the graph.\n"
          ],
          "name": "stdout"
        }
      ]
    },
    {
      "cell_type": "code",
      "metadata": {
        "id": "a7-5apBPt-o2",
        "colab_type": "code",
        "colab": {
          "base_uri": "https://localhost:8080/",
          "height": 279
        },
        "outputId": "0fc7dbe3-1dae-4438-8ec3-1920773d3e32"
      },
      "source": [
        "learn.recorder.plot(skip_end=15)"
      ],
      "execution_count": null,
      "outputs": [
        {
          "output_type": "display_data",
          "data": {
            "image/png": "[encoded data removed]",
            "text/plain": [
              "<Figure size 432x288 with 1 Axes>"
            ]
          },
          "metadata": {
            "tags": []
          }
        }
      ]
    },
    {
      "cell_type": "code",
      "metadata": {
        "id": "0NlJDDghvCI8",
        "colab_type": "code",
        "colab": {
          "base_uri": "https://localhost:8080/",
          "height": 79
        },
        "outputId": "40f1eb25-eae4-446e-d307-93c0998f752a"
      },
      "source": [
        "learn.fit_one_cycle(1,1e-2, moms=(0.8,0.7))"
      ],
      "execution_count": null,
      "outputs": [
        {
          "output_type": "display_data",
          "data": {
            "text/html": [
              "<table border=\"1\" class=\"dataframe\">\n",
              "  <thead>\n",
              "    <tr style=\"text-align: left;\">\n",
              "      <th>epoch</th>\n",
              "      <th>train_loss</th>\n",
              "      <th>valid_loss</th>\n",
              "      <th>accuracy</th>\n",
              "      <th>time</th>\n",
              "    </tr>\n",
              "  </thead>\n",
              "  <tbody>\n",
              "    <tr>\n",
              "      <td>0</td>\n",
              "      <td>4.163372</td>\n",
              "      <td>4.028653</td>\n",
              "      <td>0.295177</td>\n",
              "      <td>48:34</td>\n",
              "    </tr>\n",
              "  </tbody>\n",
              "</table>"
            ],
            "text/plain": [
              "<IPython.core.display.HTML object>"
            ]
          },
          "metadata": {
            "tags": []
          }
        }
      ]
    },
    {
      "cell_type": "code",
      "metadata": {
        "id": "CCZCYmFzvcOS",
        "colab_type": "code",
        "colab": {}
      },
      "source": [
        "learn.save('first_head')"
      ],
      "execution_count": null,
      "outputs": []
    },
    {
      "cell_type": "code",
      "metadata": {
        "id": "P_QbMH6M7Zv8",
        "colab_type": "code",
        "colab": {}
      },
      "source": [
        "learn.load('first_head');"
      ],
      "execution_count": null,
      "outputs": []
    },
    {
      "cell_type": "code",
      "metadata": {
        "id": "fxH_FBQW71eI",
        "colab_type": "code",
        "colab": {}
      },
      "source": [
        "learn.unfreeze()"
      ],
      "execution_count": null,
      "outputs": []
    },
    {
      "cell_type": "code",
      "metadata": {
        "id": "4HW3VtMf7ci3",
        "colab_type": "code",
        "colab": {
          "base_uri": "https://localhost:8080/",
          "height": 110
        },
        "outputId": "f1f185d8-8038-4ac5-e636-9f6a8fc95b51"
      },
      "source": [
        "learn.fit_one_cycle(2,1e-3,moms=(0.8,0.7)) # should have run 10 epochs but takes more time. so limiting to 2 epochs. \n",
        "learn.save('fine_tuned')"
      ],
      "execution_count": null,
      "outputs": [
        {
          "output_type": "display_data",
          "data": {
            "text/html": [
              "<table border=\"1\" class=\"dataframe\">\n",
              "  <thead>\n",
              "    <tr style=\"text-align: left;\">\n",
              "      <th>epoch</th>\n",
              "      <th>train_loss</th>\n",
              "      <th>valid_loss</th>\n",
              "      <th>accuracy</th>\n",
              "      <th>time</th>\n",
              "    </tr>\n",
              "  </thead>\n",
              "  <tbody>\n",
              "    <tr>\n",
              "      <td>0</td>\n",
              "      <td>3.844707</td>\n",
              "      <td>3.787398</td>\n",
              "      <td>0.323246</td>\n",
              "      <td>54:42</td>\n",
              "    </tr>\n",
              "    <tr>\n",
              "      <td>1</td>\n",
              "      <td>3.705748</td>\n",
              "      <td>3.694169</td>\n",
              "      <td>0.334929</td>\n",
              "      <td>54:39</td>\n",
              "    </tr>\n",
              "  </tbody>\n",
              "</table>"
            ],
            "text/plain": [
              "<IPython.core.display.HTML object>"
            ]
          },
          "metadata": {
            "tags": []
          }
        }
      ]
    },
    {
      "cell_type": "code",
      "metadata": {
        "id": "Hb0kk45O77Ya",
        "colab_type": "code",
        "colab": {}
      },
      "source": [
        "\n",
        "learn.load('fine_tuned');"
      ],
      "execution_count": null,
      "outputs": []
    },
    {
      "cell_type": "code",
      "metadata": {
        "id": "EpmfOf1BiWBw",
        "colab_type": "code",
        "colab": {}
      },
      "source": [
        "TEXT = \"I liked this movie because\"\n",
        "N_WORDS = 60\n",
        "N_SENTENCES = 1"
      ],
      "execution_count": null,
      "outputs": []
    },
    {
      "cell_type": "code",
      "metadata": {
        "id": "_e0LWCrFjUYD",
        "colab_type": "code",
        "colab": {
          "base_uri": "https://localhost:8080/",
          "height": 54
        },
        "outputId": "11a03826-554d-44ea-fef0-9e599e157a90"
      },
      "source": [
        "print(\"\\n\".join(learn.predict(TEXT, N_WORDS, temperature=0.75) for _ in range(N_SENTENCES)))"
      ],
      "execution_count": null,
      "outputs": [
        {
          "output_type": "stream",
          "text": [
            "I liked this movie because it reminded me of The Godfather and the Godfather . The Godfather is a very good film . The message was very good . It had a very good script and it was n't too bad . The performances were good but the story felt like there was n't much to it\n"
          ],
          "name": "stdout"
        }
      ]
    },
    {
      "cell_type": "code",
      "metadata": {
        "id": "gpYOpsnijhuE",
        "colab_type": "code",
        "colab": {}
      },
      "source": [
        "learn.save_encoder('fine_tuned_enc')"
      ],
      "execution_count": null,
      "outputs": []
    },
    {
      "cell_type": "markdown",
      "metadata": {
        "id": "UBBsGI_ZkLRE",
        "colab_type": "text"
      },
      "source": [
        "CLASSIFIER"
      ]
    },
    {
      "cell_type": "code",
      "metadata": {
        "id": "Fa8ZCQXDkFt8",
        "colab_type": "code",
        "colab": {}
      },
      "source": [
        "path = untar_data(URLs.IMDB)"
      ],
      "execution_count": null,
      "outputs": []
    },
    {
      "cell_type": "code",
      "metadata": {
        "id": "8jnG3zQjkRUw",
        "colab_type": "code",
        "colab": {
          "base_uri": "https://localhost:8080/",
          "height": 193
        },
        "outputId": "226a5091-84e1-4228-f0fb-9a67e06fc697"
      },
      "source": [
        "(path/'train/pos').ls()[0:10]"
      ],
      "execution_count": null,
      "outputs": [
        {
          "output_type": "execute_result",
          "data": {
            "text/plain": [
              "[PosixPath('/root/.fastai/data/imdb/train/pos/5557_9.txt'),\n",
              " PosixPath('/root/.fastai/data/imdb/train/pos/8308_7.txt'),\n",
              " PosixPath('/root/.fastai/data/imdb/train/pos/9501_10.txt'),\n",
              " PosixPath('/root/.fastai/data/imdb/train/pos/2678_8.txt'),\n",
              " PosixPath('/root/.fastai/data/imdb/train/pos/8130_10.txt'),\n",
              " PosixPath('/root/.fastai/data/imdb/train/pos/6484_10.txt'),\n",
              " PosixPath('/root/.fastai/data/imdb/train/pos/3519_7.txt'),\n",
              " PosixPath('/root/.fastai/data/imdb/train/pos/7598_10.txt'),\n",
              " PosixPath('/root/.fastai/data/imdb/train/pos/8624_7.txt'),\n",
              " PosixPath('/root/.fastai/data/imdb/train/pos/12126_8.txt')]"
            ]
          },
          "metadata": {
            "tags": []
          },
          "execution_count": 41
        }
      ]
    },
    {
      "cell_type": "code",
      "metadata": {
        "id": "zL-DcGr2mvYR",
        "colab_type": "code",
        "colab": {}
      },
      "source": [
        "data_lm.voc"
      ],
      "execution_count": null,
      "outputs": []
    },
    {
      "cell_type": "code",
      "metadata": {
        "id": "Dzuu4QhmkTOi",
        "colab_type": "code",
        "colab": {
          "base_uri": "https://localhost:8080/",
          "height": 17
        },
        "outputId": "fa97075f-f244-4780-f23a-7ca9cc5133ca"
      },
      "source": [
        "data_clas = (TextList.from_folder(path,vocab=data_lm.vocab).split_by_folder(valid='test').label_from_folder(classes=['neg','pos']).databunch(bs=bs))"
      ],
      "execution_count": null,
      "outputs": [
        {
          "output_type": "display_data",
          "data": {
            "text/html": [
              ""
            ],
            "text/plain": [
              "<IPython.core.display.HTML object>"
            ]
          },
          "metadata": {
            "tags": []
          }
        },
        {
          "output_type": "display_data",
          "data": {
            "text/html": [
              ""
            ],
            "text/plain": [
              "<IPython.core.display.HTML object>"
            ]
          },
          "metadata": {
            "tags": []
          }
        }
      ]
    },
    {
      "cell_type": "code",
      "metadata": {
        "id": "DxJrNPRTlVIp",
        "colab_type": "code",
        "colab": {}
      },
      "source": [
        "data_clas.save('data_clas.pkl')"
      ],
      "execution_count": null,
      "outputs": []
    },
    {
      "cell_type": "code",
      "metadata": {
        "id": "lJpkGBnRns66",
        "colab_type": "code",
        "colab": {
          "base_uri": "https://localhost:8080/",
          "height": 391
        },
        "outputId": "ecb42a3f-8d24-48ac-b3c0-00fec94caa90"
      },
      "source": [
        "data_clas.show_batch()"
      ],
      "execution_count": null,
      "outputs": [
        {
          "output_type": "display_data",
          "data": {
            "text/html": [
              "<table border=\"1\" class=\"dataframe\">\n",
              "  <thead>\n",
              "    <tr style=\"text-align: right;\">\n",
              "      <th>text</th>\n",
              "      <th>target</th>\n",
              "    </tr>\n",
              "  </thead>\n",
              "  <tbody>\n",
              "    <tr>\n",
              "      <td>xxbos xxmaj match 1 : xxmaj tag xxmaj team xxmaj table xxmaj match xxmaj bubba xxmaj ray and xxmaj spike xxmaj dudley vs xxmaj eddie xxmaj guerrero and xxmaj chris xxmaj benoit xxmaj bubba xxmaj ray and xxmaj spike xxmaj dudley started things off with a xxmaj tag xxmaj team xxmaj table xxmaj match against xxmaj eddie xxmaj guerrero and xxmaj chris xxmaj benoit . xxmaj according to the rules</td>\n",
              "      <td>pos</td>\n",
              "    </tr>\n",
              "    <tr>\n",
              "      <td>xxbos xxunk ) is the developing world 's answer to xxmaj silence of the xxmaj lambs . xxmaj where ` xxmaj silence ' terrorized our peace of mind , ` xxmaj citizen ' exhausts and saddens us instead . xxmaj this dramatization of the xxmaj chikatilo case translates rather well , thanks to a xxmaj westernized friendship between two xxmaj rostov cops who become equals . \\n \\n  citizenx</td>\n",
              "      <td>pos</td>\n",
              "    </tr>\n",
              "    <tr>\n",
              "      <td>xxbos xxmaj god ! xxmaj zorro has been the the subject of about as many movies as xxmaj tarzan , and probably had about as many actors in the title role . \\n \\n  xxmaj this xxmaj serial is one of my own personal favourites , and as previously stated , it is one of the xxmaj top 5 xxmaj sound xxmaj serials . xxmaj oddly enough , this</td>\n",
              "      <td>pos</td>\n",
              "    </tr>\n",
              "    <tr>\n",
              "      <td>xxbos xxmaj now that xxmaj xxunk ) has finished its relatively short xxmaj australian cinema run ( extremely limited xxunk screen in xxmaj sydney , after xxunk ) , i can xxunk join both hosts of \" xxmaj at xxmaj the xxmaj movies \" in taking xxmaj steven xxmaj soderbergh to task . \\n \\n  xxmaj it 's usually satisfying to watch a film director change his style /</td>\n",
              "      <td>neg</td>\n",
              "    </tr>\n",
              "    <tr>\n",
              "      <td>xxbos xxup oliver xxup twist was to have controversy as well as success following it after xxmaj dickens published it in 1837 . xxmaj his picture of life in the urban ghettos was something shocking and new , and his making the central figures of the novel include criminals was another innovation . \\n \\n  xxmaj one day he was walking in xxmaj london and passed a young woman</td>\n",
              "      <td>pos</td>\n",
              "    </tr>\n",
              "  </tbody>\n",
              "</table>"
            ],
            "text/plain": [
              "<IPython.core.display.HTML object>"
            ]
          },
          "metadata": {
            "tags": []
          }
        }
      ]
    },
    {
      "cell_type": "code",
      "metadata": {
        "id": "UY225UCtnwVZ",
        "colab_type": "code",
        "colab": {
          "base_uri": "https://localhost:8080/",
          "height": 1000
        },
        "outputId": "693754fd-5b31-4d59-b84e-251dfedc7179"
      },
      "source": [
        "learn = text_classifier_learner(data_clas, AWD_LSTM, drop_mult=0.5)\n",
        "learn.load_encoder('fine_tuned_enc')"
      ],
      "execution_count": null,
      "outputs": [
        {
          "output_type": "execute_result",
          "data": {
            "text/plain": [
              "RNNLearner(data=TextClasDataBunch;\n",
              "\n",
              "Train: LabelList (25000 items)\n",
              "x: TextList\n",
              "xxbos xxmaj this sleek , sexy movie is a must - see . xxmaj only upon multiple viewings can one truly understand the uniqueness of this film . xxmaj personally i enjoy the narrator for his intelligent , no subject left untouched , style of narration . xxmaj the introduction grips you right away , and holds you at the edge of your seat throughout the film . xxmaj he provides wonderful insight into the world of the xxunk and allows the audience to really ' connect ' with internal horror this film exhibits . xxmaj the script itself holds the movie together wonderfully . xxmaj not only for kids , but the elderly alike will gain a higher understanding of the xxunk and the modern grasp that they have on the sexual experience . xxmaj ahead of its time and groundbreaking in cinematography , it surely defines the word ' masterpiece ' .,xxbos i have seen bad films but this took the xxunk xxmaj made no sense , and all the characters do is swear every couple of seconds , oh and i think one has a low sperm count . xxmaj its that good . a welshman plays a xxunk cockney . a posh english bloke plays a foul mouthed unlovable rogue of a paddy , and some lesser lights play dim tarts . \n",
              " \n",
              "  xxmaj and there are some xxmaj russian gangsters . xxmaj oh yes some one has a gun and maybe talks rubbish whilst high on drugs . \n",
              " \n",
              "  xxmaj avoid this film like the plague .,xxbos xxmaj an actor asks , \" xxmaj what 's my motivation ? , \" to understand his or her character . xxmaj after viewing this this \" docudrama , \" this vague and haphazard farce , a viewer wonders what anyone 's motivation was . \n",
              " \n",
              "  xxmaj this inept offspring of daytime xxup t.v. ( the xxmaj oprah show ) missed by a mile a great opportunity to explore weighty issues . \n",
              " \n",
              "  xxmaj its characters were all shallow and superficial , its story line far less socially redeeming than a \" xxmaj simpsons \" episode . xxmaj it gratuitously portrayed investigating police as unprofessional and incompetent . xxmaj it failed to offer why the court might treat the main character , a female child molester , so differently than it would have a male perp . \n",
              " \n",
              "  xxmaj why did this unrepentant woman begin \" grooming \" her second grade student , beginning an affair with him when he returned to her sixth grade class ? xxmaj why did the boy 's mother testify in her behalf ? xxmaj the simple answer is overwhelming narcissism , plus generational rationalization and greed . xxmaj the movie gave no hint of that . \n",
              " \n",
              "  xxmaj why was n't the viewer informed that the victim 's mother sold interview rights to print and television tabloids , parading her adolescent son on \" xxmaj the xxmaj today xxmaj show \" ? xxmaj that xxmaj mary xxmaj kay 's lawyer cashed in , she herself appealing a \" xxmaj son of xxmaj sam \" statute so she could benefit from her crime by selling her story to the highest bidder ? \n",
              " \n",
              "  xxmaj why was n't it explained that letourneau 's father was a former right wing xxmaj republican congressman , the 1972 xxmaj american xxmaj independent xxmaj presidential candidate , the xxmaj john xxmaj birch xxmaj society xxmaj president ? xxmaj in 1983 xxmaj john xxmaj schmitz 's political career ended when he was found to have had children by his own community college student , exposed only when that mistress sexually mutilated their infant son ? xxmaj yet xxmaj letourneau 's dad had removed his many kids from \" too liberal \" xxmaj catholic schools , fighting to keep all schoolchildren from receiving any sex education ? \n",
              " \n",
              "  a month after her xxunk release , again pregnant with the now 14-year - old 's second daughter , xxmaj mary xxmaj kay received 7 1 / 2 years in prison for numerous probation violations . a prophetic editorial regarding the sad affair then appeared in the xxmaj seattle xxmaj times : \" xxmaj at the end of two wretched hours , letourneau was led off to jail , and this salacious melange of made - for - xxup tv xxunk was over , until casting begins . \" \n",
              " \n",
              "  xxmaj sure enough , 18 months later , filming of this travesty was underway .,xxbos xxmaj so , i 'm wondering while watching this film , did the producers of this movie get to save money on xxmaj sandra xxmaj bullock 's wardrobe by dragging out her \" before \" clothes from xxmaj miss xxmaj congeniality ? xxmaj did xxmaj ms. xxmaj bullock also get to sleepwalk through the role by channeling the \" before \" xxmaj gracie xxmaj hart ? xxmaj as many reviewers have noted before , the film is very formulaic . xxmaj add to that the deja vu viewer experiences with the character of xxmaj cassie xxmaj xxunk as a somewhat darker xxmaj gracie xxmaj hart with more back story and it rapidly become a snooze fest . \n",
              " \n",
              "  xxmaj the two bad boy serial killers have been done before ( and better ) in other films . xxmaj as has the \" good guy partner trying to protect his partner despite the evidence \" character been seen before . xxmaj in fact none of the characters in the film ever get beyond two dimensions or try to be anything but trite stereotypes . \n",
              " \n",
              "  xxmaj one last peeve - using the term serial killer is false advertising . xxmaj murdering one person - even if it 's a premeditated murder - does not make you a serial killer . xxmaj you may have the potential to become a serial killer but you are not a serial killer or even a spree killer .,xxbos ok . for starters , taxi driver is amazing . this , this is not taxi driver or amazing . what it is is bad . but i thought it was bad funny , which means that it did have some redeeming qualities . like the dialogue ... wow . there was more or less no plot , the characters were all stupid , and the movie was preachy . there were some places were i thought the movie would dive into taxi driver type violence , which would have hit the message at the end of the movie on the head much harder . i ca n't even believe that there are like 20 other people who have seen this movie . yeah , it 's worth watching if you are real bored and you want to reaffirm the fact that anyone can make a movie , or at least can try to .\n",
              "y: CategoryList\n",
              "neg,neg,neg,neg,neg\n",
              "Path: /root/.fastai/data/imdb;\n",
              "\n",
              "Valid: LabelList (25000 items)\n",
              "x: TextList\n",
              "xxbos xxmaj first time i ever felt i needed to write a review . \n",
              " \n",
              "  i have seen thousands of movies in my life and i like a wide range of movies . i am reasonably opened minded , and can easily say i enjoyed a movie while still saying \" yeah it was not good but i enjoyed it \" . i can appreciate the mastery of great movies like xxmaj the xxmaj shaw shank redemption , the godfather , and xxmaj american history xxup x. i can like good movies in a genre like horror , or comedy , even if the movie might not be that great . i can even enjoy a bad movie that just happens to entertain me ( xxmaj bloodsport ) . i also will try to rate movie fairly even if i did not like it . xxmaj city lights by xxmaj charlie xxmaj chapin was not a movie i enjoyed , but i can appreciate the acting and story lines for the time . \n",
              " \n",
              "  i think some people when they go on this site instead of randomly click a rating , should take a few ideas into account . xxmaj try to rate the movie based on how good it actually was . xxmaj do not let your personal bias affect the rating . xxmaj also look at other moves you rated and compare the movie you are going to rate . \n",
              " \n",
              "  xxmaj this \" movie \" was the worst piece of trash i have ever seen . 2 hours of my life where just stolen . xxmaj the acting was awful , across the board . xxmaj the scenes where choppy at best . xxmaj however the real disgrace was the story . xxmaj the first 20 minutes we actually had a story that tried to make sense and take the viewer from point a to xxup b. xxmaj however after that it was a nightmare . xxmaj they kept trying to add new elements but nothing was every explained . xxmaj nothing really ever made sense , was steward dead , is he alive , did he hit by lighting , was it really lighting , was it aliens , is he an alien , etc . xxmaj the ending tied nothing together and really did not answer any questions . xxmaj the only positive was nobody cared we where just happy to leave the theater . \n",
              " \n",
              "  6.5 / 10 ? ? ? xxmaj what is wrong with some of you ? i will admit that the 8 of us where so mad about seeing this , we did think \" what would make it better ? \" , and we decide to tell a few of our friends that this movie was good so they would have to suffer and see this movie . xxmaj what can i say misery loves company . xxmaj that is really the only reason i can see for a 6.5 rating . \n",
              " \n",
              "  xxmaj do not waste your life !,xxbos i got this movie from the library , and saw it had a lot of actors i like in xxunk xxmaj cleese , xxmaj ian xxmaj holm , xxmaj ralph xxmaj richardson , etc ) , so i got it and watched it . i expected xxmaj cleese to have a large role since he had first billing , i was surprised to find out that he had about five minutes of screen time , along with everyone else i liked . xxmaj this movie is amazingly pointless , the characters are nobodies , the plot is non - existent , and the ending is one of the worst endings i have ever seen . xxmaj there were a few funny parts , but that 's about it . xxmaj stay away from this movie if you want to prevent going \" xxmaj what ? \" and \" xxmaj huh ? \" , a lot . xxmaj and if you do n't want to waste your time . xxmaj ignore the people who say this is a very funny movie ... it is n't . xxmaj just stay away from it at all costs ... please .,xxbos xxmaj first , xxup ifc runs xxmaj town and xxmaj country , and now this . xxmaj the difference between that stinker and this xxmaj pink xxmaj panther rip - off is that xxmaj town and xxmaj country was watchable . xxmaj this is n't . \n",
              " \n",
              "  i can only surmise that the cast signed up for this so they could goof off in xxmaj europe on somebody else 's dime . xxmaj belushi is especially irritating . xxmaj his scene with xxmaj candy ( doing a z - grade xxmaj dom deluise ) was torture . xxmaj speaking of torture , five minutes of the talentless xxmaj shepherd , and i bet the prisoners at xxmaj gitmo would crack like walnuts ! \n",
              " \n",
              "  xxmaj the real \" xxmaj crime \" ( besides this being green - lighted ) is xxmaj shepherd 's character : a mousy wife who takes a xxmaj monte xxmaj carlo casino for a half - million bucks ! xxmaj if you buy that , i have some oceanfront property in xxmaj arizona you might be interested in !,xxbos i generally loved the xxmaj carry on movies but this one is actually pretty awful . xxmaj there are very few laughs because the whole thing is so forced . xxmaj there is plenty of talent on the screen and some come off better than others . xxmaj june xxmaj whitfield , xxmaj kenneth xxmaj williams , xxmaj xxunk xxmaj jaques and xxmaj peter xxmaj butterworth are fine but xxmaj barbara xxmaj windsor looks tired and xxmaj sid xxmaj james is just tacky . xxmaj joan xxmaj sims comes off well but in the case of the usually wonderful xxmaj charles xxmaj hawtrey its just plain sad . xxmaj when you think of the sad end to his career the movie is almost too depressing to watch . xxmaj the homophobia of the movie is nasty and its a very unpleasant experience . xxmaj the set looks cheap and unlike other movies in the series the movie is very clearly set in xxmaj england . xxmaj the sea side looks cold and there is little attempt to create any illusions here . xxmaj it looks like a cheap production . xxmaj you will be surprised at how miserable you become watching this especially if you loved the series .,xxbos xxmaj jerk xxunk xxunk xxmaj zelina playing this college frat man as one major bastard you want to see die right xxunk his college cronies leave xxunk diabetic xxunk xxmaj xxunk on a wooden cross along with this scarecrow which is a legendary ghost story . xxmaj they get xxunk at xxmaj sam who essentially goes into shock and aims a swinging punch at xxmaj mike that lands across his girlfriend xxunk xxmaj xxunk so leaving the poor guy hanging is his punishment . xxmaj somehow , xxmaj sam 's soul \" emerges \" with the inanimate scarecrow who comes from the cross to destroy everyone who left the poor guy there to rot . xxmaj mike and the gang send the uninitiated dorks back to bring xxmaj sam down but they are the first to receive a swinging blade across their throats . xxmaj mike and his posse head for the beach to gulp booze , play volleyball & bicker until the scarecrow arrives to end their little xxunk . xxmaj sam 's substitute brother xxunk xxmaj xxunk supposed to look out for him , but decides to sleep with new love - interest xxunk xxmaj xxunk . xxmaj so when he receives a cell - phone message from xxmaj mike concerning how they left xxmaj sam hanging on the cross while they were off at the beach taking in the sun and sand , xxmaj jack is frenzied with fear . xxmaj beth 's estranged father is a doctor and he agrees to see after xxmaj sam 's condition after they cut the nearly dead young man down taking him to emergency hospital . xxmaj returning to the beach to confront xxmaj mike because of his xxunk .. not to mention xxmaj jack 's promise to coach xxmaj ramsey , played by xxup ufc fighter xxmaj ken xxmaj shamrock , regarding no hazing ) , xxmaj jack and xxmaj beth will face the same straw - stuffed assassin that is bumping off the others . xxmaj coach xxmaj ramsey , who was part of a past hazing incident that went awry causing killer - scarecrow - mischief , has to confront some demons himself as he informs the survivors of the group about what they are up against . \n",
              " \n",
              "  xxmaj babes , boobs , and blood .. this flick follows the basic slasher guidelines . xxmaj yet , this flick also carries the typical slasher traits of corny characters , acting , dialogue and overall plot . xxmaj the flick shows signs of it 's low budget particularly in the violence as most of the real action takes place off - screen instead of showing it happening up , close & personal . xxmaj what appears on screen is mostly the aftermath of the killer 's vengeance : one fellow holding his guts , another with a xxunk up the group 's volleyball net ) plunged through his chest , blood spatter after a woman gets hit over the head presumably with a large rock , one chick laying dead after the scarecrow hit her with the xxup suv , etc . xxmaj there is also some dubbing problems where it 's clear the sounds of their voices often do n't match the movements of their lips .. particularly the unintentionally hilarious sequence where xxunk xxmaj parker ) , wannabe rock star , is singing to his buddies a horrible song they all seem quite impressed with .\n",
              "y: CategoryList\n",
              "neg,neg,neg,neg,neg\n",
              "Path: /root/.fastai/data/imdb;\n",
              "\n",
              "Test: None, model=SequentialRNN(\n",
              "  (0): MultiBatchEncoder(\n",
              "    (module): AWD_LSTM(\n",
              "      (encoder): Embedding(60000, 400, padding_idx=1)\n",
              "      (encoder_dp): EmbeddingDropout(\n",
              "        (emb): Embedding(60000, 400, padding_idx=1)\n",
              "      )\n",
              "      (rnns): ModuleList(\n",
              "        (0): WeightDropout(\n",
              "          (module): LSTM(400, 1152, batch_first=True)\n",
              "        )\n",
              "        (1): WeightDropout(\n",
              "          (module): LSTM(1152, 1152, batch_first=True)\n",
              "        )\n",
              "        (2): WeightDropout(\n",
              "          (module): LSTM(1152, 400, batch_first=True)\n",
              "        )\n",
              "      )\n",
              "      (input_dp): RNNDropout()\n",
              "      (hidden_dps): ModuleList(\n",
              "        (0): RNNDropout()\n",
              "        (1): RNNDropout()\n",
              "        (2): RNNDropout()\n",
              "      )\n",
              "    )\n",
              "  )\n",
              "  (1): PoolingLinearClassifier(\n",
              "    (layers): Sequential(\n",
              "      (0): BatchNorm1d(1200, eps=1e-05, momentum=0.1, affine=True, track_running_stats=True)\n",
              "      (1): Dropout(p=0.2, inplace=False)\n",
              "      (2): Linear(in_features=1200, out_features=50, bias=True)\n",
              "      (3): ReLU(inplace=True)\n",
              "      (4): BatchNorm1d(50, eps=1e-05, momentum=0.1, affine=True, track_running_stats=True)\n",
              "      (5): Dropout(p=0.1, inplace=False)\n",
              "      (6): Linear(in_features=50, out_features=2, bias=True)\n",
              "    )\n",
              "  )\n",
              "), opt_func=functools.partial(<class 'torch.optim.adam.Adam'>, betas=(0.9, 0.99)), loss_func=FlattenedLoss of CrossEntropyLoss(), metrics=[<function accuracy at 0x7f3e97bfe268>], true_wd=True, bn_wd=True, wd=0.01, train_bn=True, path=PosixPath('/root/.fastai/data/imdb'), model_dir='models', callback_fns=[functools.partial(<class 'fastai.basic_train.Recorder'>, add_time=True, silent=False)], callbacks=[RNNTrainer\n",
              "learn: RNNLearner(data=TextClasDataBunch;\n",
              "\n",
              "Train: LabelList (25000 items)\n",
              "x: TextList\n",
              "xxbos xxmaj this sleek , sexy movie is a must - see . xxmaj only upon multiple viewings can one truly understand the uniqueness of this film . xxmaj personally i enjoy the narrator for his intelligent , no subject left untouched , style of narration . xxmaj the introduction grips you right away , and holds you at the edge of your seat throughout the film . xxmaj he provides wonderful insight into the world of the xxunk and allows the audience to really ' connect ' with internal horror this film exhibits . xxmaj the script itself holds the movie together wonderfully . xxmaj not only for kids , but the elderly alike will gain a higher understanding of the xxunk and the modern grasp that they have on the sexual experience . xxmaj ahead of its time and groundbreaking in cinematography , it surely defines the word ' masterpiece ' .,xxbos i have seen bad films but this took the xxunk xxmaj made no sense , and all the characters do is swear every couple of seconds , oh and i think one has a low sperm count . xxmaj its that good . a welshman plays a xxunk cockney . a posh english bloke plays a foul mouthed unlovable rogue of a paddy , and some lesser lights play dim tarts . \n",
              " \n",
              "  xxmaj and there are some xxmaj russian gangsters . xxmaj oh yes some one has a gun and maybe talks rubbish whilst high on drugs . \n",
              " \n",
              "  xxmaj avoid this film like the plague .,xxbos xxmaj an actor asks , \" xxmaj what 's my motivation ? , \" to understand his or her character . xxmaj after viewing this this \" docudrama , \" this vague and haphazard farce , a viewer wonders what anyone 's motivation was . \n",
              " \n",
              "  xxmaj this inept offspring of daytime xxup t.v. ( the xxmaj oprah show ) missed by a mile a great opportunity to explore weighty issues . \n",
              " \n",
              "  xxmaj its characters were all shallow and superficial , its story line far less socially redeeming than a \" xxmaj simpsons \" episode . xxmaj it gratuitously portrayed investigating police as unprofessional and incompetent . xxmaj it failed to offer why the court might treat the main character , a female child molester , so differently than it would have a male perp . \n",
              " \n",
              "  xxmaj why did this unrepentant woman begin \" grooming \" her second grade student , beginning an affair with him when he returned to her sixth grade class ? xxmaj why did the boy 's mother testify in her behalf ? xxmaj the simple answer is overwhelming narcissism , plus generational rationalization and greed . xxmaj the movie gave no hint of that . \n",
              " \n",
              "  xxmaj why was n't the viewer informed that the victim 's mother sold interview rights to print and television tabloids , parading her adolescent son on \" xxmaj the xxmaj today xxmaj show \" ? xxmaj that xxmaj mary xxmaj kay 's lawyer cashed in , she herself appealing a \" xxmaj son of xxmaj sam \" statute so she could benefit from her crime by selling her story to the highest bidder ? \n",
              " \n",
              "  xxmaj why was n't it explained that letourneau 's father was a former right wing xxmaj republican congressman , the 1972 xxmaj american xxmaj independent xxmaj presidential candidate , the xxmaj john xxmaj birch xxmaj society xxmaj president ? xxmaj in 1983 xxmaj john xxmaj schmitz 's political career ended when he was found to have had children by his own community college student , exposed only when that mistress sexually mutilated their infant son ? xxmaj yet xxmaj letourneau 's dad had removed his many kids from \" too liberal \" xxmaj catholic schools , fighting to keep all schoolchildren from receiving any sex education ? \n",
              " \n",
              "  a month after her xxunk release , again pregnant with the now 14-year - old 's second daughter , xxmaj mary xxmaj kay received 7 1 / 2 years in prison for numerous probation violations . a prophetic editorial regarding the sad affair then appeared in the xxmaj seattle xxmaj times : \" xxmaj at the end of two wretched hours , letourneau was led off to jail , and this salacious melange of made - for - xxup tv xxunk was over , until casting begins . \" \n",
              " \n",
              "  xxmaj sure enough , 18 months later , filming of this travesty was underway .,xxbos xxmaj so , i 'm wondering while watching this film , did the producers of this movie get to save money on xxmaj sandra xxmaj bullock 's wardrobe by dragging out her \" before \" clothes from xxmaj miss xxmaj congeniality ? xxmaj did xxmaj ms. xxmaj bullock also get to sleepwalk through the role by channeling the \" before \" xxmaj gracie xxmaj hart ? xxmaj as many reviewers have noted before , the film is very formulaic . xxmaj add to that the deja vu viewer experiences with the character of xxmaj cassie xxmaj xxunk as a somewhat darker xxmaj gracie xxmaj hart with more back story and it rapidly become a snooze fest . \n",
              " \n",
              "  xxmaj the two bad boy serial killers have been done before ( and better ) in other films . xxmaj as has the \" good guy partner trying to protect his partner despite the evidence \" character been seen before . xxmaj in fact none of the characters in the film ever get beyond two dimensions or try to be anything but trite stereotypes . \n",
              " \n",
              "  xxmaj one last peeve - using the term serial killer is false advertising . xxmaj murdering one person - even if it 's a premeditated murder - does not make you a serial killer . xxmaj you may have the potential to become a serial killer but you are not a serial killer or even a spree killer .,xxbos ok . for starters , taxi driver is amazing . this , this is not taxi driver or amazing . what it is is bad . but i thought it was bad funny , which means that it did have some redeeming qualities . like the dialogue ... wow . there was more or less no plot , the characters were all stupid , and the movie was preachy . there were some places were i thought the movie would dive into taxi driver type violence , which would have hit the message at the end of the movie on the head much harder . i ca n't even believe that there are like 20 other people who have seen this movie . yeah , it 's worth watching if you are real bored and you want to reaffirm the fact that anyone can make a movie , or at least can try to .\n",
              "y: CategoryList\n",
              "neg,neg,neg,neg,neg\n",
              "Path: /root/.fastai/data/imdb;\n",
              "\n",
              "Valid: LabelList (25000 items)\n",
              "x: TextList\n",
              "xxbos xxmaj first time i ever felt i needed to write a review . \n",
              " \n",
              "  i have seen thousands of movies in my life and i like a wide range of movies . i am reasonably opened minded , and can easily say i enjoyed a movie while still saying \" yeah it was not good but i enjoyed it \" . i can appreciate the mastery of great movies like xxmaj the xxmaj shaw shank redemption , the godfather , and xxmaj american history xxup x. i can like good movies in a genre like horror , or comedy , even if the movie might not be that great . i can even enjoy a bad movie that just happens to entertain me ( xxmaj bloodsport ) . i also will try to rate movie fairly even if i did not like it . xxmaj city lights by xxmaj charlie xxmaj chapin was not a movie i enjoyed , but i can appreciate the acting and story lines for the time . \n",
              " \n",
              "  i think some people when they go on this site instead of randomly click a rating , should take a few ideas into account . xxmaj try to rate the movie based on how good it actually was . xxmaj do not let your personal bias affect the rating . xxmaj also look at other moves you rated and compare the movie you are going to rate . \n",
              " \n",
              "  xxmaj this \" movie \" was the worst piece of trash i have ever seen . 2 hours of my life where just stolen . xxmaj the acting was awful , across the board . xxmaj the scenes where choppy at best . xxmaj however the real disgrace was the story . xxmaj the first 20 minutes we actually had a story that tried to make sense and take the viewer from point a to xxup b. xxmaj however after that it was a nightmare . xxmaj they kept trying to add new elements but nothing was every explained . xxmaj nothing really ever made sense , was steward dead , is he alive , did he hit by lighting , was it really lighting , was it aliens , is he an alien , etc . xxmaj the ending tied nothing together and really did not answer any questions . xxmaj the only positive was nobody cared we where just happy to leave the theater . \n",
              " \n",
              "  6.5 / 10 ? ? ? xxmaj what is wrong with some of you ? i will admit that the 8 of us where so mad about seeing this , we did think \" what would make it better ? \" , and we decide to tell a few of our friends that this movie was good so they would have to suffer and see this movie . xxmaj what can i say misery loves company . xxmaj that is really the only reason i can see for a 6.5 rating . \n",
              " \n",
              "  xxmaj do not waste your life !,xxbos i got this movie from the library , and saw it had a lot of actors i like in xxunk xxmaj cleese , xxmaj ian xxmaj holm , xxmaj ralph xxmaj richardson , etc ) , so i got it and watched it . i expected xxmaj cleese to have a large role since he had first billing , i was surprised to find out that he had about five minutes of screen time , along with everyone else i liked . xxmaj this movie is amazingly pointless , the characters are nobodies , the plot is non - existent , and the ending is one of the worst endings i have ever seen . xxmaj there were a few funny parts , but that 's about it . xxmaj stay away from this movie if you want to prevent going \" xxmaj what ? \" and \" xxmaj huh ? \" , a lot . xxmaj and if you do n't want to waste your time . xxmaj ignore the people who say this is a very funny movie ... it is n't . xxmaj just stay away from it at all costs ... please .,xxbos xxmaj first , xxup ifc runs xxmaj town and xxmaj country , and now this . xxmaj the difference between that stinker and this xxmaj pink xxmaj panther rip - off is that xxmaj town and xxmaj country was watchable . xxmaj this is n't . \n",
              " \n",
              "  i can only surmise that the cast signed up for this so they could goof off in xxmaj europe on somebody else 's dime . xxmaj belushi is especially irritating . xxmaj his scene with xxmaj candy ( doing a z - grade xxmaj dom deluise ) was torture . xxmaj speaking of torture , five minutes of the talentless xxmaj shepherd , and i bet the prisoners at xxmaj gitmo would crack like walnuts ! \n",
              " \n",
              "  xxmaj the real \" xxmaj crime \" ( besides this being green - lighted ) is xxmaj shepherd 's character : a mousy wife who takes a xxmaj monte xxmaj carlo casino for a half - million bucks ! xxmaj if you buy that , i have some oceanfront property in xxmaj arizona you might be interested in !,xxbos i generally loved the xxmaj carry on movies but this one is actually pretty awful . xxmaj there are very few laughs because the whole thing is so forced . xxmaj there is plenty of talent on the screen and some come off better than others . xxmaj june xxmaj whitfield , xxmaj kenneth xxmaj williams , xxmaj xxunk xxmaj jaques and xxmaj peter xxmaj butterworth are fine but xxmaj barbara xxmaj windsor looks tired and xxmaj sid xxmaj james is just tacky . xxmaj joan xxmaj sims comes off well but in the case of the usually wonderful xxmaj charles xxmaj hawtrey its just plain sad . xxmaj when you think of the sad end to his career the movie is almost too depressing to watch . xxmaj the homophobia of the movie is nasty and its a very unpleasant experience . xxmaj the set looks cheap and unlike other movies in the series the movie is very clearly set in xxmaj england . xxmaj the sea side looks cold and there is little attempt to create any illusions here . xxmaj it looks like a cheap production . xxmaj you will be surprised at how miserable you become watching this especially if you loved the series .,xxbos xxmaj jerk xxunk xxunk xxmaj zelina playing this college frat man as one major bastard you want to see die right xxunk his college cronies leave xxunk diabetic xxunk xxmaj xxunk on a wooden cross along with this scarecrow which is a legendary ghost story . xxmaj they get xxunk at xxmaj sam who essentially goes into shock and aims a swinging punch at xxmaj mike that lands across his girlfriend xxunk xxmaj xxunk so leaving the poor guy hanging is his punishment . xxmaj somehow , xxmaj sam 's soul \" emerges \" with the inanimate scarecrow who comes from the cross to destroy everyone who left the poor guy there to rot . xxmaj mike and the gang send the uninitiated dorks back to bring xxmaj sam down but they are the first to receive a swinging blade across their throats . xxmaj mike and his posse head for the beach to gulp booze , play volleyball & bicker until the scarecrow arrives to end their little xxunk . xxmaj sam 's substitute brother xxunk xxmaj xxunk supposed to look out for him , but decides to sleep with new love - interest xxunk xxmaj xxunk . xxmaj so when he receives a cell - phone message from xxmaj mike concerning how they left xxmaj sam hanging on the cross while they were off at the beach taking in the sun and sand , xxmaj jack is frenzied with fear . xxmaj beth 's estranged father is a doctor and he agrees to see after xxmaj sam 's condition after they cut the nearly dead young man down taking him to emergency hospital . xxmaj returning to the beach to confront xxmaj mike because of his xxunk .. not to mention xxmaj jack 's promise to coach xxmaj ramsey , played by xxup ufc fighter xxmaj ken xxmaj shamrock , regarding no hazing ) , xxmaj jack and xxmaj beth will face the same straw - stuffed assassin that is bumping off the others . xxmaj coach xxmaj ramsey , who was part of a past hazing incident that went awry causing killer - scarecrow - mischief , has to confront some demons himself as he informs the survivors of the group about what they are up against . \n",
              " \n",
              "  xxmaj babes , boobs , and blood .. this flick follows the basic slasher guidelines . xxmaj yet , this flick also carries the typical slasher traits of corny characters , acting , dialogue and overall plot . xxmaj the flick shows signs of it 's low budget particularly in the violence as most of the real action takes place off - screen instead of showing it happening up , close & personal . xxmaj what appears on screen is mostly the aftermath of the killer 's vengeance : one fellow holding his guts , another with a xxunk up the group 's volleyball net ) plunged through his chest , blood spatter after a woman gets hit over the head presumably with a large rock , one chick laying dead after the scarecrow hit her with the xxup suv , etc . xxmaj there is also some dubbing problems where it 's clear the sounds of their voices often do n't match the movements of their lips .. particularly the unintentionally hilarious sequence where xxunk xxmaj parker ) , wannabe rock star , is singing to his buddies a horrible song they all seem quite impressed with .\n",
              "y: CategoryList\n",
              "neg,neg,neg,neg,neg\n",
              "Path: /root/.fastai/data/imdb;\n",
              "\n",
              "Test: None, model=SequentialRNN(\n",
              "  (0): MultiBatchEncoder(\n",
              "    (module): AWD_LSTM(\n",
              "      (encoder): Embedding(60000, 400, padding_idx=1)\n",
              "      (encoder_dp): EmbeddingDropout(\n",
              "        (emb): Embedding(60000, 400, padding_idx=1)\n",
              "      )\n",
              "      (rnns): ModuleList(\n",
              "        (0): WeightDropout(\n",
              "          (module): LSTM(400, 1152, batch_first=True)\n",
              "        )\n",
              "        (1): WeightDropout(\n",
              "          (module): LSTM(1152, 1152, batch_first=True)\n",
              "        )\n",
              "        (2): WeightDropout(\n",
              "          (module): LSTM(1152, 400, batch_first=True)\n",
              "        )\n",
              "      )\n",
              "      (input_dp): RNNDropout()\n",
              "      (hidden_dps): ModuleList(\n",
              "        (0): RNNDropout()\n",
              "        (1): RNNDropout()\n",
              "        (2): RNNDropout()\n",
              "      )\n",
              "    )\n",
              "  )\n",
              "  (1): PoolingLinearClassifier(\n",
              "    (layers): Sequential(\n",
              "      (0): BatchNorm1d(1200, eps=1e-05, momentum=0.1, affine=True, track_running_stats=True)\n",
              "      (1): Dropout(p=0.2, inplace=False)\n",
              "      (2): Linear(in_features=1200, out_features=50, bias=True)\n",
              "      (3): ReLU(inplace=True)\n",
              "      (4): BatchNorm1d(50, eps=1e-05, momentum=0.1, affine=True, track_running_stats=True)\n",
              "      (5): Dropout(p=0.1, inplace=False)\n",
              "      (6): Linear(in_features=50, out_features=2, bias=True)\n",
              "    )\n",
              "  )\n",
              "), opt_func=functools.partial(<class 'torch.optim.adam.Adam'>, betas=(0.9, 0.99)), loss_func=FlattenedLoss of CrossEntropyLoss(), metrics=[<function accuracy at 0x7f3e97bfe268>], true_wd=True, bn_wd=True, wd=0.01, train_bn=True, path=PosixPath('/root/.fastai/data/imdb'), model_dir='models', callback_fns=[functools.partial(<class 'fastai.basic_train.Recorder'>, add_time=True, silent=False)], callbacks=[...], layer_groups=[Sequential(\n",
              "  (0): Embedding(60000, 400, padding_idx=1)\n",
              "  (1): EmbeddingDropout(\n",
              "    (emb): Embedding(60000, 400, padding_idx=1)\n",
              "  )\n",
              "), Sequential(\n",
              "  (0): WeightDropout(\n",
              "    (module): LSTM(400, 1152, batch_first=True)\n",
              "  )\n",
              "  (1): RNNDropout()\n",
              "), Sequential(\n",
              "  (0): WeightDropout(\n",
              "    (module): LSTM(1152, 1152, batch_first=True)\n",
              "  )\n",
              "  (1): RNNDropout()\n",
              "), Sequential(\n",
              "  (0): WeightDropout(\n",
              "    (module): LSTM(1152, 400, batch_first=True)\n",
              "  )\n",
              "  (1): RNNDropout()\n",
              "), Sequential(\n",
              "  (0): PoolingLinearClassifier(\n",
              "    (layers): Sequential(\n",
              "      (0): BatchNorm1d(1200, eps=1e-05, momentum=0.1, affine=True, track_running_stats=True)\n",
              "      (1): Dropout(p=0.2, inplace=False)\n",
              "      (2): Linear(in_features=1200, out_features=50, bias=True)\n",
              "      (3): ReLU(inplace=True)\n",
              "      (4): BatchNorm1d(50, eps=1e-05, momentum=0.1, affine=True, track_running_stats=True)\n",
              "      (5): Dropout(p=0.1, inplace=False)\n",
              "      (6): Linear(in_features=50, out_features=2, bias=True)\n",
              "    )\n",
              "  )\n",
              ")], add_time=True, silent=False)\n",
              "alpha: 2.0\n",
              "beta: 1.0], layer_groups=[Sequential(\n",
              "  (0): Embedding(60000, 400, padding_idx=1)\n",
              "  (1): EmbeddingDropout(\n",
              "    (emb): Embedding(60000, 400, padding_idx=1)\n",
              "  )\n",
              "), Sequential(\n",
              "  (0): WeightDropout(\n",
              "    (module): LSTM(400, 1152, batch_first=True)\n",
              "  )\n",
              "  (1): RNNDropout()\n",
              "), Sequential(\n",
              "  (0): WeightDropout(\n",
              "    (module): LSTM(1152, 1152, batch_first=True)\n",
              "  )\n",
              "  (1): RNNDropout()\n",
              "), Sequential(\n",
              "  (0): WeightDropout(\n",
              "    (module): LSTM(1152, 400, batch_first=True)\n",
              "  )\n",
              "  (1): RNNDropout()\n",
              "), Sequential(\n",
              "  (0): PoolingLinearClassifier(\n",
              "    (layers): Sequential(\n",
              "      (0): BatchNorm1d(1200, eps=1e-05, momentum=0.1, affine=True, track_running_stats=True)\n",
              "      (1): Dropout(p=0.2, inplace=False)\n",
              "      (2): Linear(in_features=1200, out_features=50, bias=True)\n",
              "      (3): ReLU(inplace=True)\n",
              "      (4): BatchNorm1d(50, eps=1e-05, momentum=0.1, affine=True, track_running_stats=True)\n",
              "      (5): Dropout(p=0.1, inplace=False)\n",
              "      (6): Linear(in_features=50, out_features=2, bias=True)\n",
              "    )\n",
              "  )\n",
              ")], add_time=True, silent=False)"
            ]
          },
          "metadata": {
            "tags": []
          },
          "execution_count": 50
        }
      ]
    },
    {
      "cell_type": "code",
      "metadata": {
        "id": "uSLrI8SVoKva",
        "colab_type": "code",
        "colab": {
          "base_uri": "https://localhost:8080/",
          "height": 112
        },
        "outputId": "d4ec34d8-aa7c-4c1f-a37f-59e4c5c8ff22"
      },
      "source": [
        "learn.lr_find()"
      ],
      "execution_count": null,
      "outputs": [
        {
          "output_type": "display_data",
          "data": {
            "text/html": [
              "\n",
              "    <div>\n",
              "        <style>\n",
              "            /* Turns off some styling */\n",
              "            progress {\n",
              "                /* gets rid of default border in Firefox and Opera. */\n",
              "                border: none;\n",
              "                /* Needs to be in here for Safari polyfill so background images work as expected. */\n",
              "                background-size: auto;\n",
              "            }\n",
              "            .progress-bar-interrupted, .progress-bar-interrupted::-webkit-progress-bar {\n",
              "                background: #F44336;\n",
              "            }\n",
              "        </style>\n",
              "      <progress value='0' class='' max='1', style='width:300px; height:20px; vertical-align: middle;'></progress>\n",
              "      0.00% [0/1 00:00<00:00]\n",
              "    </div>\n",
              "    \n",
              "<table border=\"1\" class=\"dataframe\">\n",
              "  <thead>\n",
              "    <tr style=\"text-align: left;\">\n",
              "      <th>epoch</th>\n",
              "      <th>train_loss</th>\n",
              "      <th>valid_loss</th>\n",
              "      <th>accuracy</th>\n",
              "      <th>time</th>\n",
              "    </tr>\n",
              "  </thead>\n",
              "  <tbody>\n",
              "  </tbody>\n",
              "</table><p>\n",
              "\n",
              "    <div>\n",
              "        <style>\n",
              "            /* Turns off some styling */\n",
              "            progress {\n",
              "                /* gets rid of default border in Firefox and Opera. */\n",
              "                border: none;\n",
              "                /* Needs to be in here for Safari polyfill so background images work as expected. */\n",
              "                background-size: auto;\n",
              "            }\n",
              "            .progress-bar-interrupted, .progress-bar-interrupted::-webkit-progress-bar {\n",
              "                background: #F44336;\n",
              "            }\n",
              "        </style>\n",
              "      <progress value='91' class='' max='520', style='width:300px; height:20px; vertical-align: middle;'></progress>\n",
              "      17.50% [91/520 00:32<02:32 1.1232]\n",
              "    </div>\n",
              "    "
            ],
            "text/plain": [
              "<IPython.core.display.HTML object>"
            ]
          },
          "metadata": {
            "tags": []
          }
        },
        {
          "output_type": "stream",
          "text": [
            "LR Finder is complete, type {learner_name}.recorder.plot() to see the graph.\n"
          ],
          "name": "stdout"
        }
      ]
    },
    {
      "cell_type": "code",
      "metadata": {
        "id": "wsGbeqeCoYXw",
        "colab_type": "code",
        "colab": {
          "base_uri": "https://localhost:8080/",
          "height": 279
        },
        "outputId": "a73b2192-21de-46f4-a19a-0c245344f70d"
      },
      "source": [
        "learn.recorder.plot()"
      ],
      "execution_count": null,
      "outputs": [
        {
          "output_type": "display_data",
          "data": {
            "image/png": "[encoded data removed]",
            "text/plain": [
              "<Figure size 432x288 with 1 Axes>"
            ]
          },
          "metadata": {
            "tags": []
          }
        }
      ]
    },
    {
      "cell_type": "code",
      "metadata": {
        "id": "kjiGCyUaodhq",
        "colab_type": "code",
        "colab": {
          "base_uri": "https://localhost:8080/",
          "height": 79
        },
        "outputId": "27c33ba5-b7b9-4b1a-979d-10df3562dc3c"
      },
      "source": [
        "learn.fit_one_cycle(1, 2e-2,moms=(0.8,0.7))"
      ],
      "execution_count": null,
      "outputs": [
        {
          "output_type": "display_data",
          "data": {
            "text/html": [
              "<table border=\"1\" class=\"dataframe\">\n",
              "  <thead>\n",
              "    <tr style=\"text-align: left;\">\n",
              "      <th>epoch</th>\n",
              "      <th>train_loss</th>\n",
              "      <th>valid_loss</th>\n",
              "      <th>accuracy</th>\n",
              "      <th>time</th>\n",
              "    </tr>\n",
              "  </thead>\n",
              "  <tbody>\n",
              "    <tr>\n",
              "      <td>0</td>\n",
              "      <td>0.266510</td>\n",
              "      <td>0.203926</td>\n",
              "      <td>0.918040</td>\n",
              "      <td>04:56</td>\n",
              "    </tr>\n",
              "  </tbody>\n",
              "</table>"
            ],
            "text/plain": [
              "<IPython.core.display.HTML object>"
            ]
          },
          "metadata": {
            "tags": []
          }
        }
      ]
    },
    {
      "cell_type": "code",
      "metadata": {
        "id": "A00RreweoqtM",
        "colab_type": "code",
        "colab": {}
      },
      "source": [
        "learn.save('first')\n",
        "learn.load('first');"
      ],
      "execution_count": null,
      "outputs": []
    },
    {
      "cell_type": "code",
      "metadata": {
        "id": "VhaJgB9Eo7-M",
        "colab_type": "code",
        "colab": {
          "base_uri": "https://localhost:8080/",
          "height": 79
        },
        "outputId": "2f726ebe-1929-4b07-b245-5ed1dae31f2a"
      },
      "source": [
        "learn.freeze_to(-2)\n",
        "learn.fit_one_cycle(1,slice(5e-3/(2.6**4),5e-3), moms=(0.8,0.7))"
      ],
      "execution_count": null,
      "outputs": [
        {
          "output_type": "display_data",
          "data": {
            "text/html": [
              "<table border=\"1\" class=\"dataframe\">\n",
              "  <thead>\n",
              "    <tr style=\"text-align: left;\">\n",
              "      <th>epoch</th>\n",
              "      <th>train_loss</th>\n",
              "      <th>valid_loss</th>\n",
              "      <th>accuracy</th>\n",
              "      <th>time</th>\n",
              "    </tr>\n",
              "  </thead>\n",
              "  <tbody>\n",
              "    <tr>\n",
              "      <td>0</td>\n",
              "      <td>0.243289</td>\n",
              "      <td>0.188978</td>\n",
              "      <td>0.928320</td>\n",
              "      <td>05:11</td>\n",
              "    </tr>\n",
              "  </tbody>\n",
              "</table>"
            ],
            "text/plain": [
              "<IPython.core.display.HTML object>"
            ]
          },
          "metadata": {
            "tags": []
          }
        }
      ]
    },
    {
      "cell_type": "code",
      "metadata": {
        "id": "AFdvOOchpN0d",
        "colab_type": "code",
        "colab": {}
      },
      "source": [
        "learn.save('second');\n",
        "learn.load('second');"
      ],
      "execution_count": null,
      "outputs": []
    },
    {
      "cell_type": "code",
      "metadata": {
        "id": "14YsDXZzpQnB",
        "colab_type": "code",
        "colab": {
          "base_uri": "https://localhost:8080/",
          "height": 110
        },
        "outputId": "a00211f5-8d4e-46d1-f526-06ae9cabd866"
      },
      "source": [
        "learn.unfreeze()\n",
        "learn.fit_one_cycle(2, slice(1e-3/(2.6**4),1e-3),moms=(0.8,0.7))"
      ],
      "execution_count": null,
      "outputs": [
        {
          "output_type": "display_data",
          "data": {
            "text/html": [
              "<table border=\"1\" class=\"dataframe\">\n",
              "  <thead>\n",
              "    <tr style=\"text-align: left;\">\n",
              "      <th>epoch</th>\n",
              "      <th>train_loss</th>\n",
              "      <th>valid_loss</th>\n",
              "      <th>accuracy</th>\n",
              "      <th>time</th>\n",
              "    </tr>\n",
              "  </thead>\n",
              "  <tbody>\n",
              "    <tr>\n",
              "      <td>0</td>\n",
              "      <td>0.228387</td>\n",
              "      <td>0.167952</td>\n",
              "      <td>0.936160</td>\n",
              "      <td>09:40</td>\n",
              "    </tr>\n",
              "    <tr>\n",
              "      <td>1</td>\n",
              "      <td>0.174055</td>\n",
              "      <td>0.162770</td>\n",
              "      <td>0.937640</td>\n",
              "      <td>08:40</td>\n",
              "    </tr>\n",
              "  </tbody>\n",
              "</table>"
            ],
            "text/plain": [
              "<IPython.core.display.HTML object>"
            ]
          },
          "metadata": {
            "tags": []
          }
        }
      ]
    },
    {
      "cell_type": "code",
      "metadata": {
        "id": "rKAp4zDYpfy3",
        "colab_type": "code",
        "colab": {
          "base_uri": "https://localhost:8080/",
          "height": 34
        },
        "outputId": "33dcd9bb-3689-4f2f-a497-d79e79e44bf3"
      },
      "source": [
        "learn.predict(\"I really love this movie, it is awesome\")"
      ],
      "execution_count": null,
      "outputs": [
        {
          "output_type": "execute_result",
          "data": {
            "text/plain": [
              "(Category pos, tensor(1), tensor([1.0353e-04, 9.9990e-01]))"
            ]
          },
          "metadata": {
            "tags": []
          },
          "execution_count": 59
        }
      ]
    },
    {
      "cell_type": "code",
      "metadata": {
        "id": "We9f3tiHrBLE",
        "colab_type": "code",
        "colab": {
          "base_uri": "https://localhost:8080/",
          "height": 34
        },
        "outputId": "33a49d9d-af5e-4f0e-caaf-b13b2fac7a3c"
      },
      "source": [
        "learn.predict('I would love this movie but I felt the actor was lousy')"
      ],
      "execution_count": null,
      "outputs": [
        {
          "output_type": "execute_result",
          "data": {
            "text/plain": [
              "(Category neg, tensor(0), tensor([0.9600, 0.0400]))"
            ]
          },
          "metadata": {
            "tags": []
          },
          "execution_count": 62
        }
      ]
    },
    {
      "cell_type": "markdown",
      "metadata": {
        "id": "uqXSlp45R2F-",
        "colab_type": "text"
      },
      "source": [
        "![alt text](https://drive.google.com/uc?export=view&id=1yKNhva7Roi-G3mkG9jnLlU_y1G3Bc3Ix)\n"
      ]
    }
  ]
}