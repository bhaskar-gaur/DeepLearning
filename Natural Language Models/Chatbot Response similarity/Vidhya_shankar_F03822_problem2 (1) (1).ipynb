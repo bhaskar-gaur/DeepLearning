{
 "cells": [
  {
   "cell_type": "code",
   "execution_count": 2,
   "metadata": {},
   "outputs": [],
   "source": [
    "%reload_ext autoreload\n",
    "%autoreload 2\n",
    "%matplotlib inline"
   ]
  },
  {
   "cell_type": "code",
   "execution_count": 3,
   "metadata": {},
   "outputs": [],
   "source": [
    "from fastai.text import *"
   ]
  },
  {
   "cell_type": "code",
   "execution_count": 4,
   "metadata": {},
   "outputs": [
    {
     "data": {
      "text/plain": [
       "'/home/ubuntu/share/SET II'"
      ]
     },
     "execution_count": 4,
     "metadata": {},
     "output_type": "execute_result"
    }
   ],
   "source": [
    "import os\n",
    "os.getcwd()\n",
    "os.listdir()\n",
    "path = r\"/home/ubuntu/share/SET II/\"\n",
    "os.chdir(path)\n",
    "os.getcwd()"
   ]
  },
  {
   "cell_type": "markdown",
   "metadata": {},
   "source": [
    "### Download Test and Train Dataset"
   ]
  },
  {
   "cell_type": "code",
   "execution_count": 5,
   "metadata": {},
   "outputs": [],
   "source": [
    "df_train = pd.read_csv('train_set.csv')\n",
    "df_test = pd.read_csv('test_set.csv')"
   ]
  },
  {
   "cell_type": "code",
   "execution_count": 29,
   "metadata": {},
   "outputs": [
    {
     "data": {
      "text/html": [
       "<div>\n",
       "<style scoped>\n",
       "    .dataframe tbody tr th:only-of-type {\n",
       "        vertical-align: middle;\n",
       "    }\n",
       "\n",
       "    .dataframe tbody tr th {\n",
       "        vertical-align: top;\n",
       "    }\n",
       "\n",
       "    .dataframe thead th {\n",
       "        text-align: right;\n",
       "    }\n",
       "</style>\n",
       "<table border=\"1\" class=\"dataframe\">\n",
       "  <thead>\n",
       "    <tr style=\"text-align: right;\">\n",
       "      <th></th>\n",
       "      <th>pid</th>\n",
       "      <th>sentence1</th>\n",
       "      <th>sentence2</th>\n",
       "    </tr>\n",
       "  </thead>\n",
       "  <tbody>\n",
       "    <tr>\n",
       "      <td>0</td>\n",
       "      <td>42827</td>\n",
       "      <td>How will I be intimated if I win cricket</td>\n",
       "      <td>How will I be intimated if I win</td>\n",
       "    </tr>\n",
       "    <tr>\n",
       "      <td>1</td>\n",
       "      <td>40952</td>\n",
       "      <td>When will I get cadhback</td>\n",
       "      <td>When i get refund</td>\n",
       "    </tr>\n",
       "    <tr>\n",
       "      <td>2</td>\n",
       "      <td>44755</td>\n",
       "      <td>share nearby atm</td>\n",
       "      <td>closest atms</td>\n",
       "    </tr>\n",
       "    <tr>\n",
       "      <td>3</td>\n",
       "      <td>18692</td>\n",
       "      <td>What does Repairs under warranty cover?</td>\n",
       "      <td>maintenance under warranty</td>\n",
       "    </tr>\n",
       "    <tr>\n",
       "      <td>4</td>\n",
       "      <td>75416</td>\n",
       "      <td>Who is liable to pay the TDS on property?</td>\n",
       "      <td>how to pay tds on property</td>\n",
       "    </tr>\n",
       "  </tbody>\n",
       "</table>\n",
       "</div>"
      ],
      "text/plain": [
       "     pid                                  sentence1  \\\n",
       "0  42827   How will I be intimated if I win cricket   \n",
       "1  40952                   When will I get cadhback   \n",
       "2  44755                           share nearby atm   \n",
       "3  18692    What does Repairs under warranty cover?   \n",
       "4  75416  Who is liable to pay the TDS on property?   \n",
       "\n",
       "                          sentence2  \n",
       "0  How will I be intimated if I win  \n",
       "1                 When i get refund  \n",
       "2                      closest atms  \n",
       "3        maintenance under warranty  \n",
       "4        how to pay tds on property  "
      ]
     },
     "execution_count": 29,
     "metadata": {},
     "output_type": "execute_result"
    }
   ],
   "source": [
    "df_test.head()"
   ]
  },
  {
   "cell_type": "code",
   "execution_count": 6,
   "metadata": {},
   "outputs": [
    {
     "data": {
      "text/html": [
       "<div>\n",
       "<style scoped>\n",
       "    .dataframe tbody tr th:only-of-type {\n",
       "        vertical-align: middle;\n",
       "    }\n",
       "\n",
       "    .dataframe tbody tr th {\n",
       "        vertical-align: top;\n",
       "    }\n",
       "\n",
       "    .dataframe thead th {\n",
       "        text-align: right;\n",
       "    }\n",
       "</style>\n",
       "<table border=\"1\" class=\"dataframe\">\n",
       "  <thead>\n",
       "    <tr style=\"text-align: right;\">\n",
       "      <th></th>\n",
       "      <th>pid</th>\n",
       "      <th>sentence1</th>\n",
       "      <th>sentence2</th>\n",
       "      <th>label</th>\n",
       "    </tr>\n",
       "  </thead>\n",
       "  <tbody>\n",
       "    <tr>\n",
       "      <td>0</td>\n",
       "      <td>828</td>\n",
       "      <td>any offer running on flights</td>\n",
       "      <td>Any discounts available for purchase of tickets</td>\n",
       "      <td>0</td>\n",
       "    </tr>\n",
       "    <tr>\n",
       "      <td>1</td>\n",
       "      <td>31092</td>\n",
       "      <td>I want to get connected to your wifi</td>\n",
       "      <td>I want to talk to your next level</td>\n",
       "      <td>0</td>\n",
       "    </tr>\n",
       "    <tr>\n",
       "      <td>2</td>\n",
       "      <td>7192</td>\n",
       "      <td>send jokes daily</td>\n",
       "      <td>Please don't send jokes</td>\n",
       "      <td>0</td>\n",
       "    </tr>\n",
       "    <tr>\n",
       "      <td>3</td>\n",
       "      <td>625</td>\n",
       "      <td>Fanta has too much sugar</td>\n",
       "      <td>quantity of sugar in fanta</td>\n",
       "      <td>1</td>\n",
       "    </tr>\n",
       "    <tr>\n",
       "      <td>4</td>\n",
       "      <td>67935</td>\n",
       "      <td>set reminder birthday</td>\n",
       "      <td>schedule a reminder exercise</td>\n",
       "      <td>0</td>\n",
       "    </tr>\n",
       "  </tbody>\n",
       "</table>\n",
       "</div>"
      ],
      "text/plain": [
       "     pid                             sentence1  \\\n",
       "0    828          any offer running on flights   \n",
       "1  31092  I want to get connected to your wifi   \n",
       "2   7192                      send jokes daily   \n",
       "3    625              Fanta has too much sugar   \n",
       "4  67935                 set reminder birthday   \n",
       "\n",
       "                                         sentence2  label  \n",
       "0  Any discounts available for purchase of tickets      0  \n",
       "1                I want to talk to your next level      0  \n",
       "2                          Please don't send jokes      0  \n",
       "3                       quantity of sugar in fanta      1  \n",
       "4                     schedule a reminder exercise      0  "
      ]
     },
     "execution_count": 6,
     "metadata": {},
     "output_type": "execute_result"
    }
   ],
   "source": [
    "df_train.head()"
   ]
  },
  {
   "cell_type": "markdown",
   "metadata": {},
   "source": [
    "# Logic and Approach\n",
    "\n",
    "Problem statement is that we would like to classify if the 2 texts are similar or not. Since the training data is already labels, this makes it a supervised learning classification problem. \n",
    "\n",
    "Approach:\n",
    "The approach I am using is that I am concating both the sentences and making it as a single sentence. This is captured when we build a datablock using fastai. It concats the sentenses with a marker. \n",
    "\n",
    "Also, Fast ai takes care of the preprocessing like tokenization, numericalization internally when fastai is creating databunch. It may not be required to do tokenization seperately unless we need to perform things outside the perview of prepossing done by fastai\n",
    "\n",
    "#### Model:\n",
    "1. Language Model: learn the language using a pre-trained model(wiki) and add the chat sentences to it and create an updated language model. \n",
    "\n",
    "2. Classificaiton model: build a classification model based on the vocab used in language model"
   ]
  },
  {
   "cell_type": "markdown",
   "metadata": {},
   "source": [
    "### CReate DataBunch for Lanugage Model"
   ]
  },
  {
   "cell_type": "code",
   "execution_count": 12,
   "metadata": {},
   "outputs": [
    {
     "data": {
      "text/html": [
       "<table border=\"1\" class=\"dataframe\">\n",
       "  <thead>\n",
       "    <tr style=\"text-align: right;\">\n",
       "      <th>idx</th>\n",
       "      <th>text</th>\n",
       "    </tr>\n",
       "  </thead>\n",
       "  <tbody>\n",
       "    <tr>\n",
       "      <td>0</td>\n",
       "      <td>xxmaj what are the chances of xxup lpg leakage in the manifold xxmaj installation ? xxbos i want flight rate xxmaj set xxmaj flight xxmaj fare xxmaj alerts xxbos xxmaj price is very high xxmaj your xxmaj prices too high xxbos xxmaj can you remind me to wish anniversary xxmaj hey , can you remind me to wish someone xxmaj happy xxmaj birthday ? . xxbos i 've given you</td>\n",
       "    </tr>\n",
       "    <tr>\n",
       "      <td>1</td>\n",
       "      <td>xxmaj do u have any promocode xxmaj any xxmaj offers on xxmaj movie xxmaj ticket xxbos i want to update nominee provide the documentation details to update nominee who is minor xxbos xxmaj total xxmaj secure plus eligibility criteria for total secure plus xxbos xxmaj bali xxmaj honeymoon xxmaj destinations i 'm interested in xxmaj romance in the xxmaj blues : xxmaj bali xxmaj honeymoon xxmaj package for 6 xxmaj</td>\n",
       "    </tr>\n",
       "    <tr>\n",
       "      <td>2</td>\n",
       "      <td>xxmaj birthday xxmaj reminder i would like to modify my xxmaj birthday reminder xxbos i want to book train ticket xxmaj book train xxbos xxmaj where to log out where to apply the lounge code xxbos xxmaj explain me the key features of xxmaj total xxmaj secure i want to know the key features of xxmaj total xxmaj secure xxbos xxmaj are there any discount or cashback offers any offer</td>\n",
       "    </tr>\n",
       "    <tr>\n",
       "      <td>3</td>\n",
       "      <td>alert xxmaj flight alerts xxbos i want to know about personal loan information xxmaj no personal loan xxbos xxmaj send me the ticket on my mail xxmaj please email the tickets xxbos pay entry fee for contests xxmaj entry fees is refunded xxbos acting jobs available i wish to join your company , any jobs available xxbos i would like to book a flight ticket xxmaj want to book my</td>\n",
       "    </tr>\n",
       "    <tr>\n",
       "      <td>4</td>\n",
       "      <td>me xxmaj flight xxmaj tickets i need flight xxbos xxmaj jokes tell me a joke xxbos xxmaj any offer for me i recharged my mobile using phonepe and i ca nt find any cashback xxbos set reminder drink water schedule a reminder xxbos give me a joke xxmaj send joke everyday xxbos xxmaj visa required xxmaj visa xxbos price is high xxmaj too high xxbos xxmaj still not received xxmaj</td>\n",
       "    </tr>\n",
       "  </tbody>\n",
       "</table>"
      ],
      "text/plain": [
       "<IPython.core.display.HTML object>"
      ]
     },
     "metadata": {},
     "output_type": "display_data"
    }
   ],
   "source": [
    "data_lm = TextLMDataBunch.from_csv(path,'train_set.csv',test='test_set.csv',valid_pct=0.1,label_cols='label',\n",
    "                                   text_cols=['sentence1','sentence2'],bs=48)\n",
    "data_lm.show_batch()"
   ]
  },
  {
   "cell_type": "code",
   "execution_count": 13,
   "metadata": {},
   "outputs": [
    {
     "data": {
      "text/html": [
       "<table border=\"1\" class=\"dataframe\">\n",
       "  <thead>\n",
       "    <tr style=\"text-align: right;\">\n",
       "      <th>text</th>\n",
       "      <th>target</th>\n",
       "    </tr>\n",
       "  </thead>\n",
       "  <tbody>\n",
       "    <tr>\n",
       "      <td>xxbos xxmaj how safe is your cylinder and as a xxmaj customer what i should be checking while receiving a refill from your side ? \\n  xxmaj what are the check points need to check after receiving the refill ? \\n  xxmaj what are the checkpoints to ensure safe cylinder is received ? \\r \\n  xxmaj what are the checkpoints to ensure cylinder is safe for use</td>\n",
       "      <td>0</td>\n",
       "    </tr>\n",
       "    <tr>\n",
       "      <td>xxbos i 'm interested in xxmaj best xxmaj selling xxmaj tour xxmaj package with xxmaj ferrari xxmaj world for 5 xxmaj days i 'm interested in xxmaj best xxmaj selling xxmaj dubai xxmaj tour xxmaj package xxmaj with xxmaj ferrari xxmaj world for 5 xxmaj days</td>\n",
       "      <td>1</td>\n",
       "    </tr>\n",
       "    <tr>\n",
       "      <td>xxbos xxmaj send me flight timings from xxmaj mumbai to xxmaj bangalore xxmaj please proceed with below flight from xxmaj delhi to xxmaj bangalore for 1 adult onward flight air dep 00 00 1 dec dep 00 00 1 dec</td>\n",
       "      <td>0</td>\n",
       "    </tr>\n",
       "    <tr>\n",
       "      <td>xxbos xxmaj do i have to pay if i wish to close the account ? i have holdings in my xxmaj demat account , can i close my xxmaj demat account without transferring my shares ?</td>\n",
       "      <td>0</td>\n",
       "    </tr>\n",
       "    <tr>\n",
       "      <td>xxbos xxmaj can i order for the xxmaj new xxmaj supply through phone or any digital platform ? xxmaj do you sell adopters separately without the new supply ? xxmaj what is the procedure ?</td>\n",
       "      <td>0</td>\n",
       "    </tr>\n",
       "  </tbody>\n",
       "</table>"
      ],
      "text/plain": [
       "<IPython.core.display.HTML object>"
      ]
     },
     "metadata": {},
     "output_type": "display_data"
    }
   ],
   "source": [
    "data_c = TextDataBunch.from_csv(path,'train_set.csv',valid_pct=0.2,test='test_set.csv',\n",
    "                                  text_cols=['sentence1','sentence2'],label_cols='label',vocab=data_lm.train_ds.vocab)\n",
    "\n",
    "data_c.show_batch()"
   ]
  },
  {
   "cell_type": "markdown",
   "metadata": {},
   "source": [
    "#### Language Model"
   ]
  },
  {
   "cell_type": "code",
   "execution_count": 14,
   "metadata": {},
   "outputs": [],
   "source": [
    "\n",
    "learn_lm = language_model_learner(data_lm,AWD_LSTM,drop_mult=0.3,model_dir=\"/tmp/model/\")"
   ]
  },
  {
   "cell_type": "code",
   "execution_count": 15,
   "metadata": {},
   "outputs": [
    {
     "data": {
      "text/html": [],
      "text/plain": [
       "<IPython.core.display.HTML object>"
      ]
     },
     "metadata": {},
     "output_type": "display_data"
    },
    {
     "name": "stdout",
     "output_type": "stream",
     "text": [
      "LR Finder is complete, type {learner_name}.recorder.plot() to see the graph.\n"
     ]
    },
    {
     "data": {
      "image/png": "[encoded data removed]",
      "text/plain": [
       "<Figure size 432x288 with 1 Axes>"
      ]
     },
     "metadata": {
      "needs_background": "light"
     },
     "output_type": "display_data"
    }
   ],
   "source": [
    "learn_lm.lr_find()\n",
    "learn_lm.recorder.plot()"
   ]
  },
  {
   "cell_type": "code",
   "execution_count": 16,
   "metadata": {},
   "outputs": [
    {
     "data": {
      "text/html": [
       "<table border=\"1\" class=\"dataframe\">\n",
       "  <thead>\n",
       "    <tr style=\"text-align: left;\">\n",
       "      <th>epoch</th>\n",
       "      <th>train_loss</th>\n",
       "      <th>valid_loss</th>\n",
       "      <th>accuracy</th>\n",
       "      <th>time</th>\n",
       "    </tr>\n",
       "  </thead>\n",
       "  <tbody>\n",
       "    <tr>\n",
       "      <td>0</td>\n",
       "      <td>4.362492</td>\n",
       "      <td>3.024272</td>\n",
       "      <td>0.394477</td>\n",
       "      <td>00:24</td>\n",
       "    </tr>\n",
       "    <tr>\n",
       "      <td>1</td>\n",
       "      <td>2.929330</td>\n",
       "      <td>2.370002</td>\n",
       "      <td>0.489187</td>\n",
       "      <td>00:24</td>\n",
       "    </tr>\n",
       "    <tr>\n",
       "      <td>2</td>\n",
       "      <td>2.440741</td>\n",
       "      <td>2.280396</td>\n",
       "      <td>0.507242</td>\n",
       "      <td>00:24</td>\n",
       "    </tr>\n",
       "  </tbody>\n",
       "</table>"
      ],
      "text/plain": [
       "<IPython.core.display.HTML object>"
      ]
     },
     "metadata": {},
     "output_type": "display_data"
    }
   ],
   "source": [
    "learn_lm.fit_one_cycle(3,1e-2)"
   ]
  },
  {
   "cell_type": "code",
   "execution_count": 17,
   "metadata": {},
   "outputs": [],
   "source": [
    "learn_lm.save('fit-1')\n",
    "learn_lm.save_encoder('fit_enc')"
   ]
  },
  {
   "cell_type": "markdown",
   "metadata": {},
   "source": [
    "#### Classification Model"
   ]
  },
  {
   "cell_type": "code",
   "execution_count": 18,
   "metadata": {},
   "outputs": [],
   "source": [
    "learn_lm.load('fit-1')\n",
    "learn_lm = text_classifier_learner(data_c,AWD_LSTM,drop_mult=0.3,model_dir=\"/tmp/model/\")\n",
    "learn_lm.load_encoder('fit_enc');"
   ]
  },
  {
   "cell_type": "code",
   "execution_count": 19,
   "metadata": {},
   "outputs": [
    {
     "data": {
      "text/html": [],
      "text/plain": [
       "<IPython.core.display.HTML object>"
      ]
     },
     "metadata": {},
     "output_type": "display_data"
    },
    {
     "name": "stdout",
     "output_type": "stream",
     "text": [
      "LR Finder is complete, type {learner_name}.recorder.plot() to see the graph.\n"
     ]
    },
    {
     "data": {
      "image/png": "[encoded data removed]",
      "text/plain": [
       "<Figure size 432x288 with 1 Axes>"
      ]
     },
     "metadata": {
      "needs_background": "light"
     },
     "output_type": "display_data"
    }
   ],
   "source": [
    "learn_lm.lr_find()\n",
    "learn_lm.recorder.plot()"
   ]
  },
  {
   "cell_type": "code",
   "execution_count": 20,
   "metadata": {},
   "outputs": [
    {
     "data": {
      "text/html": [
       "<table border=\"1\" class=\"dataframe\">\n",
       "  <thead>\n",
       "    <tr style=\"text-align: left;\">\n",
       "      <th>epoch</th>\n",
       "      <th>train_loss</th>\n",
       "      <th>valid_loss</th>\n",
       "      <th>accuracy</th>\n",
       "      <th>time</th>\n",
       "    </tr>\n",
       "  </thead>\n",
       "  <tbody>\n",
       "    <tr>\n",
       "      <td>0</td>\n",
       "      <td>0.521760</td>\n",
       "      <td>0.497275</td>\n",
       "      <td>0.764773</td>\n",
       "      <td>00:12</td>\n",
       "    </tr>\n",
       "    <tr>\n",
       "      <td>1</td>\n",
       "      <td>0.515300</td>\n",
       "      <td>0.466155</td>\n",
       "      <td>0.787360</td>\n",
       "      <td>00:12</td>\n",
       "    </tr>\n",
       "    <tr>\n",
       "      <td>2</td>\n",
       "      <td>0.500183</td>\n",
       "      <td>0.441020</td>\n",
       "      <td>0.801050</td>\n",
       "      <td>00:12</td>\n",
       "    </tr>\n",
       "    <tr>\n",
       "      <td>3</td>\n",
       "      <td>0.458644</td>\n",
       "      <td>0.418210</td>\n",
       "      <td>0.807210</td>\n",
       "      <td>00:12</td>\n",
       "    </tr>\n",
       "    <tr>\n",
       "      <td>4</td>\n",
       "      <td>0.435062</td>\n",
       "      <td>0.416347</td>\n",
       "      <td>0.815651</td>\n",
       "      <td>00:12</td>\n",
       "    </tr>\n",
       "  </tbody>\n",
       "</table>"
      ],
      "text/plain": [
       "<IPython.core.display.HTML object>"
      ]
     },
     "metadata": {},
     "output_type": "display_data"
    }
   ],
   "source": [
    "learn_lm.fit_one_cycle(5,1e-02)"
   ]
  },
  {
   "cell_type": "markdown",
   "metadata": {},
   "source": [
    "### Model Finetune\n",
    "\n",
    "We see the accuracy is about 81%. how ever, there may be a scope for further improvement. \n",
    "\n",
    "1. Unfreeze the whole model and fit it with learning rate of 1e-2. \n",
    "2. Explore a range of learning rates \n",
    "3. Add momentum. "
   ]
  },
  {
   "cell_type": "code",
   "execution_count": 21,
   "metadata": {},
   "outputs": [],
   "source": [
    "learn_lm.save('fit-2')"
   ]
  },
  {
   "cell_type": "code",
   "execution_count": 22,
   "metadata": {},
   "outputs": [],
   "source": [
    "learn_lm.load('fit-2')\n",
    "learn_lm.unfreeze()"
   ]
  },
  {
   "cell_type": "code",
   "execution_count": 23,
   "metadata": {},
   "outputs": [
    {
     "data": {
      "text/html": [
       "<table border=\"1\" class=\"dataframe\">\n",
       "  <thead>\n",
       "    <tr style=\"text-align: left;\">\n",
       "      <th>epoch</th>\n",
       "      <th>train_loss</th>\n",
       "      <th>valid_loss</th>\n",
       "      <th>accuracy</th>\n",
       "      <th>time</th>\n",
       "    </tr>\n",
       "  </thead>\n",
       "  <tbody>\n",
       "    <tr>\n",
       "      <td>0</td>\n",
       "      <td>0.451047</td>\n",
       "      <td>0.438308</td>\n",
       "      <td>0.809719</td>\n",
       "      <td>00:33</td>\n",
       "    </tr>\n",
       "    <tr>\n",
       "      <td>1</td>\n",
       "      <td>0.455807</td>\n",
       "      <td>0.467436</td>\n",
       "      <td>0.789870</td>\n",
       "      <td>00:34</td>\n",
       "    </tr>\n",
       "    <tr>\n",
       "      <td>2</td>\n",
       "      <td>0.469564</td>\n",
       "      <td>0.865392</td>\n",
       "      <td>0.798083</td>\n",
       "      <td>00:33</td>\n",
       "    </tr>\n",
       "    <tr>\n",
       "      <td>3</td>\n",
       "      <td>0.426757</td>\n",
       "      <td>0.529046</td>\n",
       "      <td>0.770705</td>\n",
       "      <td>00:32</td>\n",
       "    </tr>\n",
       "    <tr>\n",
       "      <td>4</td>\n",
       "      <td>0.405679</td>\n",
       "      <td>0.422386</td>\n",
       "      <td>0.830025</td>\n",
       "      <td>00:30</td>\n",
       "    </tr>\n",
       "    <tr>\n",
       "      <td>5</td>\n",
       "      <td>0.371442</td>\n",
       "      <td>0.458977</td>\n",
       "      <td>0.835045</td>\n",
       "      <td>00:33</td>\n",
       "    </tr>\n",
       "    <tr>\n",
       "      <td>6</td>\n",
       "      <td>0.340237</td>\n",
       "      <td>0.403504</td>\n",
       "      <td>0.838239</td>\n",
       "      <td>00:32</td>\n",
       "    </tr>\n",
       "    <tr>\n",
       "      <td>7</td>\n",
       "      <td>0.304783</td>\n",
       "      <td>0.360514</td>\n",
       "      <td>0.857175</td>\n",
       "      <td>00:33</td>\n",
       "    </tr>\n",
       "    <tr>\n",
       "      <td>8</td>\n",
       "      <td>0.263293</td>\n",
       "      <td>0.346593</td>\n",
       "      <td>0.872690</td>\n",
       "      <td>00:30</td>\n",
       "    </tr>\n",
       "    <tr>\n",
       "      <td>9</td>\n",
       "      <td>0.245839</td>\n",
       "      <td>0.353967</td>\n",
       "      <td>0.870865</td>\n",
       "      <td>00:32</td>\n",
       "    </tr>\n",
       "  </tbody>\n",
       "</table>"
      ],
      "text/plain": [
       "<IPython.core.display.HTML object>"
      ]
     },
     "metadata": {},
     "output_type": "display_data"
    }
   ],
   "source": [
    "learn_lm.fit_one_cycle(10,1e-2)"
   ]
  },
  {
   "cell_type": "code",
   "execution_count": 52,
   "metadata": {},
   "outputs": [],
   "source": [
    "learn_lm.save('fit2')"
   ]
  },
  {
   "cell_type": "markdown",
   "metadata": {},
   "source": [
    "### Explore different learning Rates"
   ]
  },
  {
   "cell_type": "code",
   "execution_count": 53,
   "metadata": {},
   "outputs": [
    {
     "data": {
      "text/html": [
       "<table border=\"1\" class=\"dataframe\">\n",
       "  <thead>\n",
       "    <tr style=\"text-align: left;\">\n",
       "      <th>epoch</th>\n",
       "      <th>train_loss</th>\n",
       "      <th>valid_loss</th>\n",
       "      <th>accuracy</th>\n",
       "      <th>time</th>\n",
       "    </tr>\n",
       "  </thead>\n",
       "  <tbody>\n",
       "    <tr>\n",
       "      <td>0</td>\n",
       "      <td>0.267164</td>\n",
       "      <td>0.346034</td>\n",
       "      <td>0.872462</td>\n",
       "      <td>00:33</td>\n",
       "    </tr>\n",
       "    <tr>\n",
       "      <td>1</td>\n",
       "      <td>0.250357</td>\n",
       "      <td>0.331556</td>\n",
       "      <td>0.875200</td>\n",
       "      <td>00:32</td>\n",
       "    </tr>\n",
       "    <tr>\n",
       "      <td>2</td>\n",
       "      <td>0.230781</td>\n",
       "      <td>0.335160</td>\n",
       "      <td>0.871093</td>\n",
       "      <td>00:30</td>\n",
       "    </tr>\n",
       "    <tr>\n",
       "      <td>3</td>\n",
       "      <td>0.236245</td>\n",
       "      <td>0.374265</td>\n",
       "      <td>0.870180</td>\n",
       "      <td>00:32</td>\n",
       "    </tr>\n",
       "    <tr>\n",
       "      <td>4</td>\n",
       "      <td>0.216883</td>\n",
       "      <td>0.370150</td>\n",
       "      <td>0.874743</td>\n",
       "      <td>00:33</td>\n",
       "    </tr>\n",
       "    <tr>\n",
       "      <td>5</td>\n",
       "      <td>0.214033</td>\n",
       "      <td>0.356696</td>\n",
       "      <td>0.880903</td>\n",
       "      <td>00:31</td>\n",
       "    </tr>\n",
       "    <tr>\n",
       "      <td>6</td>\n",
       "      <td>0.199032</td>\n",
       "      <td>0.374291</td>\n",
       "      <td>0.878622</td>\n",
       "      <td>00:33</td>\n",
       "    </tr>\n",
       "    <tr>\n",
       "      <td>7</td>\n",
       "      <td>0.201543</td>\n",
       "      <td>0.346317</td>\n",
       "      <td>0.882957</td>\n",
       "      <td>00:33</td>\n",
       "    </tr>\n",
       "    <tr>\n",
       "      <td>8</td>\n",
       "      <td>0.185988</td>\n",
       "      <td>0.357628</td>\n",
       "      <td>0.881816</td>\n",
       "      <td>00:31</td>\n",
       "    </tr>\n",
       "    <tr>\n",
       "      <td>9</td>\n",
       "      <td>0.177144</td>\n",
       "      <td>0.373019</td>\n",
       "      <td>0.880903</td>\n",
       "      <td>00:32</td>\n",
       "    </tr>\n",
       "  </tbody>\n",
       "</table>"
      ],
      "text/plain": [
       "<IPython.core.display.HTML object>"
      ]
     },
     "metadata": {},
     "output_type": "display_data"
    }
   ],
   "source": [
    "learn_lm.fit_one_cycle(10,slice(1e-2/(2.6**4),1e-2))"
   ]
  },
  {
   "cell_type": "code",
   "execution_count": 57,
   "metadata": {},
   "outputs": [],
   "source": [
    "learn_lm.save('fit3')"
   ]
  },
  {
   "cell_type": "code",
   "execution_count": 67,
   "metadata": {},
   "outputs": [
    {
     "data": {
      "text/html": [
       "<table border=\"1\" class=\"dataframe\">\n",
       "  <thead>\n",
       "    <tr style=\"text-align: left;\">\n",
       "      <th>epoch</th>\n",
       "      <th>train_loss</th>\n",
       "      <th>valid_loss</th>\n",
       "      <th>accuracy</th>\n",
       "      <th>time</th>\n",
       "    </tr>\n",
       "  </thead>\n",
       "  <tbody>\n",
       "    <tr>\n",
       "      <td>0</td>\n",
       "      <td>0.192599</td>\n",
       "      <td>0.359161</td>\n",
       "      <td>0.880447</td>\n",
       "      <td>00:32</td>\n",
       "    </tr>\n",
       "    <tr>\n",
       "      <td>1</td>\n",
       "      <td>0.189693</td>\n",
       "      <td>0.516360</td>\n",
       "      <td>0.882501</td>\n",
       "      <td>00:30</td>\n",
       "    </tr>\n",
       "    <tr>\n",
       "      <td>2</td>\n",
       "      <td>0.208902</td>\n",
       "      <td>0.320765</td>\n",
       "      <td>0.886607</td>\n",
       "      <td>00:34</td>\n",
       "    </tr>\n",
       "    <tr>\n",
       "      <td>3</td>\n",
       "      <td>0.187156</td>\n",
       "      <td>0.351455</td>\n",
       "      <td>0.880675</td>\n",
       "      <td>00:32</td>\n",
       "    </tr>\n",
       "    <tr>\n",
       "      <td>4</td>\n",
       "      <td>0.178139</td>\n",
       "      <td>0.363473</td>\n",
       "      <td>0.880447</td>\n",
       "      <td>00:33</td>\n",
       "    </tr>\n",
       "    <tr>\n",
       "      <td>5</td>\n",
       "      <td>0.166322</td>\n",
       "      <td>0.367576</td>\n",
       "      <td>0.892539</td>\n",
       "      <td>00:33</td>\n",
       "    </tr>\n",
       "    <tr>\n",
       "      <td>6</td>\n",
       "      <td>0.159663</td>\n",
       "      <td>0.355840</td>\n",
       "      <td>0.888889</td>\n",
       "      <td>00:33</td>\n",
       "    </tr>\n",
       "    <tr>\n",
       "      <td>7</td>\n",
       "      <td>0.151604</td>\n",
       "      <td>0.380295</td>\n",
       "      <td>0.883641</td>\n",
       "      <td>00:30</td>\n",
       "    </tr>\n",
       "    <tr>\n",
       "      <td>8</td>\n",
       "      <td>0.144765</td>\n",
       "      <td>0.370406</td>\n",
       "      <td>0.890714</td>\n",
       "      <td>00:34</td>\n",
       "    </tr>\n",
       "    <tr>\n",
       "      <td>9</td>\n",
       "      <td>0.140453</td>\n",
       "      <td>0.382674</td>\n",
       "      <td>0.892311</td>\n",
       "      <td>00:30</td>\n",
       "    </tr>\n",
       "  </tbody>\n",
       "</table>"
      ],
      "text/plain": [
       "<IPython.core.display.HTML object>"
      ]
     },
     "metadata": {},
     "output_type": "display_data"
    }
   ],
   "source": [
    "learn_lm.load('fit3')\n",
    "\n",
    "learn_lm.fit_one_cycle(10, slice(1e-2/(2.6**4),1e-2), moms=(0.8,0.7))"
   ]
  },
  {
   "cell_type": "markdown",
   "metadata": {},
   "source": [
    "### Observation\n",
    "IF you observere we are getting an accuracy of 89% with the train loss of .14 and valid loss of 0.38"
   ]
  },
  {
   "cell_type": "markdown",
   "metadata": {},
   "source": [
    "### REsults - \n",
    "\n",
    "1. Predictions for test data provided and save it as csv (pid and predicted labels)\n",
    "2. Confusion matrix\n",
    "3. F1 score calculated based on validation data set"
   ]
  },
  {
   "cell_type": "code",
   "execution_count": 27,
   "metadata": {},
   "outputs": [
    {
     "data": {
      "text/plain": [
       "LabelList (2435 items)\n",
       "x: TextList\n",
       "xxbos xxmaj how will i be xxunk if i win cricket xxmaj how will i be xxunk if i win,xxbos xxmaj when will i get cadhback xxmaj when i get refund,xxbos share nearby atm closest atms,xxbos xxmaj what does xxmaj repairs under warranty cover ? maintenance under warranty,xxbos xxmaj who is liable to pay the xxup tds on property ? how to pay tds on property\n",
       "y: EmptyLabelList\n",
       ",,,,\n",
       "Path: /home/ubuntu/share/SET II"
      ]
     },
     "execution_count": 27,
     "metadata": {},
     "output_type": "execute_result"
    }
   ],
   "source": [
    "data_c.test_ds"
   ]
  },
  {
   "cell_type": "markdown",
   "metadata": {},
   "source": [
    "### Predictions for Test Data"
   ]
  },
  {
   "cell_type": "code",
   "execution_count": 68,
   "metadata": {},
   "outputs": [],
   "source": [
    "preds, y = learn_lm.get_preds(DatasetType.Test,ordered=True)"
   ]
  },
  {
   "cell_type": "code",
   "execution_count": 70,
   "metadata": {},
   "outputs": [
    {
     "name": "stdout",
     "output_type": "stream",
     "text": [
      "(2435,)\n"
     ]
    },
    {
     "data": {
      "text/plain": [
       "array([0, 0, 1, 0, 1, 0, 0, 0, 0, 1])"
      ]
     },
     "execution_count": 70,
     "metadata": {},
     "output_type": "execute_result"
    }
   ],
   "source": [
    "prediction = np.argmax(preds,axis=1).numpy()\n",
    "print(prediction.shape)\n",
    "prediction[0:10]\n"
   ]
  },
  {
   "cell_type": "code",
   "execution_count": 71,
   "metadata": {},
   "outputs": [],
   "source": [
    "df_results = pd.DataFrame()\n",
    "df_results['pid'] = df_test['pid']\n",
    "df_results['label'] = prediction"
   ]
  },
  {
   "cell_type": "code",
   "execution_count": 72,
   "metadata": {},
   "outputs": [
    {
     "data": {
      "text/html": [
       "<div>\n",
       "<style scoped>\n",
       "    .dataframe tbody tr th:only-of-type {\n",
       "        vertical-align: middle;\n",
       "    }\n",
       "\n",
       "    .dataframe tbody tr th {\n",
       "        vertical-align: top;\n",
       "    }\n",
       "\n",
       "    .dataframe thead th {\n",
       "        text-align: right;\n",
       "    }\n",
       "</style>\n",
       "<table border=\"1\" class=\"dataframe\">\n",
       "  <thead>\n",
       "    <tr style=\"text-align: right;\">\n",
       "      <th></th>\n",
       "      <th>pid</th>\n",
       "      <th>label</th>\n",
       "    </tr>\n",
       "  </thead>\n",
       "  <tbody>\n",
       "    <tr>\n",
       "      <td>0</td>\n",
       "      <td>42827</td>\n",
       "      <td>0</td>\n",
       "    </tr>\n",
       "    <tr>\n",
       "      <td>1</td>\n",
       "      <td>40952</td>\n",
       "      <td>0</td>\n",
       "    </tr>\n",
       "    <tr>\n",
       "      <td>2</td>\n",
       "      <td>44755</td>\n",
       "      <td>1</td>\n",
       "    </tr>\n",
       "    <tr>\n",
       "      <td>3</td>\n",
       "      <td>18692</td>\n",
       "      <td>0</td>\n",
       "    </tr>\n",
       "    <tr>\n",
       "      <td>4</td>\n",
       "      <td>75416</td>\n",
       "      <td>1</td>\n",
       "    </tr>\n",
       "  </tbody>\n",
       "</table>\n",
       "</div>"
      ],
      "text/plain": [
       "     pid  label\n",
       "0  42827      0\n",
       "1  40952      0\n",
       "2  44755      1\n",
       "3  18692      0\n",
       "4  75416      1"
      ]
     },
     "execution_count": 72,
     "metadata": {},
     "output_type": "execute_result"
    }
   ],
   "source": [
    "df_results.head()"
   ]
  },
  {
   "cell_type": "code",
   "execution_count": 75,
   "metadata": {},
   "outputs": [],
   "source": [
    "# upload file into upload folder\n",
    "path_upload = r'/home/ubuntu/upload/'\n",
    "os.listdir(path_upload)\n",
    "os.chdir(path_upload)\n",
    "df_results.to_csv('vidhyashankarVenkatesan_F03822_problem2.csv',header=True,index=False)"
   ]
  },
  {
   "cell_type": "markdown",
   "metadata": {},
   "source": [
    "### Confusion Matrix"
   ]
  },
  {
   "cell_type": "code",
   "execution_count": 77,
   "metadata": {},
   "outputs": [
    {
     "data": {
      "image/png": "[encoded data removed]",
      "text/plain": [
       "<Figure size 432x288 with 1 Axes>"
      ]
     },
     "metadata": {
      "needs_background": "light"
     },
     "output_type": "display_data"
    }
   ],
   "source": [
    "txt_ci = TextClassificationInterpretation.from_learner(learn_lm)\n",
    "txt_ci.plot_confusion_matrix()"
   ]
  },
  {
   "cell_type": "code",
   "execution_count": 40,
   "metadata": {},
   "outputs": [
    {
     "data": {
      "text/html": [
       "<table border=\"1\" class=\"dataframe\">\n",
       "  <thead>\n",
       "    <tr style=\"text-align: right;\">\n",
       "      <th>Text</th>\n",
       "      <th>Prediction</th>\n",
       "      <th>Actual</th>\n",
       "      <th>Loss</th>\n",
       "      <th>Probability</th>\n",
       "    </tr>\n",
       "  </thead>\n",
       "  <tbody>\n",
       "    <tr>\n",
       "      <td>xxbos bank account balance link a bank account</td>\n",
       "      <td>1</td>\n",
       "      <td>0</td>\n",
       "      <td>7.29</td>\n",
       "      <td>0.00</td>\n",
       "    </tr>\n",
       "    <tr>\n",
       "      <td>xxbos speaker xxmaj hi , i want to know the price of xxmaj touchlight xxmaj speaker .</td>\n",
       "      <td>1</td>\n",
       "      <td>0</td>\n",
       "      <td>6.95</td>\n",
       "      <td>0.00</td>\n",
       "    </tr>\n",
       "    <tr>\n",
       "      <td>xxbos xxmaj what are the charges for getting a new connection new connection</td>\n",
       "      <td>1</td>\n",
       "      <td>0</td>\n",
       "      <td>6.72</td>\n",
       "      <td>0.00</td>\n",
       "    </tr>\n",
       "    <tr>\n",
       "      <td>xxbos xxmaj ipl match result xxmaj who won the ipl match today</td>\n",
       "      <td>0</td>\n",
       "      <td>0</td>\n",
       "      <td>6.48</td>\n",
       "      <td>1.00</td>\n",
       "    </tr>\n",
       "    <tr>\n",
       "      <td>xxbos i want discount on flight tickets any cashback on flight booking</td>\n",
       "      <td>1</td>\n",
       "      <td>0</td>\n",
       "      <td>6.29</td>\n",
       "      <td>0.00</td>\n",
       "    </tr>\n",
       "  </tbody>\n",
       "</table>"
      ],
      "text/plain": [
       "<IPython.core.display.HTML object>"
      ]
     },
     "metadata": {},
     "output_type": "display_data"
    }
   ],
   "source": [
    "txt_ci.show_top_losses(5)"
   ]
  },
  {
   "cell_type": "markdown",
   "metadata": {},
   "source": [
    "### F1 Score"
   ]
  },
  {
   "cell_type": "code",
   "execution_count": 73,
   "metadata": {},
   "outputs": [],
   "source": [
    "preds, targets = learn_lm.get_preds()\n",
    "predictions = np.argmax(preds,axis=1)"
   ]
  },
  {
   "cell_type": "code",
   "execution_count": 74,
   "metadata": {},
   "outputs": [
    {
     "data": {
      "text/plain": [
       "0.7866184448462928"
      ]
     },
     "execution_count": 74,
     "metadata": {},
     "output_type": "execute_result"
    }
   ],
   "source": [
    "from sklearn.metrics import f1_score\n",
    "\n",
    "y_true = (targets.numpy())\n",
    "y_pred = predictions.numpy()\n",
    "\n",
    "f1_score(y_true,y_pred,average='binary')"
   ]
  }
 ],
 "metadata": {
  "kernelspec": {
   "display_name": "Python 3",
   "language": "python",
   "name": "python3"
  },
  "language_info": {
   "codemirror_mode": {
    "name": "ipython",
    "version": 3
   },
   "file_extension": ".py",
   "mimetype": "text/x-python",
   "name": "python",
   "nbconvert_exporter": "python",
   "pygments_lexer": "ipython3",
   "version": "3.7.4"
  }
 },
 "nbformat": 4,
 "nbformat_minor": 4
}
