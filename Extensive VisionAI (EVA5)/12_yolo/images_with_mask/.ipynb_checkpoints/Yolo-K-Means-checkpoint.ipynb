{
 "cells": [
  {
   "cell_type": "code",
   "execution_count": 9,
   "metadata": {},
   "outputs": [],
   "source": [
    "import glob, os\n",
    "os.chdir('c:\\\\python\\\\Computer Vision\\\\yolo\\\\people with mask vest boots and hardhat\\\\')\n"
   ]
  },
  {
   "cell_type": "code",
   "execution_count": 127,
   "metadata": {},
   "outputs": [],
   "source": [
    "jpg_list = []\n",
    "image_list =[]\n",
    "for file in glob.glob(\"*.jpg\"):\n",
    "    jpg_list.append(file)\n",
    "    im = Image.open(file)\n",
    "    size=im.size\n",
    "    image_list.append((file,size[0],size[1]))\n",
    "#     size_list.append(im.size)\n",
    "#     width, height = im.size"
   ]
  },
  {
   "cell_type": "code",
   "execution_count": 128,
   "metadata": {},
   "outputs": [],
   "source": [
    "import pandas as pd\n",
    "df = pd.DataFrame(image_list)\n",
    "cols =['FileName','IMG_H','IMG_W']\n",
    "\n",
    "df.columns = cols"
   ]
  },
  {
   "cell_type": "code",
   "execution_count": 129,
   "metadata": {},
   "outputs": [
    {
     "data": {
      "text/html": [
       "<div>\n",
       "<style scoped>\n",
       "    .dataframe tbody tr th:only-of-type {\n",
       "        vertical-align: middle;\n",
       "    }\n",
       "\n",
       "    .dataframe tbody tr th {\n",
       "        vertical-align: top;\n",
       "    }\n",
       "\n",
       "    .dataframe thead th {\n",
       "        text-align: right;\n",
       "    }\n",
       "</style>\n",
       "<table border=\"1\" class=\"dataframe\">\n",
       "  <thead>\n",
       "    <tr style=\"text-align: right;\">\n",
       "      <th></th>\n",
       "      <th>FileName</th>\n",
       "      <th>IMG_H</th>\n",
       "      <th>IMG_W</th>\n",
       "    </tr>\n",
       "  </thead>\n",
       "  <tbody>\n",
       "    <tr>\n",
       "      <td>0</td>\n",
       "      <td>image no (10).jpg</td>\n",
       "      <td>1024</td>\n",
       "      <td>682</td>\n",
       "    </tr>\n",
       "    <tr>\n",
       "      <td>1</td>\n",
       "      <td>image no (100).jpg</td>\n",
       "      <td>640</td>\n",
       "      <td>920</td>\n",
       "    </tr>\n",
       "    <tr>\n",
       "      <td>2</td>\n",
       "      <td>image no (101).jpg</td>\n",
       "      <td>905</td>\n",
       "      <td>854</td>\n",
       "    </tr>\n",
       "    <tr>\n",
       "      <td>3</td>\n",
       "      <td>image no (104).jpg</td>\n",
       "      <td>612</td>\n",
       "      <td>407</td>\n",
       "    </tr>\n",
       "    <tr>\n",
       "      <td>4</td>\n",
       "      <td>image no (105).jpg</td>\n",
       "      <td>2592</td>\n",
       "      <td>1944</td>\n",
       "    </tr>\n",
       "  </tbody>\n",
       "</table>\n",
       "</div>"
      ],
      "text/plain": [
       "             FileName  IMG_H  IMG_W\n",
       "0   image no (10).jpg   1024    682\n",
       "1  image no (100).jpg    640    920\n",
       "2  image no (101).jpg    905    854\n",
       "3  image no (104).jpg    612    407\n",
       "4  image no (105).jpg   2592   1944"
      ]
     },
     "execution_count": 129,
     "metadata": {},
     "output_type": "execute_result"
    }
   ],
   "source": [
    "df.head()"
   ]
  },
  {
   "cell_type": "code",
   "execution_count": 130,
   "metadata": {},
   "outputs": [],
   "source": [
    "main_df = pd.read_csv('images_final_2.csv')"
   ]
  },
  {
   "cell_type": "code",
   "execution_count": 131,
   "metadata": {},
   "outputs": [
    {
     "data": {
      "text/html": [
       "<div>\n",
       "<style scoped>\n",
       "    .dataframe tbody tr th:only-of-type {\n",
       "        vertical-align: middle;\n",
       "    }\n",
       "\n",
       "    .dataframe tbody tr th {\n",
       "        vertical-align: top;\n",
       "    }\n",
       "\n",
       "    .dataframe thead th {\n",
       "        text-align: right;\n",
       "    }\n",
       "</style>\n",
       "<table border=\"1\" class=\"dataframe\">\n",
       "  <thead>\n",
       "    <tr style=\"text-align: right;\">\n",
       "      <th></th>\n",
       "      <th>FileName</th>\n",
       "      <th>CX</th>\n",
       "      <th>CY</th>\n",
       "      <th>W</th>\n",
       "      <th>H</th>\n",
       "      <th>Class</th>\n",
       "    </tr>\n",
       "  </thead>\n",
       "  <tbody>\n",
       "    <tr>\n",
       "      <td>0</td>\n",
       "      <td>image no (2).jpeg</td>\n",
       "      <td>46</td>\n",
       "      <td>89</td>\n",
       "      <td>42</td>\n",
       "      <td>27</td>\n",
       "      <td>mask</td>\n",
       "    </tr>\n",
       "    <tr>\n",
       "      <td>1</td>\n",
       "      <td>image no (2).jpeg</td>\n",
       "      <td>218</td>\n",
       "      <td>31</td>\n",
       "      <td>40</td>\n",
       "      <td>36</td>\n",
       "      <td>mask</td>\n",
       "    </tr>\n",
       "    <tr>\n",
       "      <td>2</td>\n",
       "      <td>image no (2).jpeg</td>\n",
       "      <td>6</td>\n",
       "      <td>195</td>\n",
       "      <td>53</td>\n",
       "      <td>34</td>\n",
       "      <td>mask</td>\n",
       "    </tr>\n",
       "    <tr>\n",
       "      <td>3</td>\n",
       "      <td>image no (2).jpeg</td>\n",
       "      <td>194</td>\n",
       "      <td>196</td>\n",
       "      <td>56</td>\n",
       "      <td>30</td>\n",
       "      <td>mask</td>\n",
       "    </tr>\n",
       "    <tr>\n",
       "      <td>4</td>\n",
       "      <td>image no (2).jpeg</td>\n",
       "      <td>166</td>\n",
       "      <td>274</td>\n",
       "      <td>37</td>\n",
       "      <td>49</td>\n",
       "      <td>mask</td>\n",
       "    </tr>\n",
       "  </tbody>\n",
       "</table>\n",
       "</div>"
      ],
      "text/plain": [
       "            FileName   CX   CY   W   H Class\n",
       "0  image no (2).jpeg   46   89  42  27  mask\n",
       "1  image no (2).jpeg  218   31  40  36  mask\n",
       "2  image no (2).jpeg    6  195  53  34  mask\n",
       "3  image no (2).jpeg  194  196  56  30  mask\n",
       "4  image no (2).jpeg  166  274  37  49  mask"
      ]
     },
     "execution_count": 131,
     "metadata": {},
     "output_type": "execute_result"
    }
   ],
   "source": [
    "main_df.head()"
   ]
  },
  {
   "cell_type": "code",
   "execution_count": 203,
   "metadata": {},
   "outputs": [],
   "source": [
    "df1 = pd.merge(main_df,df,on='FileName',how='left',indicator=True)\n",
    "df1 = df1.loc[df1._merge=='both'].drop(columns='_merge')\n",
    "df1 = df1.astype({'IMG_H': 'int64',\n",
    "           'IMG_W':'int64'})\n",
    "df1.reset_index(drop=True, inplace=True)\n",
    "# df1 = df1[['FileName', 'IMG_H', 'IMG_W', 'Class','CX', 'CY', 'W', 'H']]"
   ]
  },
  {
   "cell_type": "code",
   "execution_count": 204,
   "metadata": {},
   "outputs": [
    {
     "data": {
      "text/plain": [
       "((850, 6), (694, 8))"
      ]
     },
     "execution_count": 204,
     "metadata": {},
     "output_type": "execute_result"
    }
   ],
   "source": [
    "main_df.shape, df1.shape"
   ]
  },
  {
   "cell_type": "code",
   "execution_count": 238,
   "metadata": {},
   "outputs": [
    {
     "data": {
      "text/plain": [
       "hardhat    289\n",
       "vest       149\n",
       "mask       143\n",
       "boots      113\n",
       "Name: Class, dtype: int64"
      ]
     },
     "execution_count": 238,
     "metadata": {},
     "output_type": "execute_result"
    }
   ],
   "source": [
    "df1.Class.value_counts()"
   ]
  },
  {
   "cell_type": "code",
   "execution_count": 205,
   "metadata": {},
   "outputs": [
    {
     "data": {
      "text/html": [
       "<div>\n",
       "<style scoped>\n",
       "    .dataframe tbody tr th:only-of-type {\n",
       "        vertical-align: middle;\n",
       "    }\n",
       "\n",
       "    .dataframe tbody tr th {\n",
       "        vertical-align: top;\n",
       "    }\n",
       "\n",
       "    .dataframe thead th {\n",
       "        text-align: right;\n",
       "    }\n",
       "</style>\n",
       "<table border=\"1\" class=\"dataframe\">\n",
       "  <thead>\n",
       "    <tr style=\"text-align: right;\">\n",
       "      <th></th>\n",
       "      <th>FileName</th>\n",
       "      <th>CX</th>\n",
       "      <th>CY</th>\n",
       "      <th>W</th>\n",
       "      <th>H</th>\n",
       "      <th>Class</th>\n",
       "      <th>IMG_H</th>\n",
       "      <th>IMG_W</th>\n",
       "    </tr>\n",
       "  </thead>\n",
       "  <tbody>\n",
       "    <tr>\n",
       "      <td>0</td>\n",
       "      <td>image no (9).jpg</td>\n",
       "      <td>499</td>\n",
       "      <td>54</td>\n",
       "      <td>255</td>\n",
       "      <td>195</td>\n",
       "      <td>hardhat</td>\n",
       "      <td>1500</td>\n",
       "      <td>1125</td>\n",
       "    </tr>\n",
       "    <tr>\n",
       "      <td>1</td>\n",
       "      <td>image no (9).jpg</td>\n",
       "      <td>383</td>\n",
       "      <td>362</td>\n",
       "      <td>459</td>\n",
       "      <td>739</td>\n",
       "      <td>vest</td>\n",
       "      <td>1500</td>\n",
       "      <td>1125</td>\n",
       "    </tr>\n",
       "    <tr>\n",
       "      <td>2</td>\n",
       "      <td>image no (10).jpg</td>\n",
       "      <td>239</td>\n",
       "      <td>107</td>\n",
       "      <td>219</td>\n",
       "      <td>173</td>\n",
       "      <td>hardhat</td>\n",
       "      <td>1024</td>\n",
       "      <td>682</td>\n",
       "    </tr>\n",
       "    <tr>\n",
       "      <td>3</td>\n",
       "      <td>image no (10).jpg</td>\n",
       "      <td>86</td>\n",
       "      <td>349</td>\n",
       "      <td>389</td>\n",
       "      <td>332</td>\n",
       "      <td>vest</td>\n",
       "      <td>1024</td>\n",
       "      <td>682</td>\n",
       "    </tr>\n",
       "    <tr>\n",
       "      <td>4</td>\n",
       "      <td>image no (11).jpg</td>\n",
       "      <td>158</td>\n",
       "      <td>7</td>\n",
       "      <td>74</td>\n",
       "      <td>49</td>\n",
       "      <td>hardhat</td>\n",
       "      <td>635</td>\n",
       "      <td>300</td>\n",
       "    </tr>\n",
       "  </tbody>\n",
       "</table>\n",
       "</div>"
      ],
      "text/plain": [
       "            FileName   CX   CY    W    H    Class  IMG_H  IMG_W\n",
       "0   image no (9).jpg  499   54  255  195  hardhat   1500   1125\n",
       "1   image no (9).jpg  383  362  459  739     vest   1500   1125\n",
       "2  image no (10).jpg  239  107  219  173  hardhat   1024    682\n",
       "3  image no (10).jpg   86  349  389  332     vest   1024    682\n",
       "4  image no (11).jpg  158    7   74   49  hardhat    635    300"
      ]
     },
     "execution_count": 205,
     "metadata": {},
     "output_type": "execute_result"
    }
   ],
   "source": [
    "df1.head()"
   ]
  },
  {
   "cell_type": "code",
   "execution_count": 206,
   "metadata": {},
   "outputs": [],
   "source": [
    "df1['W/H'] = df1.W/df1.H"
   ]
  },
  {
   "cell_type": "code",
   "execution_count": 207,
   "metadata": {},
   "outputs": [
    {
     "data": {
      "text/html": [
       "<div>\n",
       "<style scoped>\n",
       "    .dataframe tbody tr th:only-of-type {\n",
       "        vertical-align: middle;\n",
       "    }\n",
       "\n",
       "    .dataframe tbody tr th {\n",
       "        vertical-align: top;\n",
       "    }\n",
       "\n",
       "    .dataframe thead th {\n",
       "        text-align: right;\n",
       "    }\n",
       "</style>\n",
       "<table border=\"1\" class=\"dataframe\">\n",
       "  <thead>\n",
       "    <tr style=\"text-align: right;\">\n",
       "      <th></th>\n",
       "      <th>FileName</th>\n",
       "      <th>CX</th>\n",
       "      <th>CY</th>\n",
       "      <th>W</th>\n",
       "      <th>H</th>\n",
       "      <th>Class</th>\n",
       "      <th>IMG_H</th>\n",
       "      <th>IMG_W</th>\n",
       "      <th>W/H</th>\n",
       "    </tr>\n",
       "  </thead>\n",
       "  <tbody>\n",
       "    <tr>\n",
       "      <td>0</td>\n",
       "      <td>image no (9).jpg</td>\n",
       "      <td>499</td>\n",
       "      <td>54</td>\n",
       "      <td>255</td>\n",
       "      <td>195</td>\n",
       "      <td>hardhat</td>\n",
       "      <td>1500</td>\n",
       "      <td>1125</td>\n",
       "      <td>1.307692</td>\n",
       "    </tr>\n",
       "    <tr>\n",
       "      <td>1</td>\n",
       "      <td>image no (9).jpg</td>\n",
       "      <td>383</td>\n",
       "      <td>362</td>\n",
       "      <td>459</td>\n",
       "      <td>739</td>\n",
       "      <td>vest</td>\n",
       "      <td>1500</td>\n",
       "      <td>1125</td>\n",
       "      <td>0.621110</td>\n",
       "    </tr>\n",
       "    <tr>\n",
       "      <td>2</td>\n",
       "      <td>image no (10).jpg</td>\n",
       "      <td>239</td>\n",
       "      <td>107</td>\n",
       "      <td>219</td>\n",
       "      <td>173</td>\n",
       "      <td>hardhat</td>\n",
       "      <td>1024</td>\n",
       "      <td>682</td>\n",
       "      <td>1.265896</td>\n",
       "    </tr>\n",
       "    <tr>\n",
       "      <td>3</td>\n",
       "      <td>image no (10).jpg</td>\n",
       "      <td>86</td>\n",
       "      <td>349</td>\n",
       "      <td>389</td>\n",
       "      <td>332</td>\n",
       "      <td>vest</td>\n",
       "      <td>1024</td>\n",
       "      <td>682</td>\n",
       "      <td>1.171687</td>\n",
       "    </tr>\n",
       "    <tr>\n",
       "      <td>4</td>\n",
       "      <td>image no (11).jpg</td>\n",
       "      <td>158</td>\n",
       "      <td>7</td>\n",
       "      <td>74</td>\n",
       "      <td>49</td>\n",
       "      <td>hardhat</td>\n",
       "      <td>635</td>\n",
       "      <td>300</td>\n",
       "      <td>1.510204</td>\n",
       "    </tr>\n",
       "  </tbody>\n",
       "</table>\n",
       "</div>"
      ],
      "text/plain": [
       "            FileName   CX   CY    W    H    Class  IMG_H  IMG_W       W/H\n",
       "0   image no (9).jpg  499   54  255  195  hardhat   1500   1125  1.307692\n",
       "1   image no (9).jpg  383  362  459  739     vest   1500   1125  0.621110\n",
       "2  image no (10).jpg  239  107  219  173  hardhat   1024    682  1.265896\n",
       "3  image no (10).jpg   86  349  389  332     vest   1024    682  1.171687\n",
       "4  image no (11).jpg  158    7   74   49  hardhat    635    300  1.510204"
      ]
     },
     "execution_count": 207,
     "metadata": {},
     "output_type": "execute_result"
    }
   ],
   "source": [
    "df1.head()"
   ]
  },
  {
   "cell_type": "code",
   "execution_count": 208,
   "metadata": {},
   "outputs": [],
   "source": [
    "import matplotlib.pyplot as plt\n",
    "y = df1['W/H'].sort_values()\n",
    "x = list(range(len(y)))"
   ]
  },
  {
   "cell_type": "code",
   "execution_count": 209,
   "metadata": {},
   "outputs": [
    {
     "data": {
      "text/plain": [
       "<matplotlib.collections.PathCollection at 0x1679d730a08>"
      ]
     },
     "execution_count": 209,
     "metadata": {},
     "output_type": "execute_result"
    },
    {
     "data": {
      "image/png": "[encoded data removed]",
      "text/plain": [
       "<Figure size 432x288 with 1 Axes>"
      ]
     },
     "metadata": {
      "needs_background": "light"
     },
     "output_type": "display_data"
    }
   ],
   "source": [
    "plt.scatter(y,x)"
   ]
  },
  {
   "cell_type": "code",
   "execution_count": 210,
   "metadata": {},
   "outputs": [],
   "source": [
    "df1[['hdf','wdf']] = df1[['IMG_H','IMG_W']]\n",
    "df1['h1'] = df1.IMG_H/df1.hdf\n",
    "df1['w1'] = df1.IMG_W/df1.wdf\n",
    "\n",
    "df1['cx'] = df1.CX/df1.wdf\n",
    "df1['cy'] = df1.CY/df1.hdf\n",
    "df1['w'] = df1.W/df1.wdf\n",
    "df1['h'] = df1.H/df1.hdf\n",
    "\n",
    "df1['log_w'] = np.log(df1.w)\n",
    "df1['log_h'] = np.log(df1.h)"
   ]
  },
  {
   "cell_type": "code",
   "execution_count": 211,
   "metadata": {},
   "outputs": [
    {
     "data": {
      "text/html": [
       "<div>\n",
       "<style scoped>\n",
       "    .dataframe tbody tr th:only-of-type {\n",
       "        vertical-align: middle;\n",
       "    }\n",
       "\n",
       "    .dataframe tbody tr th {\n",
       "        vertical-align: top;\n",
       "    }\n",
       "\n",
       "    .dataframe thead th {\n",
       "        text-align: right;\n",
       "    }\n",
       "</style>\n",
       "<table border=\"1\" class=\"dataframe\">\n",
       "  <thead>\n",
       "    <tr style=\"text-align: right;\">\n",
       "      <th></th>\n",
       "      <th>FileName</th>\n",
       "      <th>CX</th>\n",
       "      <th>CY</th>\n",
       "      <th>W</th>\n",
       "      <th>H</th>\n",
       "      <th>Class</th>\n",
       "      <th>IMG_H</th>\n",
       "      <th>IMG_W</th>\n",
       "      <th>W/H</th>\n",
       "      <th>hdf</th>\n",
       "      <th>wdf</th>\n",
       "      <th>h1</th>\n",
       "      <th>w1</th>\n",
       "      <th>cx</th>\n",
       "      <th>cy</th>\n",
       "      <th>w</th>\n",
       "      <th>h</th>\n",
       "      <th>log_w</th>\n",
       "      <th>log_h</th>\n",
       "    </tr>\n",
       "  </thead>\n",
       "  <tbody>\n",
       "    <tr>\n",
       "      <td>0</td>\n",
       "      <td>image no (9).jpg</td>\n",
       "      <td>499</td>\n",
       "      <td>54</td>\n",
       "      <td>255</td>\n",
       "      <td>195</td>\n",
       "      <td>hardhat</td>\n",
       "      <td>1500</td>\n",
       "      <td>1125</td>\n",
       "      <td>1.307692</td>\n",
       "      <td>1500</td>\n",
       "      <td>1125</td>\n",
       "      <td>1.0</td>\n",
       "      <td>1.0</td>\n",
       "      <td>0.443556</td>\n",
       "      <td>0.036000</td>\n",
       "      <td>0.226667</td>\n",
       "      <td>0.130000</td>\n",
       "      <td>-1.484275</td>\n",
       "      <td>-2.040221</td>\n",
       "    </tr>\n",
       "    <tr>\n",
       "      <td>1</td>\n",
       "      <td>image no (9).jpg</td>\n",
       "      <td>383</td>\n",
       "      <td>362</td>\n",
       "      <td>459</td>\n",
       "      <td>739</td>\n",
       "      <td>vest</td>\n",
       "      <td>1500</td>\n",
       "      <td>1125</td>\n",
       "      <td>0.621110</td>\n",
       "      <td>1500</td>\n",
       "      <td>1125</td>\n",
       "      <td>1.0</td>\n",
       "      <td>1.0</td>\n",
       "      <td>0.340444</td>\n",
       "      <td>0.241333</td>\n",
       "      <td>0.408000</td>\n",
       "      <td>0.492667</td>\n",
       "      <td>-0.896488</td>\n",
       "      <td>-0.707922</td>\n",
       "    </tr>\n",
       "    <tr>\n",
       "      <td>2</td>\n",
       "      <td>image no (10).jpg</td>\n",
       "      <td>239</td>\n",
       "      <td>107</td>\n",
       "      <td>219</td>\n",
       "      <td>173</td>\n",
       "      <td>hardhat</td>\n",
       "      <td>1024</td>\n",
       "      <td>682</td>\n",
       "      <td>1.265896</td>\n",
       "      <td>1024</td>\n",
       "      <td>682</td>\n",
       "      <td>1.0</td>\n",
       "      <td>1.0</td>\n",
       "      <td>0.350440</td>\n",
       "      <td>0.104492</td>\n",
       "      <td>0.321114</td>\n",
       "      <td>0.168945</td>\n",
       "      <td>-1.135958</td>\n",
       "      <td>-1.778180</td>\n",
       "    </tr>\n",
       "    <tr>\n",
       "      <td>3</td>\n",
       "      <td>image no (10).jpg</td>\n",
       "      <td>86</td>\n",
       "      <td>349</td>\n",
       "      <td>389</td>\n",
       "      <td>332</td>\n",
       "      <td>vest</td>\n",
       "      <td>1024</td>\n",
       "      <td>682</td>\n",
       "      <td>1.171687</td>\n",
       "      <td>1024</td>\n",
       "      <td>682</td>\n",
       "      <td>1.0</td>\n",
       "      <td>1.0</td>\n",
       "      <td>0.126100</td>\n",
       "      <td>0.340820</td>\n",
       "      <td>0.570381</td>\n",
       "      <td>0.324219</td>\n",
       "      <td>-0.561450</td>\n",
       "      <td>-1.126337</td>\n",
       "    </tr>\n",
       "    <tr>\n",
       "      <td>4</td>\n",
       "      <td>image no (11).jpg</td>\n",
       "      <td>158</td>\n",
       "      <td>7</td>\n",
       "      <td>74</td>\n",
       "      <td>49</td>\n",
       "      <td>hardhat</td>\n",
       "      <td>635</td>\n",
       "      <td>300</td>\n",
       "      <td>1.510204</td>\n",
       "      <td>635</td>\n",
       "      <td>300</td>\n",
       "      <td>1.0</td>\n",
       "      <td>1.0</td>\n",
       "      <td>0.526667</td>\n",
       "      <td>0.011024</td>\n",
       "      <td>0.246667</td>\n",
       "      <td>0.077165</td>\n",
       "      <td>-1.399717</td>\n",
       "      <td>-2.561805</td>\n",
       "    </tr>\n",
       "  </tbody>\n",
       "</table>\n",
       "</div>"
      ],
      "text/plain": [
       "            FileName   CX   CY    W    H    Class  IMG_H  IMG_W       W/H  \\\n",
       "0   image no (9).jpg  499   54  255  195  hardhat   1500   1125  1.307692   \n",
       "1   image no (9).jpg  383  362  459  739     vest   1500   1125  0.621110   \n",
       "2  image no (10).jpg  239  107  219  173  hardhat   1024    682  1.265896   \n",
       "3  image no (10).jpg   86  349  389  332     vest   1024    682  1.171687   \n",
       "4  image no (11).jpg  158    7   74   49  hardhat    635    300  1.510204   \n",
       "\n",
       "    hdf   wdf   h1   w1        cx        cy         w         h     log_w  \\\n",
       "0  1500  1125  1.0  1.0  0.443556  0.036000  0.226667  0.130000 -1.484275   \n",
       "1  1500  1125  1.0  1.0  0.340444  0.241333  0.408000  0.492667 -0.896488   \n",
       "2  1024   682  1.0  1.0  0.350440  0.104492  0.321114  0.168945 -1.135958   \n",
       "3  1024   682  1.0  1.0  0.126100  0.340820  0.570381  0.324219 -0.561450   \n",
       "4   635   300  1.0  1.0  0.526667  0.011024  0.246667  0.077165 -1.399717   \n",
       "\n",
       "      log_h  \n",
       "0 -2.040221  \n",
       "1 -0.707922  \n",
       "2 -1.778180  \n",
       "3 -1.126337  \n",
       "4 -2.561805  "
      ]
     },
     "execution_count": 211,
     "metadata": {},
     "output_type": "execute_result"
    }
   ],
   "source": [
    "df1.head()"
   ]
  },
  {
   "cell_type": "code",
   "execution_count": 212,
   "metadata": {},
   "outputs": [
    {
     "data": {
      "text/plain": [
       "<matplotlib.collections.PathCollection at 0x1679d7b7448>"
      ]
     },
     "execution_count": 212,
     "metadata": {},
     "output_type": "execute_result"
    },
    {
     "data": {
      "image/png": "[encoded data removed]",
      "text/plain": [
       "<Figure size 432x288 with 1 Axes>"
      ]
     },
     "metadata": {
      "needs_background": "light"
     },
     "output_type": "display_data"
    }
   ],
   "source": [
    "import numpy as np\n",
    "plt.scatter(df1.w,df1.h)\n"
   ]
  },
  {
   "cell_type": "code",
   "execution_count": 213,
   "metadata": {},
   "outputs": [
    {
     "data": {
      "text/plain": [
       "<matplotlib.collections.PathCollection at 0x1679d842348>"
      ]
     },
     "execution_count": 213,
     "metadata": {},
     "output_type": "execute_result"
    },
    {
     "data": {
      "image/png": "[encoded data removed]",
      "text/plain": [
       "<Figure size 432x288 with 1 Axes>"
      ]
     },
     "metadata": {
      "needs_background": "light"
     },
     "output_type": "display_data"
    }
   ],
   "source": [
    "plt.scatter(df1.log_w,df1.log_h,color='orange')"
   ]
  },
  {
   "cell_type": "code",
   "execution_count": 214,
   "metadata": {},
   "outputs": [],
   "source": [
    "#k means\n",
    "import numpy as np\n",
    "import pandas as pd\n",
    "from matplotlib import pyplot as plt\n",
    "from sklearn.datasets.samples_generator import make_blobs\n",
    "from sklearn.cluster import KMeans"
   ]
  },
  {
   "cell_type": "code",
   "execution_count": 222,
   "metadata": {},
   "outputs": [],
   "source": [
    "X1 = df1[['log_w','log_h']]"
   ]
  },
  {
   "cell_type": "code",
   "execution_count": 224,
   "metadata": {},
   "outputs": [
    {
     "data": {
      "image/png": "[encoded data removed]",
      "text/plain": [
       "<Figure size 432x288 with 1 Axes>"
      ]
     },
     "metadata": {
      "needs_background": "light"
     },
     "output_type": "display_data"
    }
   ],
   "source": [
    "wcss = []\n",
    "for i in range(1, 11):\n",
    "    kmeans = KMeans(n_clusters=i, init='k-means++', max_iter=300, n_init=10, random_state=0)\n",
    "    kmeans.fit(X1)\n",
    "    wcss.append(kmeans.inertia_)\n",
    "plt.plot(range(1, 11), wcss)\n",
    "plt.title('Elbow Method')\n",
    "plt.xlabel('Number of clusters')\n",
    "plt.ylabel('WCSS')\n",
    "plt.show()"
   ]
  },
  {
   "cell_type": "code",
   "execution_count": 237,
   "metadata": {},
   "outputs": [
    {
     "data": {
      "image/png": "[encoded data removed]",
      "text/plain": [
       "<Figure size 432x288 with 1 Axes>"
      ]
     },
     "metadata": {
      "needs_background": "light"
     },
     "output_type": "display_data"
    }
   ],
   "source": [
    "kmeans = KMeans(n_clusters=4, init='k-means++', max_iter=300, n_init=10, random_state=0)\n",
    "pred_y = kmeans.fit_predict(X1)\n",
    "plt.scatter(X1.iloc[:,0], X1.iloc[:,1])\n",
    "plt.scatter(kmeans.cluster_centers_[:, 0], kmeans.cluster_centers_[:, 1], s=300, c='red')\n",
    "plt.show()"
   ]
  },
  {
   "cell_type": "code",
   "execution_count": null,
   "metadata": {},
   "outputs": [],
   "source": []
  }
 ],
 "metadata": {
  "kernelspec": {
   "display_name": "Python 3",
   "language": "python",
   "name": "python3"
  },
  "language_info": {
   "codemirror_mode": {
    "name": "ipython",
    "version": 3
   },
   "file_extension": ".py",
   "mimetype": "text/x-python",
   "name": "python",
   "nbconvert_exporter": "python",
   "pygments_lexer": "ipython3",
   "version": "3.7.4"
  }
 },
 "nbformat": 4,
 "nbformat_minor": 2
}
